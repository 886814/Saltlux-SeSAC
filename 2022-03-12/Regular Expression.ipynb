{
 "cells": [
  {
   "cell_type": "code",
   "execution_count": 1,
   "id": "f2869b1d",
   "metadata": {},
   "outputs": [],
   "source": [
    "import re"
   ]
  },
  {
   "cell_type": "code",
   "execution_count": 2,
   "id": "fefc7f3d",
   "metadata": {},
   "outputs": [],
   "source": [
    "source = \"Luke SKywarker 02-123-4567 luke@daum.net\""
   ]
  },
  {
   "cell_type": "code",
   "execution_count": 4,
   "id": "ed34c07d",
   "metadata": {},
   "outputs": [],
   "source": [
    "m1 = re.findall('\\w', source)\n",
    "m2 = re.findall('\\w+', source)"
   ]
  },
  {
   "cell_type": "code",
   "execution_count": 6,
   "id": "1faa2fce",
   "metadata": {},
   "outputs": [
    {
     "name": "stdout",
     "output_type": "stream",
     "text": [
      "m1 : ['L', 'u', 'k', 'e', 'S', 'K', 'y', 'w', 'a', 'r', 'k', 'e', 'r', '0', '2', '1', '2', '3', '4', '5', '6', '7', 'l', 'u', 'k', 'e', 'd', 'a', 'u', 'm', 'n', 'e', 't']\n",
      "m1 : ['Luke', 'SKywarker', '02', '123', '4567', 'luke', 'daum', 'net']\n"
     ]
    }
   ],
   "source": [
    "print(f\"m1 : {m1}\")\n",
    "print(\"m1 : {}\".format(m2))"
   ]
  },
  {
   "cell_type": "code",
   "execution_count": 7,
   "id": "5bae505f",
   "metadata": {},
   "outputs": [],
   "source": [
    "p = re.compile('\\w+')"
   ]
  },
  {
   "cell_type": "code",
   "execution_count": 8,
   "id": "229356cb",
   "metadata": {},
   "outputs": [],
   "source": [
    "m3 = p.findall(source)"
   ]
  },
  {
   "cell_type": "code",
   "execution_count": 10,
   "id": "0d1c41e5",
   "metadata": {},
   "outputs": [
    {
     "name": "stdout",
     "output_type": "stream",
     "text": [
      "m3 : ['Luke', 'SKywarker', '02', '123', '4567', 'luke', 'daum', 'net']\n"
     ]
    }
   ],
   "source": [
    "print(f\"m3 : {m3}\")"
   ]
  },
  {
   "cell_type": "code",
   "execution_count": 11,
   "id": "bec63995",
   "metadata": {},
   "outputs": [],
   "source": [
    "m4 = re.match('[a-z]+', 'python')"
   ]
  },
  {
   "cell_type": "code",
   "execution_count": 12,
   "id": "82d382a9",
   "metadata": {},
   "outputs": [
    {
     "name": "stdout",
     "output_type": "stream",
     "text": [
      "m4 : python\n"
     ]
    }
   ],
   "source": [
    "print(f'm4 : {m4.group()}')"
   ]
  },
  {
   "cell_type": "code",
   "execution_count": 14,
   "id": "88dcb33b",
   "metadata": {},
   "outputs": [],
   "source": [
    "source = \"python pytthon pytttthon pytttttttthon pythhhhhon pyhon\""
   ]
  },
  {
   "cell_type": "code",
   "execution_count": 24,
   "id": "a85fe627",
   "metadata": {},
   "outputs": [],
   "source": [
    "m1 = re.findall(\"pyt{2}hon\",source)\n",
    "m2 = re.findall(\"pyt{2,5}hon\",source)\n",
    "m3 = re.findall(\"pyt{0,}hon\",source)\n",
    "m4 = re.findall(\"pyt{0,1}hon\",source)\n",
    "m5 = re.findall(\"pyt{,5}hon\",source)"
   ]
  },
  {
   "cell_type": "code",
   "execution_count": 17,
   "id": "fb1e5d79",
   "metadata": {},
   "outputs": [
    {
     "name": "stdout",
     "output_type": "stream",
     "text": [
      "m1: ['pytthon']\n"
     ]
    }
   ],
   "source": [
    "print(f\"m1: {m1}\")"
   ]
  },
  {
   "cell_type": "code",
   "execution_count": 18,
   "id": "2a2d6847",
   "metadata": {},
   "outputs": [
    {
     "name": "stdout",
     "output_type": "stream",
     "text": [
      "m2: ['pytthon', 'pytttthon']\n"
     ]
    }
   ],
   "source": [
    "print(f\"m2: {m2}\")"
   ]
  },
  {
   "cell_type": "code",
   "execution_count": 19,
   "id": "dfdfa868",
   "metadata": {},
   "outputs": [
    {
     "name": "stdout",
     "output_type": "stream",
     "text": [
      "m3: ['python', 'pytthon', 'pytttthon', 'pytttttttthon', 'pyhon']\n"
     ]
    }
   ],
   "source": [
    "print(f\"m3: {m3}\")"
   ]
  },
  {
   "cell_type": "code",
   "execution_count": 25,
   "id": "998897ba",
   "metadata": {},
   "outputs": [
    {
     "name": "stdout",
     "output_type": "stream",
     "text": [
      "m4: ['python', 'pyhon']\n"
     ]
    }
   ],
   "source": [
    "print(f\"m4: {m4}\")"
   ]
  },
  {
   "cell_type": "code",
   "execution_count": 21,
   "id": "ee4eaecd",
   "metadata": {},
   "outputs": [
    {
     "name": "stdout",
     "output_type": "stream",
     "text": [
      "m5: ['python', 'pytthon', 'pytttthon', 'pyhon']\n"
     ]
    }
   ],
   "source": [
    "print(f\"m5: {m5}\")"
   ]
  },
  {
   "cell_type": "code",
   "execution_count": 26,
   "id": "d6ca3267",
   "metadata": {},
   "outputs": [],
   "source": [
    "source = \"py pyt pyth pytho python pycham\""
   ]
  },
  {
   "cell_type": "code",
   "execution_count": 27,
   "id": "6e39a419",
   "metadata": {},
   "outputs": [],
   "source": [
    "m1 = re.findall(\"py?\", source)"
   ]
  },
  {
   "cell_type": "code",
   "execution_count": 30,
   "id": "d6848a91",
   "metadata": {},
   "outputs": [
    {
     "name": "stdout",
     "output_type": "stream",
     "text": [
      "m1: ['py', 'py', 'py', 'py', 'py', 'py']\n"
     ]
    }
   ],
   "source": [
    "print(f\"m1: {m1}\")"
   ]
  },
  {
   "cell_type": "code",
   "execution_count": 31,
   "id": "3d69d38c",
   "metadata": {},
   "outputs": [],
   "source": [
    "source = \"<li>나이키</li><li>아디다스</li><li>퓨마</li>\" "
   ]
  },
  {
   "cell_type": "code",
   "execution_count": 32,
   "id": "17550e09",
   "metadata": {},
   "outputs": [],
   "source": [
    "m = re.match('<li>.*</li>',source)"
   ]
  },
  {
   "cell_type": "code",
   "execution_count": 33,
   "id": "41542026",
   "metadata": {},
   "outputs": [
    {
     "name": "stdout",
     "output_type": "stream",
     "text": [
      "<li>나이키</li><li>아디다스</li><li>퓨마</li>\n"
     ]
    }
   ],
   "source": [
    "if m:\n",
    "    print(m.group())"
   ]
  },
  {
   "cell_type": "code",
   "execution_count": 34,
   "id": "fbb08889",
   "metadata": {},
   "outputs": [],
   "source": [
    "m = re.match('<li>.*?</li>',source)"
   ]
  },
  {
   "cell_type": "code",
   "execution_count": 35,
   "id": "eae9a88a",
   "metadata": {},
   "outputs": [
    {
     "name": "stdout",
     "output_type": "stream",
     "text": [
      "<li>나이키</li>\n"
     ]
    }
   ],
   "source": [
    "if m:\n",
    "    print(m.group())"
   ]
  },
  {
   "cell_type": "code",
   "execution_count": 36,
   "id": "7eba5619",
   "metadata": {},
   "outputs": [],
   "source": [
    "p = re.compile('a|b')"
   ]
  },
  {
   "cell_type": "code",
   "execution_count": 37,
   "id": "f1042592",
   "metadata": {},
   "outputs": [],
   "source": [
    "m = p.findall('abcdefgh')"
   ]
  },
  {
   "cell_type": "code",
   "execution_count": 38,
   "id": "28fd8021",
   "metadata": {},
   "outputs": [
    {
     "name": "stdout",
     "output_type": "stream",
     "text": [
      "['a', 'b']\n"
     ]
    }
   ],
   "source": [
    "print(m)"
   ]
  },
  {
   "cell_type": "code",
   "execution_count": 42,
   "id": "b2e4b032",
   "metadata": {},
   "outputs": [],
   "source": [
    "m1 = re.findall(\"^Life\", \"Life is too short\")"
   ]
  },
  {
   "cell_type": "code",
   "execution_count": 43,
   "id": "54547300",
   "metadata": {},
   "outputs": [],
   "source": [
    "m2 = re.findall(\"^is\", \"Life is too short\")"
   ]
  },
  {
   "cell_type": "code",
   "execution_count": 44,
   "id": "e2facc23",
   "metadata": {},
   "outputs": [
    {
     "name": "stdout",
     "output_type": "stream",
     "text": [
      "m1: ['Life']\n"
     ]
    }
   ],
   "source": [
    "print(f\"m1: {m1}\")"
   ]
  },
  {
   "cell_type": "code",
   "execution_count": 45,
   "id": "d33ac6a2",
   "metadata": {},
   "outputs": [
    {
     "name": "stdout",
     "output_type": "stream",
     "text": [
      "m2: []\n"
     ]
    }
   ],
   "source": [
    "print(f\"m2: {m2}\")"
   ]
  },
  {
   "cell_type": "code",
   "execution_count": 46,
   "id": "1182b294",
   "metadata": {},
   "outputs": [],
   "source": [
    "m3 = re.findall(\"short$\", \"Life is too short\")"
   ]
  },
  {
   "cell_type": "code",
   "execution_count": 47,
   "id": "609c3bce",
   "metadata": {},
   "outputs": [],
   "source": [
    "m4 = re.findall(\"short$\", \"Life is too short. So what?\")"
   ]
  },
  {
   "cell_type": "code",
   "execution_count": 48,
   "id": "092308d8",
   "metadata": {},
   "outputs": [
    {
     "name": "stdout",
     "output_type": "stream",
     "text": [
      "m3: ['short']\n"
     ]
    }
   ],
   "source": [
    "print(f\"m3: {m3}\")"
   ]
  },
  {
   "cell_type": "code",
   "execution_count": 49,
   "id": "cac19652",
   "metadata": {},
   "outputs": [
    {
     "name": "stdout",
     "output_type": "stream",
     "text": [
      "m4: []\n"
     ]
    }
   ],
   "source": [
    "print(f\"m4: {m4}\")"
   ]
  },
  {
   "cell_type": "code",
   "execution_count": 51,
   "id": "11f5c097",
   "metadata": {},
   "outputs": [],
   "source": [
    "source = \"lee 010-2222-3333\""
   ]
  },
  {
   "cell_type": "code",
   "execution_count": 52,
   "id": "76fb299c",
   "metadata": {},
   "outputs": [],
   "source": [
    "p = re.compile(\"(\\w+)\\s+(\\d+[-]\\d+[-]\\d+)\")"
   ]
  },
  {
   "cell_type": "code",
   "execution_count": 57,
   "id": "5cf35209",
   "metadata": {},
   "outputs": [],
   "source": [
    "m1 = p.findall(source)"
   ]
  },
  {
   "cell_type": "code",
   "execution_count": 60,
   "id": "cba6f24a",
   "metadata": {},
   "outputs": [
    {
     "name": "stdout",
     "output_type": "stream",
     "text": [
      "m1: [('lee', '010-2222-3333')]\n"
     ]
    }
   ],
   "source": [
    "print(f\"m1: {m1}\")"
   ]
  },
  {
   "cell_type": "code",
   "execution_count": 59,
   "id": "634b8604",
   "metadata": {},
   "outputs": [],
   "source": [
    "m2 = p.search(source)"
   ]
  },
  {
   "cell_type": "code",
   "execution_count": 62,
   "id": "255553e9",
   "metadata": {},
   "outputs": [
    {
     "name": "stdout",
     "output_type": "stream",
     "text": [
      "m2.group(): lee 010-2222-3333\n"
     ]
    }
   ],
   "source": [
    "print(f\"m2.group(): {m2.group()}\")"
   ]
  },
  {
   "cell_type": "code",
   "execution_count": 63,
   "id": "b2b03cf0",
   "metadata": {},
   "outputs": [
    {
     "name": "stdout",
     "output_type": "stream",
     "text": [
      "m2.group(1): lee\n"
     ]
    }
   ],
   "source": [
    "print(f\"m2.group(1): {m2.group(1)}\")"
   ]
  },
  {
   "cell_type": "code",
   "execution_count": 64,
   "id": "96a50469",
   "metadata": {},
   "outputs": [
    {
     "name": "stdout",
     "output_type": "stream",
     "text": [
      "m2.group(2): 010-2222-3333\n"
     ]
    }
   ],
   "source": [
    "print(f\"m2.group(2): {m2.group(2)}\")"
   ]
  },
  {
   "cell_type": "code",
   "execution_count": 65,
   "id": "253eacb3",
   "metadata": {},
   "outputs": [],
   "source": [
    "source = \"All That Is Goold Does Not Glitter\""
   ]
  },
  {
   "cell_type": "code",
   "execution_count": 70,
   "id": "aa755183",
   "metadata": {},
   "outputs": [],
   "source": [
    "match = re.match(\"Not\", source)"
   ]
  },
  {
   "cell_type": "code",
   "execution_count": 74,
   "id": "9193c2b6",
   "metadata": {},
   "outputs": [],
   "source": [
    "search = re.search(\"Not\", source)"
   ]
  },
  {
   "cell_type": "code",
   "execution_count": 75,
   "id": "802a00b9",
   "metadata": {},
   "outputs": [
    {
     "name": "stdout",
     "output_type": "stream",
     "text": [
      "match: Not\n"
     ]
    }
   ],
   "source": [
    "if match:\n",
    "    print(f\"match: {match.group()}\")"
   ]
  },
  {
   "cell_type": "code",
   "execution_count": 76,
   "id": "2e1a690a",
   "metadata": {},
   "outputs": [
    {
     "name": "stdout",
     "output_type": "stream",
     "text": [
      "search: Not\n"
     ]
    }
   ],
   "source": [
    "if search:\n",
    "    print(f\"search: {search.group()}\")"
   ]
  },
  {
   "cell_type": "code",
   "execution_count": 77,
   "id": "9fbbd235",
   "metadata": {},
   "outputs": [],
   "source": [
    "match = re.match(\"All\", source)"
   ]
  },
  {
   "cell_type": "code",
   "execution_count": 79,
   "id": "78546df5",
   "metadata": {},
   "outputs": [],
   "source": [
    "search = re.match(\"All\", source)"
   ]
  },
  {
   "cell_type": "code",
   "execution_count": 80,
   "id": "2788ddda",
   "metadata": {},
   "outputs": [
    {
     "name": "stdout",
     "output_type": "stream",
     "text": [
      "match: All\n"
     ]
    }
   ],
   "source": [
    "if match:\n",
    "    print(f\"match: {match.group()}\")"
   ]
  },
  {
   "cell_type": "code",
   "execution_count": 81,
   "id": "00923d80",
   "metadata": {},
   "outputs": [
    {
     "name": "stdout",
     "output_type": "stream",
     "text": [
      "search: All\n"
     ]
    }
   ],
   "source": [
    "if search:\n",
    "    print(f\"search: {search.group()}\")"
   ]
  },
  {
   "cell_type": "code",
   "execution_count": 82,
   "id": "af758ff7",
   "metadata": {},
   "outputs": [],
   "source": [
    "p = re.compile('[a-z]+')"
   ]
  },
  {
   "cell_type": "code",
   "execution_count": 83,
   "id": "175fbe31",
   "metadata": {},
   "outputs": [],
   "source": [
    "m = p.findall('Life is to short')"
   ]
  },
  {
   "cell_type": "code",
   "execution_count": 84,
   "id": "676e895e",
   "metadata": {},
   "outputs": [
    {
     "name": "stdout",
     "output_type": "stream",
     "text": [
      "['ife', 'is', 'to', 'short']\n"
     ]
    }
   ],
   "source": [
    "print(m)"
   ]
  },
  {
   "cell_type": "code",
   "execution_count": 85,
   "id": "3e53dc3c",
   "metadata": {},
   "outputs": [
    {
     "name": "stdout",
     "output_type": "stream",
     "text": [
      "<class 'list'>\n"
     ]
    }
   ],
   "source": [
    "print(type(m))"
   ]
  },
  {
   "cell_type": "code",
   "execution_count": 86,
   "id": "8d4fe77a",
   "metadata": {},
   "outputs": [],
   "source": [
    "m2 = p.finditer('Life is to short')"
   ]
  },
  {
   "cell_type": "code",
   "execution_count": 89,
   "id": "20cd8ee1",
   "metadata": {},
   "outputs": [
    {
     "name": "stdout",
     "output_type": "stream",
     "text": [
      "m2: <callable_iterator object at 0x000001C1DBF4CAF0>\n"
     ]
    }
   ],
   "source": [
    "print(f\"m2: {m2}\")"
   ]
  },
  {
   "cell_type": "code",
   "execution_count": 90,
   "id": "0bbfaa72",
   "metadata": {},
   "outputs": [
    {
     "name": "stdout",
     "output_type": "stream",
     "text": [
      "type(m2): <class 'callable_iterator'>\n"
     ]
    }
   ],
   "source": [
    "print(f\"type(m2): {type(m2)}\")"
   ]
  },
  {
   "cell_type": "code",
   "execution_count": 92,
   "id": "4a6e7350",
   "metadata": {},
   "outputs": [],
   "source": [
    "for r in m2:\n",
    "    if r:\n",
    "        print(r, text[r.start():r.end()], r.group())"
   ]
  },
  {
   "cell_type": "code",
   "execution_count": 97,
   "id": "62d37ef3",
   "metadata": {},
   "outputs": [],
   "source": [
    "text = \"The agent's phone number is 555-999-1234. Call soon!\""
   ]
  },
  {
   "cell_type": "code",
   "execution_count": 98,
   "id": "ea435c68",
   "metadata": {},
   "outputs": [],
   "source": [
    "pattern = 'phone'\n",
    "match = re.search(pattern, text)"
   ]
  },
  {
   "cell_type": "code",
   "execution_count": 99,
   "id": "31668e87",
   "metadata": {},
   "outputs": [
    {
     "data": {
      "text/plain": [
       "<re.Match object; span=(12, 17), match='phone'>"
      ]
     },
     "execution_count": 99,
     "metadata": {},
     "output_type": "execute_result"
    }
   ],
   "source": [
    "match"
   ]
  },
  {
   "cell_type": "code",
   "execution_count": 100,
   "id": "ece7c8a5",
   "metadata": {},
   "outputs": [
    {
     "data": {
      "text/plain": [
       "(12, 17)"
      ]
     },
     "execution_count": 100,
     "metadata": {},
     "output_type": "execute_result"
    }
   ],
   "source": [
    "match.span()"
   ]
  },
  {
   "cell_type": "code",
   "execution_count": 102,
   "id": "51f28d91",
   "metadata": {},
   "outputs": [
    {
     "name": "stdout",
     "output_type": "stream",
     "text": [
      "start: 12, end: 17\n"
     ]
    }
   ],
   "source": [
    "print(f\"start: {match.start()}, end: {match.end()}\")"
   ]
  },
  {
   "cell_type": "code",
   "execution_count": 103,
   "id": "1b45b15b",
   "metadata": {},
   "outputs": [],
   "source": [
    "text = \"my phone is a new phone\""
   ]
  },
  {
   "cell_type": "code",
   "execution_count": 104,
   "id": "159a1004",
   "metadata": {},
   "outputs": [],
   "source": [
    "match = re.search(\"phone\",text)"
   ]
  },
  {
   "cell_type": "code",
   "execution_count": 105,
   "id": "3c6c2db7",
   "metadata": {},
   "outputs": [],
   "source": [
    "matches = re.findall(\"phone\", text)"
   ]
  },
  {
   "cell_type": "code",
   "execution_count": 106,
   "id": "dad13f5b",
   "metadata": {},
   "outputs": [
    {
     "data": {
      "text/plain": [
       "['phone', 'phone']"
      ]
     },
     "execution_count": 106,
     "metadata": {},
     "output_type": "execute_result"
    }
   ],
   "source": [
    "matches"
   ]
  },
  {
   "cell_type": "code",
   "execution_count": 107,
   "id": "cbbe1e04",
   "metadata": {},
   "outputs": [
    {
     "data": {
      "text/plain": [
       "2"
      ]
     },
     "execution_count": 107,
     "metadata": {},
     "output_type": "execute_result"
    }
   ],
   "source": [
    "len(matches)"
   ]
  },
  {
   "cell_type": "code",
   "execution_count": 108,
   "id": "d07d357d",
   "metadata": {},
   "outputs": [
    {
     "name": "stdout",
     "output_type": "stream",
     "text": [
      "(3, 8)\n",
      "(18, 23)\n"
     ]
    }
   ],
   "source": [
    "for match in re.finditer(\"phone\", text):\n",
    "    print(match.span())"
   ]
  },
  {
   "cell_type": "code",
   "execution_count": 109,
   "id": "187e26db",
   "metadata": {},
   "outputs": [
    {
     "data": {
      "text/plain": [
       "'phone'"
      ]
     },
     "execution_count": 109,
     "metadata": {},
     "output_type": "execute_result"
    }
   ],
   "source": [
    "match.group()"
   ]
  },
  {
   "cell_type": "code",
   "execution_count": 110,
   "id": "b08f64a3",
   "metadata": {},
   "outputs": [],
   "source": [
    "# \\d, \\w, \\s, \\D, \\W, \\S"
   ]
  },
  {
   "cell_type": "code",
   "execution_count": 111,
   "id": "9c644124",
   "metadata": {},
   "outputs": [],
   "source": [
    "text = \"Mytelephone number is 010-3333-4444\""
   ]
  },
  {
   "cell_type": "code",
   "execution_count": 113,
   "id": "26c341c2",
   "metadata": {},
   "outputs": [],
   "source": [
    "# 전화번호 검색\n",
    "p = re.compile(r\"\\d\\d\\d-\\d\\d\\d\\d-\\d\\d\\d\\d\")"
   ]
  },
  {
   "cell_type": "code",
   "execution_count": 114,
   "id": "47a73b6d",
   "metadata": {},
   "outputs": [],
   "source": [
    "phone = re.search(p,text)"
   ]
  },
  {
   "cell_type": "code",
   "execution_count": 115,
   "id": "20a8a897",
   "metadata": {},
   "outputs": [
    {
     "data": {
      "text/plain": [
       "'010-3333-4444'"
      ]
     },
     "execution_count": 115,
     "metadata": {},
     "output_type": "execute_result"
    }
   ],
   "source": [
    "phone.group()"
   ]
  },
  {
   "cell_type": "code",
   "execution_count": 116,
   "id": "501c5910",
   "metadata": {},
   "outputs": [
    {
     "data": {
      "text/plain": [
       "<re.Match object; span=(22, 35), match='010-3333-4444'>"
      ]
     },
     "execution_count": 116,
     "metadata": {},
     "output_type": "execute_result"
    }
   ],
   "source": [
    "re.search(r'\\d{3}-\\d{4}-\\d{4}', text)"
   ]
  },
  {
   "cell_type": "code",
   "execution_count": 122,
   "id": "6c8e2f36",
   "metadata": {},
   "outputs": [],
   "source": [
    "phone_pattern = re.compile(r'(\\d{3})-(\\d{4})-(\\d{4})')"
   ]
  },
  {
   "cell_type": "code",
   "execution_count": 124,
   "id": "5933d7cc",
   "metadata": {},
   "outputs": [],
   "source": [
    "results = re.search(phone_pattern, text)"
   ]
  },
  {
   "cell_type": "code",
   "execution_count": 125,
   "id": "c7901e19",
   "metadata": {},
   "outputs": [
    {
     "data": {
      "text/plain": [
       "'010-3333-4444'"
      ]
     },
     "execution_count": 125,
     "metadata": {},
     "output_type": "execute_result"
    }
   ],
   "source": [
    "results.group()"
   ]
  },
  {
   "cell_type": "code",
   "execution_count": 127,
   "id": "85c09982",
   "metadata": {},
   "outputs": [
    {
     "data": {
      "text/plain": [
       "'010'"
      ]
     },
     "execution_count": 127,
     "metadata": {},
     "output_type": "execute_result"
    }
   ],
   "source": [
    "results.group(1)"
   ]
  },
  {
   "cell_type": "code",
   "execution_count": 128,
   "id": "20ce5303",
   "metadata": {},
   "outputs": [
    {
     "data": {
      "text/plain": [
       "'3333'"
      ]
     },
     "execution_count": 128,
     "metadata": {},
     "output_type": "execute_result"
    }
   ],
   "source": [
    "results.group(2)"
   ]
  },
  {
   "cell_type": "code",
   "execution_count": 129,
   "id": "8eb6a137",
   "metadata": {},
   "outputs": [
    {
     "data": {
      "text/plain": [
       "'4444'"
      ]
     },
     "execution_count": 129,
     "metadata": {},
     "output_type": "execute_result"
    }
   ],
   "source": [
    "results.group(3)"
   ]
  }
 ],
 "metadata": {
  "kernelspec": {
   "display_name": "Python 3 (ipykernel)",
   "language": "python",
   "name": "python3"
  },
  "language_info": {
   "codemirror_mode": {
    "name": "ipython",
    "version": 3
   },
   "file_extension": ".py",
   "mimetype": "text/x-python",
   "name": "python",
   "nbconvert_exporter": "python",
   "pygments_lexer": "ipython3",
   "version": "3.9.7"
  }
 },
 "nbformat": 4,
 "nbformat_minor": 5
}
