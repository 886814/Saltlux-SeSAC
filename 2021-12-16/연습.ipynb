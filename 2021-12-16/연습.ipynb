{
 "cells": [
  {
   "cell_type": "code",
   "execution_count": 2,
   "id": "b5297fad",
   "metadata": {},
   "outputs": [],
   "source": [
    "import numpy as np\n",
    "import pandas as pd\n",
    "from scipy import stats\n",
    "import matplotlib.pyplot as plt\n",
    "import seaborn as sns\n",
    "from statsmodels.stats.proportion import proportions_ztest"
   ]
  },
  {
   "cell_type": "code",
   "execution_count": 3,
   "id": "f7ef79d7",
   "metadata": {},
   "outputs": [],
   "source": [
    "df = pd.read_csv('C:/Users/black/Downloads/솔트룩스/data/data_norm.csv')"
   ]
  },
  {
   "cell_type": "code",
   "execution_count": 9,
   "id": "d876acd7",
   "metadata": {},
   "outputs": [
    {
     "data": {
      "text/html": [
       "<div>\n",
       "<style scoped>\n",
       "    .dataframe tbody tr th:only-of-type {\n",
       "        vertical-align: middle;\n",
       "    }\n",
       "\n",
       "    .dataframe tbody tr th {\n",
       "        vertical-align: top;\n",
       "    }\n",
       "\n",
       "    .dataframe thead th {\n",
       "        text-align: right;\n",
       "    }\n",
       "</style>\n",
       "<table border=\"1\" class=\"dataframe\">\n",
       "  <thead>\n",
       "    <tr style=\"text-align: right;\">\n",
       "      <th></th>\n",
       "      <th>sample</th>\n",
       "    </tr>\n",
       "  </thead>\n",
       "  <tbody>\n",
       "    <tr>\n",
       "      <th>0</th>\n",
       "      <td>74.5</td>\n",
       "    </tr>\n",
       "    <tr>\n",
       "      <th>1</th>\n",
       "      <td>81.2</td>\n",
       "    </tr>\n",
       "    <tr>\n",
       "      <th>2</th>\n",
       "      <td>73.8</td>\n",
       "    </tr>\n",
       "    <tr>\n",
       "      <th>3</th>\n",
       "      <td>82.0</td>\n",
       "    </tr>\n",
       "    <tr>\n",
       "      <th>4</th>\n",
       "      <td>76.3</td>\n",
       "    </tr>\n",
       "  </tbody>\n",
       "</table>\n",
       "</div>"
      ],
      "text/plain": [
       "   sample\n",
       "0    74.5\n",
       "1    81.2\n",
       "2    73.8\n",
       "3    82.0\n",
       "4    76.3"
      ]
     },
     "execution_count": 9,
     "metadata": {},
     "output_type": "execute_result"
    }
   ],
   "source": [
    "df.head()"
   ]
  },
  {
   "cell_type": "code",
   "execution_count": 14,
   "id": "983d7fb0",
   "metadata": {},
   "outputs": [
    {
     "name": "stdout",
     "output_type": "stream",
     "text": [
      "The Shapiro-Willkis Statistic is 0.933 and the p-value is 0.480\n",
      "1-Sample t-test\n",
      "t검정통계량: [0.864]\n",
      "p-value: [0.41].\n"
     ]
    }
   ],
   "source": [
    "# 정규성 검정\n",
    "x = stats.shapiro(df)\n",
    "print('The Shapiro-Willkis Statistic is %.3f and the p-value is %.3f' %x)\n",
    "\n",
    "# 1-Sample t-test\n",
    "t_result = stats.ttest_1samp(df,76.7)\n",
    "t,p = t_result.statistic.round(3), t_result.pvalue.round(3)\n",
    "print(\"1-Sample t-test\")\n",
    "print(\"t검정통계량: {}\".format(t))\n",
    "print(\"p-value: {}.\".format(p))"
   ]
  },
  {
   "cell_type": "code",
   "execution_count": 18,
   "id": "be5d4752",
   "metadata": {},
   "outputs": [
    {
     "name": "stdout",
     "output_type": "stream",
     "text": [
      "The Shapiro-Willkis Statistic is 0.909 and the p-value is 0.062\n",
      "The Shapiro-Willkis Statistic is 0.898 and the p-value is 0.038\n",
      "등분산검정결과 p-value는 0.642\n",
      "2-Sample t-test\n",
      "t검정통계량: -3.122\n",
      "p-value: 0.003\n"
     ]
    }
   ],
   "source": [
    "df_a = pd.read_csv('C:/Users/black/Downloads/솔트룩스/data/data_sampt1.csv')\n",
    "df_b = pd.read_csv('C:/Users/black/Downloads/솔트룩스/data/data_sampt2.csv')\n",
    "\n",
    "# 정규성 검정\n",
    "x = stats.shapiro(df_a)\n",
    "print('The Shapiro-Willkis Statistic is %.3f and the p-value is %.3f' %x)\n",
    "y = stats.shapiro(df_b)\n",
    "print('The Shapiro-Willkis Statistic is %.3f and the p-value is %.3f' %y)\n",
    "\n",
    "#  등분산성 검정\n",
    "stat, p= stats.bartlett(df_a['sample'], df_b['sample'])\n",
    "print(\"등분산검정결과 p-value는 %.3f\" %p)\n",
    "\n",
    "# 2-Sample t-test\n",
    "t_result = stats.ttest_ind(df_a['sample'], df_b['sample'],equal_var = True)\n",
    "t,p = t_result.statistic.round(3), t_result.pvalue.round(3)\n",
    "\n",
    "print(\"2-Sample t-test\")\n",
    "print(\"t검정통계량: {}\".format(t))\n",
    "print(\"p-value: {}\".format(p))"
   ]
  },
  {
   "cell_type": "code",
   "execution_count": 26,
   "id": "33f0c841",
   "metadata": {},
   "outputs": [
    {
     "name": "stdout",
     "output_type": "stream",
     "text": [
      "The Shapiro-Willkis Statistic is 0.871 and the p-value is 0.104\n",
      "The Shapiro-Willkis Statistic is 0.837 and the p-value is 0.040\n",
      "등분산검정결과 p-value는 0.401\n",
      "Paired t-test\n",
      "t검정통계량: -5.324\n",
      "p-value: 0.0\n"
     ]
    }
   ],
   "source": [
    "df = pd.read_csv('C:/Users/black/Downloads/솔트룩스/data/data_pair.csv')\n",
    "\n",
    "# 정규성 검정\n",
    "x = stats.shapiro(df['before'])\n",
    "print('The Shapiro-Willkis Statistic is %.3f and the p-value is %.3f' %x)\n",
    "y = stats.shapiro(df['after'])\n",
    "print('The Shapiro-Willkis Statistic is %.3f and the p-value is %.3f' %y)\n",
    "\n",
    "#  등분산성 검정\n",
    "stat, p= stats.bartlett(df['before'], df['after'])\n",
    "print(\"등분산검정결과 p-value는 %.3f\" %p)\n",
    "\n",
    "# Paired t-test\n",
    "t_result = stats.ttest_rel(df['before'], df['after'])\n",
    "\n",
    "t,p = t_result.statistic.round(3), t_result.pvalue.round(3)\n",
    "\n",
    "print(\"Paired t-test\")\n",
    "print(\"t검정통계량: {}\".format(t))\n",
    "print(\"p-value: {}\".format(p))"
   ]
  },
  {
   "cell_type": "code",
   "execution_count": 30,
   "id": "2cae6f70",
   "metadata": {},
   "outputs": [
    {
     "name": "stdout",
     "output_type": "stream",
     "text": [
      "Paired t-test\n",
      "p검정통계량: 1.4002800840280094\n",
      "p-value: 0.16142946236708322\n"
     ]
    }
   ],
   "source": [
    "count = 15\n",
    "nobs = 100\n",
    "value = .1\n",
    "\n",
    "# proportion test 실행\n",
    "stat, pval = proportions_ztest(count,nobs,value)\n",
    "\n",
    "print(\"Paired t-test\")\n",
    "print(\"p검정통계량: {}\".format(stat))\n",
    "print(\"p-value: {}\".format(pval))"
   ]
  },
  {
   "cell_type": "code",
   "execution_count": 31,
   "id": "88ae5e4c",
   "metadata": {},
   "outputs": [
    {
     "name": "stdout",
     "output_type": "stream",
     "text": [
      "Paired t-test\n",
      "p검정통계량: 1.553109404737079\n",
      "p-value: 0.12039699966295712\n"
     ]
    }
   ],
   "source": [
    "count = np.array([4,1])\n",
    "nobs = np.array([1000,1200])\n",
    "\n",
    "# proportiono test 실행\n",
    "stat,pval = proportions_ztest(count,nobs)\n",
    "\n",
    "print(\"Paired t-test\")\n",
    "print(\"p검정통계량: {}\".format(stat))\n",
    "print(\"p-value: {}\".format(pval))"
   ]
  },
  {
   "cell_type": "code",
   "execution_count": 32,
   "id": "5a329781",
   "metadata": {},
   "outputs": [
    {
     "data": {
      "text/plain": [
       "BartlettResult(statistic=0.2158392670118528, pvalue=0.6422286416307027)"
      ]
     },
     "execution_count": 32,
     "metadata": {},
     "output_type": "execute_result"
    }
   ],
   "source": [
    "df = pd.read_csv('C:/Users/black/Downloads/솔트룩스/data/data_var.csv')\n",
    "\n",
    "# 등분산성 검정\n",
    "stats.bartlett(df['A'],df['B'])"
   ]
  },
  {
   "cell_type": "code",
   "execution_count": 33,
   "id": "9fb0686e",
   "metadata": {},
   "outputs": [
    {
     "data": {
      "text/html": [
       "<div>\n",
       "<style scoped>\n",
       "    .dataframe tbody tr th:only-of-type {\n",
       "        vertical-align: middle;\n",
       "    }\n",
       "\n",
       "    .dataframe tbody tr th {\n",
       "        vertical-align: top;\n",
       "    }\n",
       "\n",
       "    .dataframe thead th {\n",
       "        text-align: right;\n",
       "    }\n",
       "</style>\n",
       "<table border=\"1\" class=\"dataframe\">\n",
       "  <thead>\n",
       "    <tr style=\"text-align: right;\">\n",
       "      <th></th>\n",
       "      <th>minutes</th>\n",
       "      <th>units</th>\n",
       "    </tr>\n",
       "  </thead>\n",
       "  <tbody>\n",
       "    <tr>\n",
       "      <th>0</th>\n",
       "      <td>1</td>\n",
       "      <td>23</td>\n",
       "    </tr>\n",
       "    <tr>\n",
       "      <th>1</th>\n",
       "      <td>2</td>\n",
       "      <td>29</td>\n",
       "    </tr>\n",
       "    <tr>\n",
       "      <th>2</th>\n",
       "      <td>3</td>\n",
       "      <td>49</td>\n",
       "    </tr>\n",
       "    <tr>\n",
       "      <th>3</th>\n",
       "      <td>4</td>\n",
       "      <td>64</td>\n",
       "    </tr>\n",
       "    <tr>\n",
       "      <th>4</th>\n",
       "      <td>4</td>\n",
       "      <td>74</td>\n",
       "    </tr>\n",
       "  </tbody>\n",
       "</table>\n",
       "</div>"
      ],
      "text/plain": [
       "   minutes  units\n",
       "0        1     23\n",
       "1        2     29\n",
       "2        3     49\n",
       "3        4     64\n",
       "4        4     74"
      ]
     },
     "execution_count": 33,
     "metadata": {},
     "output_type": "execute_result"
    }
   ],
   "source": [
    "df = pd.read_csv('C:/Users/black/Downloads/솔트룩스/data/data_cor.csv')\n",
    "df.head()"
   ]
  },
  {
   "cell_type": "code",
   "execution_count": 36,
   "id": "906ada71",
   "metadata": {},
   "outputs": [],
   "source": [
    "corr, pval = stats.pearsonr(df['minutes'], df['units'])"
   ]
  },
  {
   "cell_type": "code",
   "execution_count": 37,
   "id": "7b91b2f5",
   "metadata": {},
   "outputs": [
    {
     "name": "stdout",
     "output_type": "stream",
     "text": [
      "Correlation Analysis\n",
      "corr:  0.989\n",
      "p:0.000\n"
     ]
    }
   ],
   "source": [
    "print('Correlation Analysis')\n",
    "print(\"corr: {0: 0.3f}\".format(corr))\n",
    "print(\"p:{0:0.3f}\".format(pval))"
   ]
  },
  {
   "cell_type": "code",
   "execution_count": 38,
   "id": "3a9b8273",
   "metadata": {},
   "outputs": [
    {
     "name": "stdout",
     "output_type": "stream",
     "text": [
      "Chi-square test\n",
      "corr:  13.366\n",
      "p:0.038\n",
      "degree pf freedom: 6\n",
      "expected value: \n",
      "[[258.333 258.333 258.333]\n",
      " [276.333 276.333 276.333]\n",
      " [230.667 230.667 230.667]\n",
      " [234.667 234.667 234.667]]\n"
     ]
    }
   ],
   "source": [
    "df = pd.read_csv('C:/Users/black/Downloads/솔트룩스/data/data_chi.csv',encoding = 'euc-kr')\n",
    "\n",
    "# chi-square test 실행\n",
    "chi, pval, dof, expected = stats.chi2_contingency(df)\n",
    "\n",
    "print('Chi-square test')\n",
    "print(\"corr: {0: 0.3f}\".format(chi))\n",
    "print(\"p:{0:0.3f}\".format(pval))\n",
    "print(\"degree pf freedom: {}\".format(dof))\n",
    "print('expected value: \\n{}'.format(expected.round(3)))"
   ]
  },
  {
   "cell_type": "code",
   "execution_count": null,
   "id": "17375215",
   "metadata": {},
   "outputs": [],
   "source": []
  },
  {
   "cell_type": "code",
   "execution_count": null,
   "id": "54dd06a6",
   "metadata": {},
   "outputs": [],
   "source": []
  },
  {
   "cell_type": "code",
   "execution_count": null,
   "id": "5e1aa773",
   "metadata": {},
   "outputs": [],
   "source": []
  },
  {
   "cell_type": "code",
   "execution_count": null,
   "id": "42ffd835",
   "metadata": {},
   "outputs": [],
   "source": []
  },
  {
   "cell_type": "code",
   "execution_count": null,
   "id": "4b8a6080",
   "metadata": {},
   "outputs": [],
   "source": []
  },
  {
   "cell_type": "code",
   "execution_count": null,
   "id": "639b9973",
   "metadata": {},
   "outputs": [],
   "source": []
  },
  {
   "cell_type": "code",
   "execution_count": null,
   "id": "670b0652",
   "metadata": {},
   "outputs": [],
   "source": []
  },
  {
   "cell_type": "code",
   "execution_count": null,
   "id": "adef9afd",
   "metadata": {},
   "outputs": [],
   "source": []
  },
  {
   "cell_type": "code",
   "execution_count": null,
   "id": "50b40487",
   "metadata": {},
   "outputs": [],
   "source": []
  },
  {
   "cell_type": "code",
   "execution_count": null,
   "id": "411fe5fa",
   "metadata": {},
   "outputs": [],
   "source": []
  },
  {
   "cell_type": "code",
   "execution_count": null,
   "id": "de317818",
   "metadata": {},
   "outputs": [],
   "source": []
  },
  {
   "cell_type": "code",
   "execution_count": null,
   "id": "a17a31ff",
   "metadata": {},
   "outputs": [],
   "source": []
  },
  {
   "cell_type": "code",
   "execution_count": null,
   "id": "5b8d190e",
   "metadata": {},
   "outputs": [],
   "source": []
  },
  {
   "cell_type": "code",
   "execution_count": null,
   "id": "ad68ce74",
   "metadata": {},
   "outputs": [],
   "source": []
  },
  {
   "cell_type": "code",
   "execution_count": null,
   "id": "8609b65c",
   "metadata": {},
   "outputs": [],
   "source": []
  },
  {
   "cell_type": "code",
   "execution_count": null,
   "id": "ac64fc01",
   "metadata": {},
   "outputs": [],
   "source": []
  },
  {
   "cell_type": "code",
   "execution_count": null,
   "id": "86a957da",
   "metadata": {},
   "outputs": [],
   "source": []
  },
  {
   "cell_type": "code",
   "execution_count": null,
   "id": "ce7a3910",
   "metadata": {},
   "outputs": [],
   "source": []
  },
  {
   "cell_type": "code",
   "execution_count": null,
   "id": "21a2b3d1",
   "metadata": {},
   "outputs": [],
   "source": []
  },
  {
   "cell_type": "code",
   "execution_count": null,
   "id": "0e98772f",
   "metadata": {},
   "outputs": [],
   "source": []
  },
  {
   "cell_type": "code",
   "execution_count": null,
   "id": "ed478c43",
   "metadata": {},
   "outputs": [],
   "source": []
  },
  {
   "cell_type": "code",
   "execution_count": null,
   "id": "ef36479c",
   "metadata": {},
   "outputs": [],
   "source": []
  }
 ],
 "metadata": {
  "kernelspec": {
   "display_name": "Python 3",
   "language": "python",
   "name": "python3"
  },
  "language_info": {
   "codemirror_mode": {
    "name": "ipython",
    "version": 3
   },
   "file_extension": ".py",
   "mimetype": "text/x-python",
   "name": "python",
   "nbconvert_exporter": "python",
   "pygments_lexer": "ipython3",
   "version": "3.8.8"
  }
 },
 "nbformat": 4,
 "nbformat_minor": 5
}
