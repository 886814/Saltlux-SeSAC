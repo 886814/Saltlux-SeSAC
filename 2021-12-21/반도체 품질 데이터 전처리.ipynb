{
 "cells": [
  {
   "cell_type": "markdown",
   "id": "0171d0d0",
   "metadata": {},
   "source": [
    "반도체 8대 공정\n",
    "\n",
    "1. 웨이퍼 공정\n",
    "\n",
    "웨이퍼란? 반도체 직접회로를 만드는데 사용하는 재료\n",
    "\n",
    "2. 산화 공정\n",
    "\n",
    "웨이퍼 표면에 산화막을 형성해서 트렌지스터 기초를 만드는 과정\n",
    "\n",
    "3. 포터 공정\n",
    "\n",
    "웨이퍼 위에 반도체 회로를 그려 넣는 과정\n",
    "\n",
    "4. 식각 공정\n",
    "\n",
    "반도체 구조를 형성하는 패턴을 만드는 과정\n",
    "\n",
    "5. 증착/이온 주입 공정\n",
    "\n",
    "증착: 회로 구분 연결 보호 역할은 박막(thin film)을 만드는 과정\n",
    "이온: 반도체 전기적 특성을 갖도록 만드는 과정\n",
    "\n",
    "6. 급속 배정 공정\n",
    "\n",
    "전기적 신혹사 잘 전달되도록 하는 과정\n",
    "\n",
    "7. EDS 공정\n",
    "\n",
    "검사를 과정\n",
    "\n",
    "8. 패키징 공정\n",
    "\n",
    "패키징하는 과정"
   ]
  },
  {
   "cell_type": "code",
   "execution_count": 335,
   "id": "c489089f",
   "metadata": {},
   "outputs": [],
   "source": [
    "import pandas as pd\n",
    "import numpy as np\n",
    "\n",
    "import matplotlib as mpl\n",
    "import matplotlib.pyplot as plt\n",
    "%matplotlib inline\n",
    "\n",
    "import seaborn as sns\n",
    "\n",
    "import scipy.stats as st\n",
    "\n",
    "import math\n",
    "\n",
    "from statsmodels.stats.proportion import proportions_ztest"
   ]
  },
  {
   "cell_type": "code",
   "execution_count": 3,
   "id": "6b60347d",
   "metadata": {},
   "outputs": [],
   "source": [
    "import pandas_profiling"
   ]
  },
  {
   "cell_type": "code",
   "execution_count": 4,
   "id": "6af2e229",
   "metadata": {},
   "outputs": [
    {
     "name": "stderr",
     "output_type": "stream",
     "text": [
      "C:\\Users\\user\\AppData\\Local\\Temp/ipykernel_3548/3466516281.py:4: DeprecationWarning: `set_matplotlib_formats` is deprecated since IPython 7.23, directly use `matplotlib_inline.backend_inline.set_matplotlib_formats()`\n",
      "  set_matplotlib_formats('retina')\n"
     ]
    }
   ],
   "source": [
    "mpl.rc('font', family = 'Malgun Gothic')\n",
    "mpl.rc('axes', unicode_minus = True)\n",
    "from IPython.display import set_matplotlib_formats\n",
    "set_matplotlib_formats('retina')\n",
    "pd.options.display.max_columns = 100\n",
    "pd.options.display.max_rows = 1000"
   ]
  },
  {
   "cell_type": "code",
   "execution_count": 269,
   "id": "59357055",
   "metadata": {},
   "outputs": [],
   "source": [
    "df_oxid = pd.read_csv('C:/Users/user/솔트룩스 작업 폴더/DATA/Oxid_000.csv')"
   ]
  },
  {
   "cell_type": "code",
   "execution_count": 248,
   "id": "4ccab395",
   "metadata": {},
   "outputs": [
    {
     "data": {
      "text/html": [
       "<div>\n",
       "<style scoped>\n",
       "    .dataframe tbody tr th:only-of-type {\n",
       "        vertical-align: middle;\n",
       "    }\n",
       "\n",
       "    .dataframe tbody tr th {\n",
       "        vertical-align: top;\n",
       "    }\n",
       "\n",
       "    .dataframe thead th {\n",
       "        text-align: right;\n",
       "    }\n",
       "</style>\n",
       "<table border=\"1\" class=\"dataframe\">\n",
       "  <thead>\n",
       "    <tr style=\"text-align: right;\">\n",
       "      <th></th>\n",
       "      <th>Ox_Chamber</th>\n",
       "      <th>process</th>\n",
       "      <th>type</th>\n",
       "      <th>Temp_OXid</th>\n",
       "      <th>Vapor</th>\n",
       "      <th>ppm</th>\n",
       "      <th>Pressure</th>\n",
       "      <th>Oxid_time</th>\n",
       "      <th>thickness</th>\n",
       "      <th>No_Die</th>\n",
       "      <th>Lot_Num</th>\n",
       "      <th>Wafer_Num</th>\n",
       "      <th>Datetime</th>\n",
       "    </tr>\n",
       "  </thead>\n",
       "  <tbody>\n",
       "    <tr>\n",
       "      <th>0</th>\n",
       "      <td>1</td>\n",
       "      <td>Oxidation</td>\n",
       "      <td>dry</td>\n",
       "      <td>1138.979159</td>\n",
       "      <td>O2</td>\n",
       "      <td>32.80</td>\n",
       "      <td>0.200</td>\n",
       "      <td>62</td>\n",
       "      <td>699.443</td>\n",
       "      <td>NOLSM111</td>\n",
       "      <td>1</td>\n",
       "      <td>1</td>\n",
       "      <td>17-02-2019 PM 9:04:30</td>\n",
       "    </tr>\n",
       "    <tr>\n",
       "      <th>1</th>\n",
       "      <td>1</td>\n",
       "      <td>Oxidation</td>\n",
       "      <td>dry</td>\n",
       "      <td>1218.184551</td>\n",
       "      <td>O2</td>\n",
       "      <td>31.86</td>\n",
       "      <td>0.194</td>\n",
       "      <td>137</td>\n",
       "      <td>696.792</td>\n",
       "      <td>NOLSM212</td>\n",
       "      <td>1</td>\n",
       "      <td>2</td>\n",
       "      <td>17-02-2019 PM 9:04:30</td>\n",
       "    </tr>\n",
       "    <tr>\n",
       "      <th>2</th>\n",
       "      <td>1</td>\n",
       "      <td>Oxidation</td>\n",
       "      <td>dry</td>\n",
       "      <td>1062.467808</td>\n",
       "      <td>O2</td>\n",
       "      <td>39.51</td>\n",
       "      <td>0.217</td>\n",
       "      <td>128</td>\n",
       "      <td>705.471</td>\n",
       "      <td>NOLSM313</td>\n",
       "      <td>1</td>\n",
       "      <td>3</td>\n",
       "      <td>17-02-2019 PM 9:04:30</td>\n",
       "    </tr>\n",
       "    <tr>\n",
       "      <th>3</th>\n",
       "      <td>1</td>\n",
       "      <td>Oxidation</td>\n",
       "      <td>dry</td>\n",
       "      <td>1114.704773</td>\n",
       "      <td>O2</td>\n",
       "      <td>32.88</td>\n",
       "      <td>0.201</td>\n",
       "      <td>90</td>\n",
       "      <td>710.772</td>\n",
       "      <td>NOLSM414</td>\n",
       "      <td>1</td>\n",
       "      <td>4</td>\n",
       "      <td>17-02-2019 PM 9:04:30</td>\n",
       "    </tr>\n",
       "    <tr>\n",
       "      <th>4</th>\n",
       "      <td>1</td>\n",
       "      <td>Oxidation</td>\n",
       "      <td>dry</td>\n",
       "      <td>989.411946</td>\n",
       "      <td>O2</td>\n",
       "      <td>38.11</td>\n",
       "      <td>0.204</td>\n",
       "      <td>98</td>\n",
       "      <td>716.975</td>\n",
       "      <td>NOLSM515</td>\n",
       "      <td>1</td>\n",
       "      <td>5</td>\n",
       "      <td>17-02-2019 PM 9:04:30</td>\n",
       "    </tr>\n",
       "  </tbody>\n",
       "</table>\n",
       "</div>"
      ],
      "text/plain": [
       "   Ox_Chamber    process type    Temp_OXid Vapor    ppm  Pressure  Oxid_time  \\\n",
       "0           1  Oxidation  dry  1138.979159    O2  32.80     0.200         62   \n",
       "1           1  Oxidation  dry  1218.184551    O2  31.86     0.194        137   \n",
       "2           1  Oxidation  dry  1062.467808    O2  39.51     0.217        128   \n",
       "3           1  Oxidation  dry  1114.704773    O2  32.88     0.201         90   \n",
       "4           1  Oxidation  dry   989.411946    O2  38.11     0.204         98   \n",
       "\n",
       "   thickness    No_Die  Lot_Num  Wafer_Num               Datetime  \n",
       "0    699.443  NOLSM111        1          1  17-02-2019 PM 9:04:30  \n",
       "1    696.792  NOLSM212        1          2  17-02-2019 PM 9:04:30  \n",
       "2    705.471  NOLSM313        1          3  17-02-2019 PM 9:04:30  \n",
       "3    710.772  NOLSM414        1          4  17-02-2019 PM 9:04:30  \n",
       "4    716.975  NOLSM515        1          5  17-02-2019 PM 9:04:30  "
      ]
     },
     "execution_count": 248,
     "metadata": {},
     "output_type": "execute_result"
    }
   ],
   "source": [
    "df_oxid.head()"
   ]
  },
  {
   "cell_type": "code",
   "execution_count": 8,
   "id": "7fd08023",
   "metadata": {},
   "outputs": [
    {
     "data": {
      "text/plain": [
       "(852, 13)"
      ]
     },
     "execution_count": 8,
     "metadata": {},
     "output_type": "execute_result"
    }
   ],
   "source": [
    "df_oxid.shape"
   ]
  },
  {
   "cell_type": "code",
   "execution_count": 9,
   "id": "a51d1fc9",
   "metadata": {},
   "outputs": [
    {
     "data": {
      "text/plain": [
       "Index(['Ox_Chamber', 'process', 'type', 'Temp_OXid', 'Vapor', 'ppm',\n",
       "       'Pressure', 'Oxid_time', 'thickness', 'No_Die', 'Lot_Num', 'Wafer_Num',\n",
       "       'Datetime'],\n",
       "      dtype='object')"
      ]
     },
     "execution_count": 9,
     "metadata": {},
     "output_type": "execute_result"
    }
   ],
   "source": [
    "df_oxid.columns"
   ]
  },
  {
   "cell_type": "code",
   "execution_count": 10,
   "id": "10c31855",
   "metadata": {
    "scrolled": true
   },
   "outputs": [
    {
     "data": {
      "text/plain": [
       "<AxesSubplot:>"
      ]
     },
     "execution_count": 10,
     "metadata": {},
     "output_type": "execute_result"
    },
    {
     "data": {
      "image/png": "[encoded data removed]",
      "text/plain": [
       "<Figure size 432x288 with 1 Axes>"
      ]
     },
     "metadata": {
      "image/png": {
       "height": 249,
       "width": 374
      },
      "needs_background": "light"
     },
     "output_type": "display_data"
    }
   ],
   "source": [
    "sns.boxplot(data = df_oxid['Pressure'])"
   ]
  },
  {
   "cell_type": "code",
   "execution_count": 11,
   "id": "c9de0d3f",
   "metadata": {
    "scrolled": true
   },
   "outputs": [
    {
     "data": {
      "text/plain": [
       "<AxesSubplot:>"
      ]
     },
     "execution_count": 11,
     "metadata": {},
     "output_type": "execute_result"
    },
    {
     "data": {
      "image/png": "[encoded data removed]",
      "text/plain": [
       "<Figure size 432x288 with 1 Axes>"
      ]
     },
     "metadata": {
      "image/png": {
       "height": 252,
       "width": 372
      },
      "needs_background": "light"
     },
     "output_type": "display_data"
    }
   ],
   "source": [
    "sns.boxplot(data = df_oxid['thickness'])"
   ]
  },
  {
   "cell_type": "code",
   "execution_count": 12,
   "id": "0e839a69",
   "metadata": {},
   "outputs": [],
   "source": [
    "def IQR(data):\n",
    "    q1,q3 = np.percentile(data, [25,75])\n",
    "    iqr = q3 - q1\n",
    "    lower_bound = q1 - (iqr * 1.5)\n",
    "    upper_bound = q3 + (iqr * 1.5)\n",
    "    \n",
    "    return np.where((data > upper_bound) | (data < lower_bound))"
   ]
  },
  {
   "cell_type": "code",
   "execution_count": 249,
   "id": "53225fca",
   "metadata": {},
   "outputs": [],
   "source": [
    "pressure_outlier = IQR(df_oxid['Pressure'])[0]\n",
    "thickness_outlier = IQR(df_oxid['thickness'])[0]"
   ]
  },
  {
   "cell_type": "code",
   "execution_count": 250,
   "id": "44302dca",
   "metadata": {
    "scrolled": true
   },
   "outputs": [
    {
     "data": {
      "text/plain": [
       "array([178, 361, 449], dtype=int64)"
      ]
     },
     "execution_count": 250,
     "metadata": {},
     "output_type": "execute_result"
    }
   ],
   "source": [
    "pressure_outlier"
   ]
  },
  {
   "cell_type": "code",
   "execution_count": 15,
   "id": "edc3c418",
   "metadata": {},
   "outputs": [
    {
     "data": {
      "text/plain": [
       "array([ 10,  82, 125, 129, 131, 148, 175, 176, 200, 204, 267, 275, 325,\n",
       "       333, 357, 372, 378, 399, 407, 415, 416, 443, 455, 459, 460, 690,\n",
       "       761, 762], dtype=int64)"
      ]
     },
     "execution_count": 15,
     "metadata": {},
     "output_type": "execute_result"
    }
   ],
   "source": [
    "thickness_outlier"
   ]
  },
  {
   "cell_type": "code",
   "execution_count": 270,
   "id": "bc5f1433",
   "metadata": {},
   "outputs": [],
   "source": [
    "for i in pressure_outlier:\n",
    "    df_oxid.loc[i:i,['Pressure']] = np.NaN"
   ]
  },
  {
   "cell_type": "code",
   "execution_count": 271,
   "id": "b972181f",
   "metadata": {},
   "outputs": [],
   "source": [
    "for i in thickness_outlier:\n",
    "    df_oxid.loc[i:i,['thickness']] = np.NaN"
   ]
  },
  {
   "cell_type": "code",
   "execution_count": 18,
   "id": "d74341e0",
   "metadata": {},
   "outputs": [
    {
     "data": {
      "text/plain": [
       "Ox_Chamber     0\n",
       "process        0\n",
       "type           0\n",
       "Temp_OXid      0\n",
       "Vapor          0\n",
       "ppm            0\n",
       "Pressure       3\n",
       "Oxid_time      0\n",
       "thickness     28\n",
       "No_Die         0\n",
       "Lot_Num        0\n",
       "Wafer_Num      0\n",
       "Datetime       0\n",
       "dtype: int64"
      ]
     },
     "execution_count": 18,
     "metadata": {},
     "output_type": "execute_result"
    }
   ],
   "source": [
    "df_oxid.isnull().sum()"
   ]
  },
  {
   "cell_type": "code",
   "execution_count": 272,
   "id": "0a73ee56",
   "metadata": {},
   "outputs": [],
   "source": [
    "df_oxid = df_oxid.dropna(axis = 0).copy()"
   ]
  },
  {
   "cell_type": "code",
   "execution_count": 273,
   "id": "ac589dd4",
   "metadata": {},
   "outputs": [
    {
     "data": {
      "text/plain": [
       "(821, 13)"
      ]
     },
     "execution_count": 273,
     "metadata": {},
     "output_type": "execute_result"
    }
   ],
   "source": [
    "df_oxid.shape"
   ]
  },
  {
   "cell_type": "code",
   "execution_count": 21,
   "id": "29e3875d",
   "metadata": {},
   "outputs": [
    {
     "data": {
      "text/html": [
       "<div>\n",
       "<style scoped>\n",
       "    .dataframe tbody tr th:only-of-type {\n",
       "        vertical-align: middle;\n",
       "    }\n",
       "\n",
       "    .dataframe tbody tr th {\n",
       "        vertical-align: top;\n",
       "    }\n",
       "\n",
       "    .dataframe thead th {\n",
       "        text-align: right;\n",
       "    }\n",
       "</style>\n",
       "<table border=\"1\" class=\"dataframe\">\n",
       "  <thead>\n",
       "    <tr style=\"text-align: right;\">\n",
       "      <th></th>\n",
       "      <th>thickness</th>\n",
       "    </tr>\n",
       "  </thead>\n",
       "  <tbody>\n",
       "    <tr>\n",
       "      <th>0</th>\n",
       "      <td>699.443</td>\n",
       "    </tr>\n",
       "    <tr>\n",
       "      <th>1</th>\n",
       "      <td>696.792</td>\n",
       "    </tr>\n",
       "    <tr>\n",
       "      <th>5</th>\n",
       "      <td>698.725</td>\n",
       "    </tr>\n",
       "    <tr>\n",
       "      <th>7</th>\n",
       "      <td>696.438</td>\n",
       "    </tr>\n",
       "    <tr>\n",
       "      <th>21</th>\n",
       "      <td>698.922</td>\n",
       "    </tr>\n",
       "  </tbody>\n",
       "</table>\n",
       "</div>"
      ],
      "text/plain": [
       "    thickness\n",
       "0     699.443\n",
       "1     696.792\n",
       "5     698.725\n",
       "7     696.438\n",
       "21    698.922"
      ]
     },
     "execution_count": 21,
     "metadata": {},
     "output_type": "execute_result"
    }
   ],
   "source": [
    "df_oxid[df_oxid['thickness'] < 700].loc[:,['thickness']].head()"
   ]
  },
  {
   "cell_type": "code",
   "execution_count": 274,
   "id": "815e7178",
   "metadata": {},
   "outputs": [],
   "source": [
    "df_oxid['Reinforcement'] = df_oxid['thickness'].map(lambda x: False if x < 700 else True)"
   ]
  },
  {
   "cell_type": "code",
   "execution_count": 276,
   "id": "2e741709",
   "metadata": {},
   "outputs": [
    {
     "data": {
      "text/html": [
       "<div>\n",
       "<style scoped>\n",
       "    .dataframe tbody tr th:only-of-type {\n",
       "        vertical-align: middle;\n",
       "    }\n",
       "\n",
       "    .dataframe tbody tr th {\n",
       "        vertical-align: top;\n",
       "    }\n",
       "\n",
       "    .dataframe thead th {\n",
       "        text-align: right;\n",
       "    }\n",
       "</style>\n",
       "<table border=\"1\" class=\"dataframe\">\n",
       "  <thead>\n",
       "    <tr style=\"text-align: right;\">\n",
       "      <th></th>\n",
       "      <th>Ox_Chamber</th>\n",
       "      <th>process</th>\n",
       "      <th>type</th>\n",
       "      <th>Temp_OXid</th>\n",
       "      <th>Vapor</th>\n",
       "      <th>ppm</th>\n",
       "      <th>Pressure</th>\n",
       "      <th>Oxid_time</th>\n",
       "      <th>thickness</th>\n",
       "      <th>No_Die</th>\n",
       "      <th>Lot_Num</th>\n",
       "      <th>Wafer_Num</th>\n",
       "      <th>Datetime</th>\n",
       "      <th>Reinforcement</th>\n",
       "    </tr>\n",
       "  </thead>\n",
       "  <tbody>\n",
       "    <tr>\n",
       "      <th>0</th>\n",
       "      <td>1</td>\n",
       "      <td>Oxidation</td>\n",
       "      <td>dry</td>\n",
       "      <td>1138.979159</td>\n",
       "      <td>O2</td>\n",
       "      <td>32.80</td>\n",
       "      <td>0.200</td>\n",
       "      <td>62</td>\n",
       "      <td>699.443</td>\n",
       "      <td>NOLSM111</td>\n",
       "      <td>1</td>\n",
       "      <td>1</td>\n",
       "      <td>17-02-2019 PM 9:04:30</td>\n",
       "      <td>False</td>\n",
       "    </tr>\n",
       "    <tr>\n",
       "      <th>1</th>\n",
       "      <td>1</td>\n",
       "      <td>Oxidation</td>\n",
       "      <td>dry</td>\n",
       "      <td>1218.184551</td>\n",
       "      <td>O2</td>\n",
       "      <td>31.86</td>\n",
       "      <td>0.194</td>\n",
       "      <td>137</td>\n",
       "      <td>696.792</td>\n",
       "      <td>NOLSM212</td>\n",
       "      <td>1</td>\n",
       "      <td>2</td>\n",
       "      <td>17-02-2019 PM 9:04:30</td>\n",
       "      <td>False</td>\n",
       "    </tr>\n",
       "    <tr>\n",
       "      <th>2</th>\n",
       "      <td>1</td>\n",
       "      <td>Oxidation</td>\n",
       "      <td>dry</td>\n",
       "      <td>1062.467808</td>\n",
       "      <td>O2</td>\n",
       "      <td>39.51</td>\n",
       "      <td>0.217</td>\n",
       "      <td>128</td>\n",
       "      <td>705.471</td>\n",
       "      <td>NOLSM313</td>\n",
       "      <td>1</td>\n",
       "      <td>3</td>\n",
       "      <td>17-02-2019 PM 9:04:30</td>\n",
       "      <td>True</td>\n",
       "    </tr>\n",
       "    <tr>\n",
       "      <th>3</th>\n",
       "      <td>1</td>\n",
       "      <td>Oxidation</td>\n",
       "      <td>dry</td>\n",
       "      <td>1114.704773</td>\n",
       "      <td>O2</td>\n",
       "      <td>32.88</td>\n",
       "      <td>0.201</td>\n",
       "      <td>90</td>\n",
       "      <td>710.772</td>\n",
       "      <td>NOLSM414</td>\n",
       "      <td>1</td>\n",
       "      <td>4</td>\n",
       "      <td>17-02-2019 PM 9:04:30</td>\n",
       "      <td>True</td>\n",
       "    </tr>\n",
       "    <tr>\n",
       "      <th>4</th>\n",
       "      <td>1</td>\n",
       "      <td>Oxidation</td>\n",
       "      <td>dry</td>\n",
       "      <td>989.411946</td>\n",
       "      <td>O2</td>\n",
       "      <td>38.11</td>\n",
       "      <td>0.204</td>\n",
       "      <td>98</td>\n",
       "      <td>716.975</td>\n",
       "      <td>NOLSM515</td>\n",
       "      <td>1</td>\n",
       "      <td>5</td>\n",
       "      <td>17-02-2019 PM 9:04:30</td>\n",
       "      <td>True</td>\n",
       "    </tr>\n",
       "  </tbody>\n",
       "</table>\n",
       "</div>"
      ],
      "text/plain": [
       "   Ox_Chamber    process type    Temp_OXid Vapor    ppm  Pressure  Oxid_time  \\\n",
       "0           1  Oxidation  dry  1138.979159    O2  32.80     0.200         62   \n",
       "1           1  Oxidation  dry  1218.184551    O2  31.86     0.194        137   \n",
       "2           1  Oxidation  dry  1062.467808    O2  39.51     0.217        128   \n",
       "3           1  Oxidation  dry  1114.704773    O2  32.88     0.201         90   \n",
       "4           1  Oxidation  dry   989.411946    O2  38.11     0.204         98   \n",
       "\n",
       "   thickness    No_Die  Lot_Num  Wafer_Num               Datetime  \\\n",
       "0    699.443  NOLSM111        1          1  17-02-2019 PM 9:04:30   \n",
       "1    696.792  NOLSM212        1          2  17-02-2019 PM 9:04:30   \n",
       "2    705.471  NOLSM313        1          3  17-02-2019 PM 9:04:30   \n",
       "3    710.772  NOLSM414        1          4  17-02-2019 PM 9:04:30   \n",
       "4    716.975  NOLSM515        1          5  17-02-2019 PM 9:04:30   \n",
       "\n",
       "   Reinforcement  \n",
       "0          False  \n",
       "1          False  \n",
       "2           True  \n",
       "3           True  \n",
       "4           True  "
      ]
     },
     "execution_count": 276,
     "metadata": {},
     "output_type": "execute_result"
    }
   ],
   "source": [
    "df_oxid.head()"
   ]
  },
  {
   "cell_type": "code",
   "execution_count": 277,
   "id": "308f183b",
   "metadata": {},
   "outputs": [
    {
     "data": {
      "text/html": [
       "<div>\n",
       "<style scoped>\n",
       "    .dataframe tbody tr th:only-of-type {\n",
       "        vertical-align: middle;\n",
       "    }\n",
       "\n",
       "    .dataframe tbody tr th {\n",
       "        vertical-align: top;\n",
       "    }\n",
       "\n",
       "    .dataframe thead th {\n",
       "        text-align: right;\n",
       "    }\n",
       "</style>\n",
       "<table border=\"1\" class=\"dataframe\">\n",
       "  <thead>\n",
       "    <tr style=\"text-align: right;\">\n",
       "      <th></th>\n",
       "      <th>Lot_Num</th>\n",
       "      <th>Ox_Chamber</th>\n",
       "      <th>Oxid_time</th>\n",
       "      <th>Pressure</th>\n",
       "      <th>Temp_OXid</th>\n",
       "      <th>Wafer_Num</th>\n",
       "      <th>ppm</th>\n",
       "      <th>thickness</th>\n",
       "    </tr>\n",
       "    <tr>\n",
       "      <th>Reinforcement</th>\n",
       "      <th></th>\n",
       "      <th></th>\n",
       "      <th></th>\n",
       "      <th></th>\n",
       "      <th></th>\n",
       "      <th></th>\n",
       "      <th></th>\n",
       "      <th></th>\n",
       "    </tr>\n",
       "  </thead>\n",
       "  <tbody>\n",
       "    <tr>\n",
       "      <th>False</th>\n",
       "      <td>9.355932</td>\n",
       "      <td>2.067797</td>\n",
       "      <td>106.881356</td>\n",
       "      <td>0.207407</td>\n",
       "      <td>1085.770295</td>\n",
       "      <td>12.779661</td>\n",
       "      <td>34.363051</td>\n",
       "      <td>697.260203</td>\n",
       "    </tr>\n",
       "    <tr>\n",
       "      <th>True</th>\n",
       "      <td>16.954068</td>\n",
       "      <td>2.006562</td>\n",
       "      <td>125.157480</td>\n",
       "      <td>0.212005</td>\n",
       "      <td>1062.310996</td>\n",
       "      <td>14.043307</td>\n",
       "      <td>33.066509</td>\n",
       "      <td>712.510631</td>\n",
       "    </tr>\n",
       "  </tbody>\n",
       "</table>\n",
       "</div>"
      ],
      "text/plain": [
       "                 Lot_Num  Ox_Chamber   Oxid_time  Pressure    Temp_OXid  \\\n",
       "Reinforcement                                                             \n",
       "False           9.355932    2.067797  106.881356  0.207407  1085.770295   \n",
       "True           16.954068    2.006562  125.157480  0.212005  1062.310996   \n",
       "\n",
       "               Wafer_Num        ppm   thickness  \n",
       "Reinforcement                                    \n",
       "False          12.779661  34.363051  697.260203  \n",
       "True           14.043307  33.066509  712.510631  "
      ]
     },
     "execution_count": 277,
     "metadata": {},
     "output_type": "execute_result"
    }
   ],
   "source": [
    "pd.pivot_table(data = df_oxid, index = 'Reinforcement')"
   ]
  },
  {
   "cell_type": "code",
   "execution_count": 25,
   "id": "bddea277",
   "metadata": {},
   "outputs": [],
   "source": [
    "df_sb = pd.read_csv('C:/Users/user/솔트룩스 작업 폴더/DATA/Photo_Softbake_000.csv')"
   ]
  },
  {
   "cell_type": "code",
   "execution_count": 26,
   "id": "04bb05d8",
   "metadata": {},
   "outputs": [
    {
     "data": {
      "text/html": [
       "<div>\n",
       "<style scoped>\n",
       "    .dataframe tbody tr th:only-of-type {\n",
       "        vertical-align: middle;\n",
       "    }\n",
       "\n",
       "    .dataframe tbody tr th {\n",
       "        vertical-align: top;\n",
       "    }\n",
       "\n",
       "    .dataframe thead th {\n",
       "        text-align: right;\n",
       "    }\n",
       "</style>\n",
       "<table border=\"1\" class=\"dataframe\">\n",
       "  <thead>\n",
       "    <tr style=\"text-align: right;\">\n",
       "      <th></th>\n",
       "      <th>Unnamed: 0</th>\n",
       "      <th>photo_soft_Chamber</th>\n",
       "      <th>process 2</th>\n",
       "      <th>resist_target</th>\n",
       "      <th>N2_HMDS</th>\n",
       "      <th>pressure_HMDS</th>\n",
       "      <th>temp_HMDS</th>\n",
       "      <th>temp_HMDS_bake</th>\n",
       "      <th>time_HMDS_bake</th>\n",
       "      <th>spin1</th>\n",
       "      <th>spin2</th>\n",
       "      <th>spin3</th>\n",
       "      <th>photoresist_bake</th>\n",
       "      <th>temp_softbake</th>\n",
       "      <th>time_softbake</th>\n",
       "      <th>No_Die</th>\n",
       "      <th>Lot_Num</th>\n",
       "      <th>Wafer_Num</th>\n",
       "      <th>Datetime</th>\n",
       "    </tr>\n",
       "  </thead>\n",
       "  <tbody>\n",
       "    <tr>\n",
       "      <th>0</th>\n",
       "      <td>0</td>\n",
       "      <td>1</td>\n",
       "      <td>Photo</td>\n",
       "      <td>1.211940</td>\n",
       "      <td>13.891</td>\n",
       "      <td>15.025</td>\n",
       "      <td>20.000</td>\n",
       "      <td>198.792</td>\n",
       "      <td>90.001</td>\n",
       "      <td>504.589</td>\n",
       "      <td>4082.622</td>\n",
       "      <td>5184.620</td>\n",
       "      <td>5.044</td>\n",
       "      <td>90.894</td>\n",
       "      <td>30.009</td>\n",
       "      <td>NOLSM111</td>\n",
       "      <td>1</td>\n",
       "      <td>1</td>\n",
       "      <td>17-02-2019 PM 9:04:30</td>\n",
       "    </tr>\n",
       "    <tr>\n",
       "      <th>1</th>\n",
       "      <td>1</td>\n",
       "      <td>1</td>\n",
       "      <td>Photo</td>\n",
       "      <td>0.887720</td>\n",
       "      <td>14.722</td>\n",
       "      <td>15.059</td>\n",
       "      <td>19.995</td>\n",
       "      <td>198.747</td>\n",
       "      <td>89.998</td>\n",
       "      <td>492.196</td>\n",
       "      <td>3960.739</td>\n",
       "      <td>5065.197</td>\n",
       "      <td>5.058</td>\n",
       "      <td>92.334</td>\n",
       "      <td>29.997</td>\n",
       "      <td>NOLSM212</td>\n",
       "      <td>1</td>\n",
       "      <td>2</td>\n",
       "      <td>17-02-2019 PM 9:04:30</td>\n",
       "    </tr>\n",
       "    <tr>\n",
       "      <th>2</th>\n",
       "      <td>2</td>\n",
       "      <td>1</td>\n",
       "      <td>Photo</td>\n",
       "      <td>1.113156</td>\n",
       "      <td>19.205</td>\n",
       "      <td>14.964</td>\n",
       "      <td>19.997</td>\n",
       "      <td>202.139</td>\n",
       "      <td>90.000</td>\n",
       "      <td>499.886</td>\n",
       "      <td>3981.691</td>\n",
       "      <td>4873.417</td>\n",
       "      <td>5.151</td>\n",
       "      <td>91.868</td>\n",
       "      <td>30.005</td>\n",
       "      <td>NOLSM313</td>\n",
       "      <td>1</td>\n",
       "      <td>3</td>\n",
       "      <td>17-02-2019 PM 9:04:30</td>\n",
       "    </tr>\n",
       "    <tr>\n",
       "      <th>3</th>\n",
       "      <td>3</td>\n",
       "      <td>2</td>\n",
       "      <td>Photo</td>\n",
       "      <td>0.882195</td>\n",
       "      <td>16.368</td>\n",
       "      <td>14.944</td>\n",
       "      <td>19.998</td>\n",
       "      <td>199.649</td>\n",
       "      <td>90.001</td>\n",
       "      <td>505.249</td>\n",
       "      <td>3922.191</td>\n",
       "      <td>5131.972</td>\n",
       "      <td>5.069</td>\n",
       "      <td>91.881</td>\n",
       "      <td>29.997</td>\n",
       "      <td>NOLSM414</td>\n",
       "      <td>1</td>\n",
       "      <td>4</td>\n",
       "      <td>17-02-2019 PM 9:04:30</td>\n",
       "    </tr>\n",
       "    <tr>\n",
       "      <th>4</th>\n",
       "      <td>4</td>\n",
       "      <td>2</td>\n",
       "      <td>Photo</td>\n",
       "      <td>0.834001</td>\n",
       "      <td>13.926</td>\n",
       "      <td>14.933</td>\n",
       "      <td>20.002</td>\n",
       "      <td>204.544</td>\n",
       "      <td>90.001</td>\n",
       "      <td>501.089</td>\n",
       "      <td>4124.099</td>\n",
       "      <td>5108.355</td>\n",
       "      <td>5.055</td>\n",
       "      <td>91.212</td>\n",
       "      <td>30.001</td>\n",
       "      <td>NOLSM515</td>\n",
       "      <td>1</td>\n",
       "      <td>5</td>\n",
       "      <td>17-02-2019 PM 9:04:30</td>\n",
       "    </tr>\n",
       "  </tbody>\n",
       "</table>\n",
       "</div>"
      ],
      "text/plain": [
       "   Unnamed: 0  photo_soft_Chamber process 2  resist_target  N2_HMDS  \\\n",
       "0           0                   1     Photo       1.211940   13.891   \n",
       "1           1                   1     Photo       0.887720   14.722   \n",
       "2           2                   1     Photo       1.113156   19.205   \n",
       "3           3                   2     Photo       0.882195   16.368   \n",
       "4           4                   2     Photo       0.834001   13.926   \n",
       "\n",
       "   pressure_HMDS  temp_HMDS  temp_HMDS_bake  time_HMDS_bake    spin1  \\\n",
       "0         15.025     20.000         198.792          90.001  504.589   \n",
       "1         15.059     19.995         198.747          89.998  492.196   \n",
       "2         14.964     19.997         202.139          90.000  499.886   \n",
       "3         14.944     19.998         199.649          90.001  505.249   \n",
       "4         14.933     20.002         204.544          90.001  501.089   \n",
       "\n",
       "      spin2     spin3  photoresist_bake  temp_softbake  time_softbake  \\\n",
       "0  4082.622  5184.620             5.044         90.894         30.009   \n",
       "1  3960.739  5065.197             5.058         92.334         29.997   \n",
       "2  3981.691  4873.417             5.151         91.868         30.005   \n",
       "3  3922.191  5131.972             5.069         91.881         29.997   \n",
       "4  4124.099  5108.355             5.055         91.212         30.001   \n",
       "\n",
       "     No_Die  Lot_Num  Wafer_Num               Datetime  \n",
       "0  NOLSM111        1          1  17-02-2019 PM 9:04:30  \n",
       "1  NOLSM212        1          2  17-02-2019 PM 9:04:30  \n",
       "2  NOLSM313        1          3  17-02-2019 PM 9:04:30  \n",
       "3  NOLSM414        1          4  17-02-2019 PM 9:04:30  \n",
       "4  NOLSM515        1          5  17-02-2019 PM 9:04:30  "
      ]
     },
     "execution_count": 26,
     "metadata": {},
     "output_type": "execute_result"
    }
   ],
   "source": [
    "df_sb.head()"
   ]
  },
  {
   "cell_type": "code",
   "execution_count": 355,
   "id": "dfbdebad",
   "metadata": {},
   "outputs": [],
   "source": [
    "df_lg = pd.read_csv('C:/Users/user/솔트룩스 작업 폴더/DATA/Photo_lithography_000.csv')"
   ]
  },
  {
   "cell_type": "code",
   "execution_count": 29,
   "id": "69f8c191",
   "metadata": {},
   "outputs": [
    {
     "data": {
      "text/html": [
       "<div>\n",
       "<style scoped>\n",
       "    .dataframe tbody tr th:only-of-type {\n",
       "        vertical-align: middle;\n",
       "    }\n",
       "\n",
       "    .dataframe tbody tr th {\n",
       "        vertical-align: top;\n",
       "    }\n",
       "\n",
       "    .dataframe thead th {\n",
       "        text-align: right;\n",
       "    }\n",
       "</style>\n",
       "<table border=\"1\" class=\"dataframe\">\n",
       "  <thead>\n",
       "    <tr style=\"text-align: right;\">\n",
       "      <th></th>\n",
       "      <th>lithography_Chamber</th>\n",
       "      <th>Line_CD</th>\n",
       "      <th>Lamp</th>\n",
       "      <th>UV_type</th>\n",
       "      <th>Wavelength</th>\n",
       "      <th>Resolution</th>\n",
       "      <th>Energy_Exposure</th>\n",
       "      <th>No_Die</th>\n",
       "      <th>Lot_Num</th>\n",
       "      <th>Wafer_Num</th>\n",
       "      <th>Datetime</th>\n",
       "    </tr>\n",
       "  </thead>\n",
       "  <tbody>\n",
       "    <tr>\n",
       "      <th>0</th>\n",
       "      <td>1</td>\n",
       "      <td>30.959</td>\n",
       "      <td>Hg-Arc</td>\n",
       "      <td>H</td>\n",
       "      <td>405</td>\n",
       "      <td>516.657</td>\n",
       "      <td>109.769</td>\n",
       "      <td>NOLSM111</td>\n",
       "      <td>1</td>\n",
       "      <td>1</td>\n",
       "      <td>17-02-2019 PM 9:04:30</td>\n",
       "    </tr>\n",
       "    <tr>\n",
       "      <th>1</th>\n",
       "      <td>2</td>\n",
       "      <td>29.653</td>\n",
       "      <td>Hg-Arc</td>\n",
       "      <td>H</td>\n",
       "      <td>405</td>\n",
       "      <td>501.894</td>\n",
       "      <td>107.102</td>\n",
       "      <td>NOLSM212</td>\n",
       "      <td>1</td>\n",
       "      <td>2</td>\n",
       "      <td>17-02-2019 PM 9:04:30</td>\n",
       "    </tr>\n",
       "    <tr>\n",
       "      <th>2</th>\n",
       "      <td>3</td>\n",
       "      <td>28.063</td>\n",
       "      <td>Hg-Arc</td>\n",
       "      <td>I</td>\n",
       "      <td>365</td>\n",
       "      <td>506.750</td>\n",
       "      <td>110.471</td>\n",
       "      <td>NOLSM313</td>\n",
       "      <td>1</td>\n",
       "      <td>3</td>\n",
       "      <td>17-02-2019 PM 9:04:30</td>\n",
       "    </tr>\n",
       "    <tr>\n",
       "      <th>3</th>\n",
       "      <td>1</td>\n",
       "      <td>31.556</td>\n",
       "      <td>Hg-Arc</td>\n",
       "      <td>I</td>\n",
       "      <td>365</td>\n",
       "      <td>537.603</td>\n",
       "      <td>107.072</td>\n",
       "      <td>NOLSM414</td>\n",
       "      <td>1</td>\n",
       "      <td>4</td>\n",
       "      <td>17-02-2019 PM 9:04:30</td>\n",
       "    </tr>\n",
       "    <tr>\n",
       "      <th>4</th>\n",
       "      <td>2</td>\n",
       "      <td>31.969</td>\n",
       "      <td>Hg-Arc</td>\n",
       "      <td>I</td>\n",
       "      <td>365</td>\n",
       "      <td>560.574</td>\n",
       "      <td>108.073</td>\n",
       "      <td>NOLSM515</td>\n",
       "      <td>1</td>\n",
       "      <td>5</td>\n",
       "      <td>17-02-2019 PM 9:04:30</td>\n",
       "    </tr>\n",
       "  </tbody>\n",
       "</table>\n",
       "</div>"
      ],
      "text/plain": [
       "   lithography_Chamber  Line_CD    Lamp UV_type  Wavelength  Resolution  \\\n",
       "0                    1   30.959  Hg-Arc       H         405     516.657   \n",
       "1                    2   29.653  Hg-Arc       H         405     501.894   \n",
       "2                    3   28.063  Hg-Arc       I         365     506.750   \n",
       "3                    1   31.556  Hg-Arc       I         365     537.603   \n",
       "4                    2   31.969  Hg-Arc       I         365     560.574   \n",
       "\n",
       "   Energy_Exposure    No_Die  Lot_Num  Wafer_Num               Datetime  \n",
       "0          109.769  NOLSM111        1          1  17-02-2019 PM 9:04:30  \n",
       "1          107.102  NOLSM212        1          2  17-02-2019 PM 9:04:30  \n",
       "2          110.471  NOLSM313        1          3  17-02-2019 PM 9:04:30  \n",
       "3          107.072  NOLSM414        1          4  17-02-2019 PM 9:04:30  \n",
       "4          108.073  NOLSM515        1          5  17-02-2019 PM 9:04:30  "
      ]
     },
     "execution_count": 29,
     "metadata": {},
     "output_type": "execute_result"
    }
   ],
   "source": [
    "df_lg.head()"
   ]
  },
  {
   "cell_type": "code",
   "execution_count": 356,
   "id": "19fb2f29",
   "metadata": {},
   "outputs": [],
   "source": [
    "df_lg['Range_check'] = df_lg['Line_CD'].map(lambda x: False if (x < 25) | (x > 55) else True)"
   ]
  },
  {
   "cell_type": "code",
   "execution_count": 30,
   "id": "778f25d9",
   "metadata": {},
   "outputs": [],
   "source": [
    "df_lg.loc[(df_lg['Line_CD'] < 25) | (df_lg['Line_CD'] > 55), 'Line_CD'] = False\n",
    "df_lg.loc[(df_lg['Line_CD'] >= 25) & (df_lg['Line_CD'] <= 55), 'Line_CD'] = True"
   ]
  },
  {
   "cell_type": "code",
   "execution_count": 357,
   "id": "047f84bc",
   "metadata": {},
   "outputs": [
    {
     "data": {
      "text/html": [
       "<div>\n",
       "<style scoped>\n",
       "    .dataframe tbody tr th:only-of-type {\n",
       "        vertical-align: middle;\n",
       "    }\n",
       "\n",
       "    .dataframe tbody tr th {\n",
       "        vertical-align: top;\n",
       "    }\n",
       "\n",
       "    .dataframe thead th {\n",
       "        text-align: right;\n",
       "    }\n",
       "</style>\n",
       "<table border=\"1\" class=\"dataframe\">\n",
       "  <thead>\n",
       "    <tr style=\"text-align: right;\">\n",
       "      <th>UV_type</th>\n",
       "      <th>G</th>\n",
       "      <th>H</th>\n",
       "      <th>I</th>\n",
       "    </tr>\n",
       "    <tr>\n",
       "      <th>Range_check</th>\n",
       "      <th></th>\n",
       "      <th></th>\n",
       "      <th></th>\n",
       "    </tr>\n",
       "  </thead>\n",
       "  <tbody>\n",
       "    <tr>\n",
       "      <th>False</th>\n",
       "      <td>45</td>\n",
       "      <td>93</td>\n",
       "      <td>48</td>\n",
       "    </tr>\n",
       "    <tr>\n",
       "      <th>True</th>\n",
       "      <td>267</td>\n",
       "      <td>193</td>\n",
       "      <td>206</td>\n",
       "    </tr>\n",
       "  </tbody>\n",
       "</table>\n",
       "</div>"
      ],
      "text/plain": [
       "UV_type        G    H    I\n",
       "Range_check               \n",
       "False         45   93   48\n",
       "True         267  193  206"
      ]
     },
     "execution_count": 357,
     "metadata": {},
     "output_type": "execute_result"
    }
   ],
   "source": [
    "pd.crosstab(df_lg['Range_check'],df_lg['UV_type'])"
   ]
  },
  {
   "cell_type": "code",
   "execution_count": 167,
   "id": "1ab2edc5",
   "metadata": {},
   "outputs": [],
   "source": [
    "df_etc = pd.read_csv('C:/Users/user/솔트룩스 작업 폴더/DATA/Etching_000.csv')"
   ]
  },
  {
   "cell_type": "code",
   "execution_count": 168,
   "id": "c36ede1f",
   "metadata": {
    "scrolled": true
   },
   "outputs": [
    {
     "data": {
      "text/html": [
       "<div>\n",
       "<style scoped>\n",
       "    .dataframe tbody tr th:only-of-type {\n",
       "        vertical-align: middle;\n",
       "    }\n",
       "\n",
       "    .dataframe tbody tr th {\n",
       "        vertical-align: top;\n",
       "    }\n",
       "\n",
       "    .dataframe thead th {\n",
       "        text-align: right;\n",
       "    }\n",
       "</style>\n",
       "<table border=\"1\" class=\"dataframe\">\n",
       "  <thead>\n",
       "    <tr style=\"text-align: right;\">\n",
       "      <th></th>\n",
       "      <th>Unnamed: 0</th>\n",
       "      <th>Etching_Chamber</th>\n",
       "      <th>Process 3</th>\n",
       "      <th>Temp_Etching</th>\n",
       "      <th>Source_Power</th>\n",
       "      <th>Selectivity</th>\n",
       "      <th>No_Die</th>\n",
       "      <th>Lot_Num</th>\n",
       "      <th>Wafer_Num</th>\n",
       "      <th>Datetime</th>\n",
       "      <th>Thin Film 4</th>\n",
       "      <th>Thin Film 3</th>\n",
       "      <th>Thin Film 2</th>\n",
       "      <th>Thin Film 1</th>\n",
       "    </tr>\n",
       "  </thead>\n",
       "  <tbody>\n",
       "    <tr>\n",
       "      <th>0</th>\n",
       "      <td>0</td>\n",
       "      <td>3</td>\n",
       "      <td>Etching</td>\n",
       "      <td>70.878</td>\n",
       "      <td>50.851</td>\n",
       "      <td>1.047</td>\n",
       "      <td>NOLSM111</td>\n",
       "      <td>1</td>\n",
       "      <td>1</td>\n",
       "      <td>17-02-2019 PM 9:04:30</td>\n",
       "      <td>251.0</td>\n",
       "      <td>267.06</td>\n",
       "      <td>303.82</td>\n",
       "      <td>361.38</td>\n",
       "    </tr>\n",
       "    <tr>\n",
       "      <th>1</th>\n",
       "      <td>1</td>\n",
       "      <td>2</td>\n",
       "      <td>Etching</td>\n",
       "      <td>69.561</td>\n",
       "      <td>52.283</td>\n",
       "      <td>1.051</td>\n",
       "      <td>NOLSM212</td>\n",
       "      <td>1</td>\n",
       "      <td>2</td>\n",
       "      <td>17-02-2019 PM 9:04:30</td>\n",
       "      <td>317.0</td>\n",
       "      <td>332.74</td>\n",
       "      <td>369.31</td>\n",
       "      <td>426.11</td>\n",
       "    </tr>\n",
       "    <tr>\n",
       "      <th>2</th>\n",
       "      <td>2</td>\n",
       "      <td>1</td>\n",
       "      <td>Etching</td>\n",
       "      <td>70.968</td>\n",
       "      <td>51.610</td>\n",
       "      <td>1.017</td>\n",
       "      <td>NOLSM313</td>\n",
       "      <td>1</td>\n",
       "      <td>3</td>\n",
       "      <td>17-02-2019 PM 9:04:30</td>\n",
       "      <td>411.0</td>\n",
       "      <td>424.21</td>\n",
       "      <td>460.65</td>\n",
       "      <td>517.80</td>\n",
       "    </tr>\n",
       "    <tr>\n",
       "      <th>3</th>\n",
       "      <td>3</td>\n",
       "      <td>1</td>\n",
       "      <td>Etching</td>\n",
       "      <td>70.146</td>\n",
       "      <td>51.286</td>\n",
       "      <td>1.027</td>\n",
       "      <td>NOLSM414</td>\n",
       "      <td>1</td>\n",
       "      <td>4</td>\n",
       "      <td>17-02-2019 PM 9:04:30</td>\n",
       "      <td>256.0</td>\n",
       "      <td>272.28</td>\n",
       "      <td>308.56</td>\n",
       "      <td>365.93</td>\n",
       "    </tr>\n",
       "    <tr>\n",
       "      <th>4</th>\n",
       "      <td>4</td>\n",
       "      <td>2</td>\n",
       "      <td>Etching</td>\n",
       "      <td>71.174</td>\n",
       "      <td>51.996</td>\n",
       "      <td>1.050</td>\n",
       "      <td>NOLSM515</td>\n",
       "      <td>1</td>\n",
       "      <td>5</td>\n",
       "      <td>17-02-2019 PM 9:04:30</td>\n",
       "      <td>419.0</td>\n",
       "      <td>434.98</td>\n",
       "      <td>471.65</td>\n",
       "      <td>528.85</td>\n",
       "    </tr>\n",
       "  </tbody>\n",
       "</table>\n",
       "</div>"
      ],
      "text/plain": [
       "   Unnamed: 0  Etching_Chamber Process 3  Temp_Etching  Source_Power  \\\n",
       "0           0                3   Etching        70.878        50.851   \n",
       "1           1                2   Etching        69.561        52.283   \n",
       "2           2                1   Etching        70.968        51.610   \n",
       "3           3                1   Etching        70.146        51.286   \n",
       "4           4                2   Etching        71.174        51.996   \n",
       "\n",
       "   Selectivity    No_Die  Lot_Num  Wafer_Num               Datetime  \\\n",
       "0        1.047  NOLSM111        1          1  17-02-2019 PM 9:04:30   \n",
       "1        1.051  NOLSM212        1          2  17-02-2019 PM 9:04:30   \n",
       "2        1.017  NOLSM313        1          3  17-02-2019 PM 9:04:30   \n",
       "3        1.027  NOLSM414        1          4  17-02-2019 PM 9:04:30   \n",
       "4        1.050  NOLSM515        1          5  17-02-2019 PM 9:04:30   \n",
       "\n",
       "   Thin Film 4  Thin Film 3  Thin Film 2  Thin Film 1  \n",
       "0        251.0       267.06       303.82       361.38  \n",
       "1        317.0       332.74       369.31       426.11  \n",
       "2        411.0       424.21       460.65       517.80  \n",
       "3        256.0       272.28       308.56       365.93  \n",
       "4        419.0       434.98       471.65       528.85  "
      ]
     },
     "execution_count": 168,
     "metadata": {},
     "output_type": "execute_result"
    }
   ],
   "source": [
    "df_etc.head(5)"
   ]
  },
  {
   "cell_type": "code",
   "execution_count": 169,
   "id": "ea85220f",
   "metadata": {},
   "outputs": [],
   "source": [
    "df_etc.loc[df_etc['Thin Film 1'] <= 150,'Thin Film 1'] = np.NaN\n",
    "df_etc.loc[df_etc['Thin Film 2'] <= 150,'Thin Film 2'] = np.NaN\n",
    "df_etc.loc[df_etc['Thin Film 3'] <= 150,'Thin Film 3'] = np.NaN\n",
    "df_etc.loc[df_etc['Thin Film 4'] <= 150,'Thin Film 4'] = np.NaN"
   ]
  },
  {
   "cell_type": "code",
   "execution_count": 172,
   "id": "0f924a61",
   "metadata": {},
   "outputs": [],
   "source": [
    "df_etc = df_etc.dropna(axis = 0).copy()"
   ]
  },
  {
   "cell_type": "code",
   "execution_count": 173,
   "id": "bcb2dca3",
   "metadata": {},
   "outputs": [
    {
     "data": {
      "text/html": [
       "<div>\n",
       "<style scoped>\n",
       "    .dataframe tbody tr th:only-of-type {\n",
       "        vertical-align: middle;\n",
       "    }\n",
       "\n",
       "    .dataframe tbody tr th {\n",
       "        vertical-align: top;\n",
       "    }\n",
       "\n",
       "    .dataframe thead th {\n",
       "        text-align: right;\n",
       "    }\n",
       "</style>\n",
       "<table border=\"1\" class=\"dataframe\">\n",
       "  <thead>\n",
       "    <tr style=\"text-align: right;\">\n",
       "      <th></th>\n",
       "      <th>Unnamed: 0</th>\n",
       "      <th>Etching_Chamber</th>\n",
       "      <th>Process 3</th>\n",
       "      <th>Temp_Etching</th>\n",
       "      <th>Source_Power</th>\n",
       "      <th>Selectivity</th>\n",
       "      <th>No_Die</th>\n",
       "      <th>Lot_Num</th>\n",
       "      <th>Wafer_Num</th>\n",
       "      <th>Datetime</th>\n",
       "      <th>Thin Film 4</th>\n",
       "      <th>Thin Film 3</th>\n",
       "      <th>Thin Film 2</th>\n",
       "      <th>Thin Film 1</th>\n",
       "    </tr>\n",
       "  </thead>\n",
       "  <tbody>\n",
       "    <tr>\n",
       "      <th>0</th>\n",
       "      <td>0</td>\n",
       "      <td>3</td>\n",
       "      <td>Etching</td>\n",
       "      <td>70.878</td>\n",
       "      <td>50.851</td>\n",
       "      <td>1.047</td>\n",
       "      <td>NOLSM111</td>\n",
       "      <td>1</td>\n",
       "      <td>1</td>\n",
       "      <td>17-02-2019 PM 9:04:30</td>\n",
       "      <td>251.0</td>\n",
       "      <td>267.06</td>\n",
       "      <td>303.82</td>\n",
       "      <td>361.38</td>\n",
       "    </tr>\n",
       "    <tr>\n",
       "      <th>1</th>\n",
       "      <td>1</td>\n",
       "      <td>2</td>\n",
       "      <td>Etching</td>\n",
       "      <td>69.561</td>\n",
       "      <td>52.283</td>\n",
       "      <td>1.051</td>\n",
       "      <td>NOLSM212</td>\n",
       "      <td>1</td>\n",
       "      <td>2</td>\n",
       "      <td>17-02-2019 PM 9:04:30</td>\n",
       "      <td>317.0</td>\n",
       "      <td>332.74</td>\n",
       "      <td>369.31</td>\n",
       "      <td>426.11</td>\n",
       "    </tr>\n",
       "    <tr>\n",
       "      <th>2</th>\n",
       "      <td>2</td>\n",
       "      <td>1</td>\n",
       "      <td>Etching</td>\n",
       "      <td>70.968</td>\n",
       "      <td>51.610</td>\n",
       "      <td>1.017</td>\n",
       "      <td>NOLSM313</td>\n",
       "      <td>1</td>\n",
       "      <td>3</td>\n",
       "      <td>17-02-2019 PM 9:04:30</td>\n",
       "      <td>411.0</td>\n",
       "      <td>424.21</td>\n",
       "      <td>460.65</td>\n",
       "      <td>517.80</td>\n",
       "    </tr>\n",
       "    <tr>\n",
       "      <th>3</th>\n",
       "      <td>3</td>\n",
       "      <td>1</td>\n",
       "      <td>Etching</td>\n",
       "      <td>70.146</td>\n",
       "      <td>51.286</td>\n",
       "      <td>1.027</td>\n",
       "      <td>NOLSM414</td>\n",
       "      <td>1</td>\n",
       "      <td>4</td>\n",
       "      <td>17-02-2019 PM 9:04:30</td>\n",
       "      <td>256.0</td>\n",
       "      <td>272.28</td>\n",
       "      <td>308.56</td>\n",
       "      <td>365.93</td>\n",
       "    </tr>\n",
       "    <tr>\n",
       "      <th>4</th>\n",
       "      <td>4</td>\n",
       "      <td>2</td>\n",
       "      <td>Etching</td>\n",
       "      <td>71.174</td>\n",
       "      <td>51.996</td>\n",
       "      <td>1.050</td>\n",
       "      <td>NOLSM515</td>\n",
       "      <td>1</td>\n",
       "      <td>5</td>\n",
       "      <td>17-02-2019 PM 9:04:30</td>\n",
       "      <td>419.0</td>\n",
       "      <td>434.98</td>\n",
       "      <td>471.65</td>\n",
       "      <td>528.85</td>\n",
       "    </tr>\n",
       "  </tbody>\n",
       "</table>\n",
       "</div>"
      ],
      "text/plain": [
       "   Unnamed: 0  Etching_Chamber Process 3  Temp_Etching  Source_Power  \\\n",
       "0           0                3   Etching        70.878        50.851   \n",
       "1           1                2   Etching        69.561        52.283   \n",
       "2           2                1   Etching        70.968        51.610   \n",
       "3           3                1   Etching        70.146        51.286   \n",
       "4           4                2   Etching        71.174        51.996   \n",
       "\n",
       "   Selectivity    No_Die  Lot_Num  Wafer_Num               Datetime  \\\n",
       "0        1.047  NOLSM111        1          1  17-02-2019 PM 9:04:30   \n",
       "1        1.051  NOLSM212        1          2  17-02-2019 PM 9:04:30   \n",
       "2        1.017  NOLSM313        1          3  17-02-2019 PM 9:04:30   \n",
       "3        1.027  NOLSM414        1          4  17-02-2019 PM 9:04:30   \n",
       "4        1.050  NOLSM515        1          5  17-02-2019 PM 9:04:30   \n",
       "\n",
       "   Thin Film 4  Thin Film 3  Thin Film 2  Thin Film 1  \n",
       "0        251.0       267.06       303.82       361.38  \n",
       "1        317.0       332.74       369.31       426.11  \n",
       "2        411.0       424.21       460.65       517.80  \n",
       "3        256.0       272.28       308.56       365.93  \n",
       "4        419.0       434.98       471.65       528.85  "
      ]
     },
     "execution_count": 173,
     "metadata": {},
     "output_type": "execute_result"
    }
   ],
   "source": [
    "df_etc.head()"
   ]
  },
  {
   "cell_type": "code",
   "execution_count": 174,
   "id": "c2daaf76",
   "metadata": {},
   "outputs": [],
   "source": [
    "df_etc['Etching_rate'] = (df_etc['Thin Film 1'] - df_etc['Thin Film 4']) / 30"
   ]
  },
  {
   "cell_type": "code",
   "execution_count": 175,
   "id": "be5708b3",
   "metadata": {},
   "outputs": [
    {
     "data": {
      "text/html": [
       "<div>\n",
       "<style scoped>\n",
       "    .dataframe tbody tr th:only-of-type {\n",
       "        vertical-align: middle;\n",
       "    }\n",
       "\n",
       "    .dataframe tbody tr th {\n",
       "        vertical-align: top;\n",
       "    }\n",
       "\n",
       "    .dataframe thead th {\n",
       "        text-align: right;\n",
       "    }\n",
       "</style>\n",
       "<table border=\"1\" class=\"dataframe\">\n",
       "  <thead>\n",
       "    <tr style=\"text-align: right;\">\n",
       "      <th></th>\n",
       "      <th>Unnamed: 0</th>\n",
       "      <th>Etching_Chamber</th>\n",
       "      <th>Process 3</th>\n",
       "      <th>Temp_Etching</th>\n",
       "      <th>Source_Power</th>\n",
       "      <th>Selectivity</th>\n",
       "      <th>No_Die</th>\n",
       "      <th>Lot_Num</th>\n",
       "      <th>Wafer_Num</th>\n",
       "      <th>Datetime</th>\n",
       "      <th>Thin Film 4</th>\n",
       "      <th>Thin Film 3</th>\n",
       "      <th>Thin Film 2</th>\n",
       "      <th>Thin Film 1</th>\n",
       "      <th>Etching_rate</th>\n",
       "    </tr>\n",
       "  </thead>\n",
       "  <tbody>\n",
       "    <tr>\n",
       "      <th>0</th>\n",
       "      <td>0</td>\n",
       "      <td>3</td>\n",
       "      <td>Etching</td>\n",
       "      <td>70.878</td>\n",
       "      <td>50.851</td>\n",
       "      <td>1.047</td>\n",
       "      <td>NOLSM111</td>\n",
       "      <td>1</td>\n",
       "      <td>1</td>\n",
       "      <td>17-02-2019 PM 9:04:30</td>\n",
       "      <td>251.0</td>\n",
       "      <td>267.06</td>\n",
       "      <td>303.82</td>\n",
       "      <td>361.38</td>\n",
       "      <td>3.679333</td>\n",
       "    </tr>\n",
       "    <tr>\n",
       "      <th>1</th>\n",
       "      <td>1</td>\n",
       "      <td>2</td>\n",
       "      <td>Etching</td>\n",
       "      <td>69.561</td>\n",
       "      <td>52.283</td>\n",
       "      <td>1.051</td>\n",
       "      <td>NOLSM212</td>\n",
       "      <td>1</td>\n",
       "      <td>2</td>\n",
       "      <td>17-02-2019 PM 9:04:30</td>\n",
       "      <td>317.0</td>\n",
       "      <td>332.74</td>\n",
       "      <td>369.31</td>\n",
       "      <td>426.11</td>\n",
       "      <td>3.637000</td>\n",
       "    </tr>\n",
       "    <tr>\n",
       "      <th>2</th>\n",
       "      <td>2</td>\n",
       "      <td>1</td>\n",
       "      <td>Etching</td>\n",
       "      <td>70.968</td>\n",
       "      <td>51.610</td>\n",
       "      <td>1.017</td>\n",
       "      <td>NOLSM313</td>\n",
       "      <td>1</td>\n",
       "      <td>3</td>\n",
       "      <td>17-02-2019 PM 9:04:30</td>\n",
       "      <td>411.0</td>\n",
       "      <td>424.21</td>\n",
       "      <td>460.65</td>\n",
       "      <td>517.80</td>\n",
       "      <td>3.560000</td>\n",
       "    </tr>\n",
       "    <tr>\n",
       "      <th>3</th>\n",
       "      <td>3</td>\n",
       "      <td>1</td>\n",
       "      <td>Etching</td>\n",
       "      <td>70.146</td>\n",
       "      <td>51.286</td>\n",
       "      <td>1.027</td>\n",
       "      <td>NOLSM414</td>\n",
       "      <td>1</td>\n",
       "      <td>4</td>\n",
       "      <td>17-02-2019 PM 9:04:30</td>\n",
       "      <td>256.0</td>\n",
       "      <td>272.28</td>\n",
       "      <td>308.56</td>\n",
       "      <td>365.93</td>\n",
       "      <td>3.664333</td>\n",
       "    </tr>\n",
       "    <tr>\n",
       "      <th>4</th>\n",
       "      <td>4</td>\n",
       "      <td>2</td>\n",
       "      <td>Etching</td>\n",
       "      <td>71.174</td>\n",
       "      <td>51.996</td>\n",
       "      <td>1.050</td>\n",
       "      <td>NOLSM515</td>\n",
       "      <td>1</td>\n",
       "      <td>5</td>\n",
       "      <td>17-02-2019 PM 9:04:30</td>\n",
       "      <td>419.0</td>\n",
       "      <td>434.98</td>\n",
       "      <td>471.65</td>\n",
       "      <td>528.85</td>\n",
       "      <td>3.661667</td>\n",
       "    </tr>\n",
       "  </tbody>\n",
       "</table>\n",
       "</div>"
      ],
      "text/plain": [
       "   Unnamed: 0  Etching_Chamber Process 3  Temp_Etching  Source_Power  \\\n",
       "0           0                3   Etching        70.878        50.851   \n",
       "1           1                2   Etching        69.561        52.283   \n",
       "2           2                1   Etching        70.968        51.610   \n",
       "3           3                1   Etching        70.146        51.286   \n",
       "4           4                2   Etching        71.174        51.996   \n",
       "\n",
       "   Selectivity    No_Die  Lot_Num  Wafer_Num               Datetime  \\\n",
       "0        1.047  NOLSM111        1          1  17-02-2019 PM 9:04:30   \n",
       "1        1.051  NOLSM212        1          2  17-02-2019 PM 9:04:30   \n",
       "2        1.017  NOLSM313        1          3  17-02-2019 PM 9:04:30   \n",
       "3        1.027  NOLSM414        1          4  17-02-2019 PM 9:04:30   \n",
       "4        1.050  NOLSM515        1          5  17-02-2019 PM 9:04:30   \n",
       "\n",
       "   Thin Film 4  Thin Film 3  Thin Film 2  Thin Film 1  Etching_rate  \n",
       "0        251.0       267.06       303.82       361.38      3.679333  \n",
       "1        317.0       332.74       369.31       426.11      3.637000  \n",
       "2        411.0       424.21       460.65       517.80      3.560000  \n",
       "3        256.0       272.28       308.56       365.93      3.664333  \n",
       "4        419.0       434.98       471.65       528.85      3.661667  "
      ]
     },
     "execution_count": 175,
     "metadata": {},
     "output_type": "execute_result"
    }
   ],
   "source": [
    "df_etc.head()"
   ]
  },
  {
   "cell_type": "code",
   "execution_count": 176,
   "id": "4daf9d5f",
   "metadata": {},
   "outputs": [],
   "source": [
    "df_impl = pd.read_csv('C:/Users/user/솔트룩스 작업 폴더/DATA/Implant_000.csv')"
   ]
  },
  {
   "cell_type": "code",
   "execution_count": 183,
   "id": "3d4eb643",
   "metadata": {},
   "outputs": [
    {
     "data": {
      "text/html": [
       "<div>\n",
       "<style scoped>\n",
       "    .dataframe tbody tr th:only-of-type {\n",
       "        vertical-align: middle;\n",
       "    }\n",
       "\n",
       "    .dataframe tbody tr th {\n",
       "        vertical-align: top;\n",
       "    }\n",
       "\n",
       "    .dataframe thead th {\n",
       "        text-align: right;\n",
       "    }\n",
       "</style>\n",
       "<table border=\"1\" class=\"dataframe\">\n",
       "  <thead>\n",
       "    <tr style=\"text-align: right;\">\n",
       "      <th></th>\n",
       "      <th>Flux60s</th>\n",
       "      <th>Flux90s</th>\n",
       "      <th>Flux160s</th>\n",
       "      <th>Flux480s</th>\n",
       "      <th>Flux840s</th>\n",
       "    </tr>\n",
       "  </thead>\n",
       "  <tbody>\n",
       "    <tr>\n",
       "      <th>0</th>\n",
       "      <td>9.997373e+15</td>\n",
       "      <td>1.346079e+17</td>\n",
       "      <td>3.468281e+17</td>\n",
       "      <td>3.002593e+17</td>\n",
       "      <td>6.000007e+17</td>\n",
       "    </tr>\n",
       "    <tr>\n",
       "      <th>1</th>\n",
       "      <td>9.705928e+15</td>\n",
       "      <td>1.389326e+17</td>\n",
       "      <td>3.838008e+17</td>\n",
       "      <td>3.017903e+17</td>\n",
       "      <td>6.000012e+17</td>\n",
       "    </tr>\n",
       "    <tr>\n",
       "      <th>2</th>\n",
       "      <td>1.761358e+16</td>\n",
       "      <td>8.782248e+16</td>\n",
       "      <td>6.014497e+17</td>\n",
       "      <td>2.994231e+17</td>\n",
       "      <td>6.000002e+17</td>\n",
       "    </tr>\n",
       "    <tr>\n",
       "      <th>3</th>\n",
       "      <td>1.148303e+16</td>\n",
       "      <td>9.776566e+16</td>\n",
       "      <td>6.646884e+16</td>\n",
       "      <td>2.991354e+17</td>\n",
       "      <td>6.000003e+17</td>\n",
       "    </tr>\n",
       "    <tr>\n",
       "      <th>4</th>\n",
       "      <td>9.769204e+15</td>\n",
       "      <td>1.222219e+17</td>\n",
       "      <td>2.496090e+17</td>\n",
       "      <td>3.005576e+17</td>\n",
       "      <td>6.000013e+17</td>\n",
       "    </tr>\n",
       "  </tbody>\n",
       "</table>\n",
       "</div>"
      ],
      "text/plain": [
       "        Flux60s       Flux90s      Flux160s      Flux480s      Flux840s\n",
       "0  9.997373e+15  1.346079e+17  3.468281e+17  3.002593e+17  6.000007e+17\n",
       "1  9.705928e+15  1.389326e+17  3.838008e+17  3.017903e+17  6.000012e+17\n",
       "2  1.761358e+16  8.782248e+16  6.014497e+17  2.994231e+17  6.000002e+17\n",
       "3  1.148303e+16  9.776566e+16  6.646884e+16  2.991354e+17  6.000003e+17\n",
       "4  9.769204e+15  1.222219e+17  2.496090e+17  3.005576e+17  6.000013e+17"
      ]
     },
     "execution_count": 183,
     "metadata": {},
     "output_type": "execute_result"
    }
   ],
   "source": [
    "df_impl.iloc[:,2:7].head()"
   ]
  },
  {
   "cell_type": "code",
   "execution_count": 181,
   "id": "a79a2e93",
   "metadata": {},
   "outputs": [
    {
     "data": {
      "text/plain": [
       "(839, 16)"
      ]
     },
     "execution_count": 181,
     "metadata": {},
     "output_type": "execute_result"
    }
   ],
   "source": [
    "df_impl.shape"
   ]
  },
  {
   "cell_type": "code",
   "execution_count": 179,
   "id": "41a16ab2",
   "metadata": {},
   "outputs": [],
   "source": [
    "for i in df_impl.iloc[:,2:7]:\n",
    "    df_impl[df_impl[i] < 0 ] = np.NaN\n",
    "df_impl = df_impl.dropna(axis = 0).copy()"
   ]
  },
  {
   "cell_type": "code",
   "execution_count": 207,
   "id": "d7d0cbb6",
   "metadata": {},
   "outputs": [],
   "source": [
    "df_insp = pd.read_csv('C:/Users/user/솔트룩스 작업 폴더/DATA/Inspect_000.csv')"
   ]
  },
  {
   "cell_type": "code",
   "execution_count": 218,
   "id": "433d0d78",
   "metadata": {},
   "outputs": [
    {
     "data": {
      "text/html": [
       "<div>\n",
       "<style scoped>\n",
       "    .dataframe tbody tr th:only-of-type {\n",
       "        vertical-align: middle;\n",
       "    }\n",
       "\n",
       "    .dataframe tbody tr th {\n",
       "        vertical-align: top;\n",
       "    }\n",
       "\n",
       "    .dataframe thead th {\n",
       "        text-align: right;\n",
       "    }\n",
       "</style>\n",
       "<table border=\"1\" class=\"dataframe\">\n",
       "  <thead>\n",
       "    <tr style=\"text-align: right;\">\n",
       "      <th></th>\n",
       "      <th>Target</th>\n",
       "      <th>No_Die</th>\n",
       "      <th>Lot_Num</th>\n",
       "      <th>Wafer_Num</th>\n",
       "      <th>Datetime</th>\n",
       "      <th>Error_message</th>\n",
       "      <th>Wafer_map</th>\n",
       "    </tr>\n",
       "  </thead>\n",
       "  <tbody>\n",
       "    <tr>\n",
       "      <th>0</th>\n",
       "      <td>96</td>\n",
       "      <td>NOLSM111</td>\n",
       "      <td>1</td>\n",
       "      <td>1</td>\n",
       "      <td>02-18-2018</td>\n",
       "      <td>0</td>\n",
       "      <td>[[0 0 0 ... 0 0 0]\\n [0 0 0 ... 0 0 0]\\n [0 0 ...</td>\n",
       "    </tr>\n",
       "    <tr>\n",
       "      <th>1</th>\n",
       "      <td>102</td>\n",
       "      <td>NOLSM212</td>\n",
       "      <td>1</td>\n",
       "      <td>2</td>\n",
       "      <td>02-18-2018</td>\n",
       "      <td>0</td>\n",
       "      <td>[[0 0 0 ... 0 0 0]\\n [0 0 0 ... 0 0 0]\\n [0 0 ...</td>\n",
       "    </tr>\n",
       "    <tr>\n",
       "      <th>2</th>\n",
       "      <td>95</td>\n",
       "      <td>NOLSM313</td>\n",
       "      <td>1</td>\n",
       "      <td>3</td>\n",
       "      <td>02-18-2018</td>\n",
       "      <td>0</td>\n",
       "      <td>[[0 0 0 ... 0 0 0]\\n [0 0 0 ... 0 0 0]\\n [0 0 ...</td>\n",
       "    </tr>\n",
       "    <tr>\n",
       "      <th>3</th>\n",
       "      <td>117</td>\n",
       "      <td>NOLSM414</td>\n",
       "      <td>1</td>\n",
       "      <td>4</td>\n",
       "      <td>02-18-2018</td>\n",
       "      <td>0</td>\n",
       "      <td>[[0 0 0 ... 0 0 0]\\n [0 0 0 ... 0 0 0]\\n [0 0 ...</td>\n",
       "    </tr>\n",
       "    <tr>\n",
       "      <th>4</th>\n",
       "      <td>143</td>\n",
       "      <td>NOLSM515</td>\n",
       "      <td>1</td>\n",
       "      <td>5</td>\n",
       "      <td>02-18-2018</td>\n",
       "      <td>0</td>\n",
       "      <td>[[0 0 0 ... 0 0 0]\\n [0 0 0 ... 0 0 0]\\n [0 0 ...</td>\n",
       "    </tr>\n",
       "  </tbody>\n",
       "</table>\n",
       "</div>"
      ],
      "text/plain": [
       "   Target    No_Die  Lot_Num  Wafer_Num    Datetime Error_message  \\\n",
       "0      96  NOLSM111        1          1  02-18-2018             0   \n",
       "1     102  NOLSM212        1          2  02-18-2018             0   \n",
       "2      95  NOLSM313        1          3  02-18-2018             0   \n",
       "3     117  NOLSM414        1          4  02-18-2018             0   \n",
       "4     143  NOLSM515        1          5  02-18-2018             0   \n",
       "\n",
       "                                           Wafer_map  \n",
       "0  [[0 0 0 ... 0 0 0]\\n [0 0 0 ... 0 0 0]\\n [0 0 ...  \n",
       "1  [[0 0 0 ... 0 0 0]\\n [0 0 0 ... 0 0 0]\\n [0 0 ...  \n",
       "2  [[0 0 0 ... 0 0 0]\\n [0 0 0 ... 0 0 0]\\n [0 0 ...  \n",
       "3  [[0 0 0 ... 0 0 0]\\n [0 0 0 ... 0 0 0]\\n [0 0 ...  \n",
       "4  [[0 0 0 ... 0 0 0]\\n [0 0 0 ... 0 0 0]\\n [0 0 ...  "
      ]
     },
     "execution_count": 218,
     "metadata": {},
     "output_type": "execute_result"
    }
   ],
   "source": [
    "df_insp.head()"
   ]
  },
  {
   "cell_type": "code",
   "execution_count": 209,
   "id": "e3c15ee5",
   "metadata": {},
   "outputs": [],
   "source": [
    "df_insp.loc[df_insp['Error_message'] != 'none','Error_message'] = 1\n",
    "df_insp.loc[df_insp['Error_message'] == 'none','Error_message'] = 0"
   ]
  },
  {
   "cell_type": "code",
   "execution_count": 217,
   "id": "8511a8a6",
   "metadata": {},
   "outputs": [
    {
     "data": {
      "text/plain": [
       "0    786\n",
       "1     66\n",
       "Name: Error_message, dtype: int64"
      ]
     },
     "execution_count": 217,
     "metadata": {},
     "output_type": "execute_result"
    }
   ],
   "source": [
    "df_insp['Error_message'].value_counts()"
   ]
  },
  {
   "cell_type": "code",
   "execution_count": 358,
   "id": "9cc27a2c",
   "metadata": {},
   "outputs": [
    {
     "name": "stderr",
     "output_type": "stream",
     "text": [
      "C:\\Users\\user\\AppData\\Local\\Temp/ipykernel_3548/1359963608.py:4: FutureWarning: Passing 'suffixes' which cause duplicate columns {'Lot_Num_x', 'Wafer_Num_x', 'Datetime_x'} in the result is deprecated and will raise a MergeError in a future version.\n",
      "  df1 = pd.merge(df1, i, left_on = 'No_Die', right_on = 'No_Die', how = 'left')\n"
     ]
    }
   ],
   "source": [
    "temp = [df_oxid, df_sb, df_lg, df_etc]\n",
    "df1 = pd.merge(df_insp, df_impl, left_on = 'No_Die', right_on = 'No_Die', how = 'left')\n",
    "for i in temp:\n",
    "    df1 = pd.merge(df1, i, left_on = 'No_Die', right_on = 'No_Die', how = 'left')"
   ]
  },
  {
   "cell_type": "code",
   "execution_count": 359,
   "id": "53aacdd8",
   "metadata": {},
   "outputs": [
    {
     "data": {
      "text/plain": [
       "(852, 78)"
      ]
     },
     "execution_count": 359,
     "metadata": {},
     "output_type": "execute_result"
    }
   ],
   "source": [
    "df1.shape"
   ]
  },
  {
   "cell_type": "code",
   "execution_count": 360,
   "id": "d9d0e060",
   "metadata": {
    "collapsed": true
   },
   "outputs": [
    {
     "data": {
      "text/plain": [
       "Target                 0\n",
       "No_Die                 0\n",
       "Lot_Num_x              0\n",
       "Wafer_Num_x            0\n",
       "Datetime_x             0\n",
       "Error_message          0\n",
       "Wafer_map              0\n",
       "Chamber_Num            0\n",
       "process4               0\n",
       "Flux60s                0\n",
       "Flux90s                0\n",
       "Flux160s               0\n",
       "Flux480s               0\n",
       "Flux840s               0\n",
       "input_Energy           0\n",
       "Current                0\n",
       "Temp_implantation      0\n",
       "Furance_Temp           0\n",
       "RTA_Temp               0\n",
       "Lot_Num_y              0\n",
       "Wafer_Num_y            0\n",
       "Datetime_y             0\n",
       "Ox_Chamber             0\n",
       "process                0\n",
       "type                   0\n",
       "Temp_OXid              0\n",
       "Vapor                  0\n",
       "ppm                    0\n",
       "Pressure               0\n",
       "Oxid_time              0\n",
       "thickness              0\n",
       "Lot_Num_x              0\n",
       "Wafer_Num_x            0\n",
       "Datetime_x             0\n",
       "Reinforcement          0\n",
       "Unnamed: 0_x           0\n",
       "photo_soft_Chamber     0\n",
       "process 2              0\n",
       "resist_target          0\n",
       "N2_HMDS                0\n",
       "pressure_HMDS          0\n",
       "temp_HMDS              0\n",
       "temp_HMDS_bake         0\n",
       "time_HMDS_bake         0\n",
       "spin1                  0\n",
       "spin2                  0\n",
       "spin3                  0\n",
       "photoresist_bake       0\n",
       "temp_softbake          0\n",
       "time_softbake          0\n",
       "Lot_Num_y              0\n",
       "Wafer_Num_y            0\n",
       "Datetime_y             0\n",
       "lithography_Chamber    0\n",
       "Line_CD                0\n",
       "Lamp                   0\n",
       "UV_type                0\n",
       "Wavelength             0\n",
       "Resolution             0\n",
       "Energy_Exposure        0\n",
       "Lot_Num_x              0\n",
       "Wafer_Num_x            0\n",
       "Datetime_x             0\n",
       "Range_check            0\n",
       "Unnamed: 0_y           0\n",
       "Etching_Chamber        0\n",
       "Process 3              0\n",
       "Temp_Etching           0\n",
       "Source_Power           0\n",
       "Selectivity            0\n",
       "Lot_Num_y              0\n",
       "Wafer_Num_y            0\n",
       "Datetime_y             0\n",
       "Thin Film 4            0\n",
       "Thin Film 3            0\n",
       "Thin Film 2            0\n",
       "Thin Film 1            0\n",
       "Etching_rate           0\n",
       "dtype: int64"
      ]
     },
     "execution_count": 360,
     "metadata": {},
     "output_type": "execute_result"
    }
   ],
   "source": [
    "df1 = df1.dropna(axis = 0)\n",
    "df1.isnull().sum()"
   ]
  },
  {
   "cell_type": "code",
   "execution_count": 288,
   "id": "17483c97",
   "metadata": {},
   "outputs": [
    {
     "name": "stdout",
     "output_type": "stream",
     "text": [
      "Chamber_Num\n",
      "Ox_Chamber\n",
      "photo_soft_Chamber\n",
      "lithography_Chamber\n",
      "Etching_Chamber\n"
     ]
    }
   ],
   "source": [
    "for i in df1.columns:\n",
    "    if 'Chamber' in i:\n",
    "        print(i)"
   ]
  },
  {
   "cell_type": "code",
   "execution_count": 361,
   "id": "5f4f1ea4",
   "metadata": {},
   "outputs": [],
   "source": [
    "df1['Chamber_Route'] = 'route_' + df1['Ox_Chamber'].astype('int').astype('str') + df1['photo_soft_Chamber'].astype('int').astype('str') + df1['lithography_Chamber'].astype('int').astype('str') + df1['Etching_Chamber'].astype('int').astype('str') + df1['Chamber_Num'].astype('int').astype('str')"
   ]
  },
  {
   "cell_type": "code",
   "execution_count": 362,
   "id": "da75e2a7",
   "metadata": {},
   "outputs": [
    {
     "data": {
      "text/html": [
       "<div>\n",
       "<style scoped>\n",
       "    .dataframe tbody tr th:only-of-type {\n",
       "        vertical-align: middle;\n",
       "    }\n",
       "\n",
       "    .dataframe tbody tr th {\n",
       "        vertical-align: top;\n",
       "    }\n",
       "\n",
       "    .dataframe thead th {\n",
       "        text-align: right;\n",
       "    }\n",
       "</style>\n",
       "<table border=\"1\" class=\"dataframe\">\n",
       "  <thead>\n",
       "    <tr style=\"text-align: right;\">\n",
       "      <th></th>\n",
       "      <th>Chamber_Route</th>\n",
       "    </tr>\n",
       "  </thead>\n",
       "  <tbody>\n",
       "    <tr>\n",
       "      <th>0</th>\n",
       "      <td>route_11133</td>\n",
       "    </tr>\n",
       "    <tr>\n",
       "      <th>1</th>\n",
       "      <td>route_11222</td>\n",
       "    </tr>\n",
       "    <tr>\n",
       "      <th>2</th>\n",
       "      <td>route_11311</td>\n",
       "    </tr>\n",
       "    <tr>\n",
       "      <th>3</th>\n",
       "      <td>route_12111</td>\n",
       "    </tr>\n",
       "    <tr>\n",
       "      <th>4</th>\n",
       "      <td>route_12222</td>\n",
       "    </tr>\n",
       "  </tbody>\n",
       "</table>\n",
       "</div>"
      ],
      "text/plain": [
       "  Chamber_Route\n",
       "0   route_11133\n",
       "1   route_11222\n",
       "2   route_11311\n",
       "3   route_12111\n",
       "4   route_12222"
      ]
     },
     "execution_count": 362,
     "metadata": {},
     "output_type": "execute_result"
    }
   ],
   "source": [
    "df1[['Chamber_Route']].head()"
   ]
  },
  {
   "cell_type": "code",
   "execution_count": 430,
   "id": "0808c754",
   "metadata": {
    "scrolled": true
   },
   "outputs": [
    {
     "name": "stdout",
     "output_type": "stream",
     "text": [
      "(732, 58)\n"
     ]
    }
   ],
   "source": [
    "df2 = df1.drop(columns = ['Lot_Num_x', 'Wafer_Num_x', 'Datetime_x', 'Lot_Num_y', 'Wafer_Num_y', 'Datetime_y', 'Lamp', 'Wafer_map', 'Current'])\n",
    "print(df2.shape)"
   ]
  },
  {
   "cell_type": "code",
   "execution_count": 417,
   "id": "612a9b30",
   "metadata": {},
   "outputs": [
    {
     "data": {
      "text/plain": [
       "(732, 79)"
      ]
     },
     "execution_count": 417,
     "metadata": {},
     "output_type": "execute_result"
    }
   ],
   "source": [
    "df1.shape"
   ]
  },
  {
   "cell_type": "code",
   "execution_count": 316,
   "id": "09f8e8c7",
   "metadata": {},
   "outputs": [
    {
     "data": {
      "text/html": [
       "<div>\n",
       "<style scoped>\n",
       "    .dataframe tbody tr th:only-of-type {\n",
       "        vertical-align: middle;\n",
       "    }\n",
       "\n",
       "    .dataframe tbody tr th {\n",
       "        vertical-align: top;\n",
       "    }\n",
       "\n",
       "    .dataframe thead th {\n",
       "        text-align: right;\n",
       "    }\n",
       "</style>\n",
       "<table border=\"1\" class=\"dataframe\">\n",
       "  <thead>\n",
       "    <tr style=\"text-align: right;\">\n",
       "      <th></th>\n",
       "      <th>Ox_Chamber</th>\n",
       "      <th>process</th>\n",
       "      <th>type</th>\n",
       "      <th>Temp_OXid</th>\n",
       "      <th>Vapor</th>\n",
       "      <th>ppm</th>\n",
       "      <th>Pressure</th>\n",
       "      <th>Oxid_time</th>\n",
       "      <th>thickness</th>\n",
       "      <th>No_Die</th>\n",
       "      <th>Lot_Num</th>\n",
       "      <th>Wafer_Num</th>\n",
       "      <th>Datetime</th>\n",
       "      <th>Reinforcement</th>\n",
       "    </tr>\n",
       "  </thead>\n",
       "  <tbody>\n",
       "    <tr>\n",
       "      <th>0</th>\n",
       "      <td>1</td>\n",
       "      <td>Oxidation</td>\n",
       "      <td>dry</td>\n",
       "      <td>1138.979159</td>\n",
       "      <td>O2</td>\n",
       "      <td>32.80</td>\n",
       "      <td>0.200</td>\n",
       "      <td>62</td>\n",
       "      <td>699.443</td>\n",
       "      <td>NOLSM111</td>\n",
       "      <td>1</td>\n",
       "      <td>1</td>\n",
       "      <td>17-02-2019 PM 9:04:30</td>\n",
       "      <td>False</td>\n",
       "    </tr>\n",
       "    <tr>\n",
       "      <th>1</th>\n",
       "      <td>1</td>\n",
       "      <td>Oxidation</td>\n",
       "      <td>dry</td>\n",
       "      <td>1218.184551</td>\n",
       "      <td>O2</td>\n",
       "      <td>31.86</td>\n",
       "      <td>0.194</td>\n",
       "      <td>137</td>\n",
       "      <td>696.792</td>\n",
       "      <td>NOLSM212</td>\n",
       "      <td>1</td>\n",
       "      <td>2</td>\n",
       "      <td>17-02-2019 PM 9:04:30</td>\n",
       "      <td>False</td>\n",
       "    </tr>\n",
       "    <tr>\n",
       "      <th>2</th>\n",
       "      <td>1</td>\n",
       "      <td>Oxidation</td>\n",
       "      <td>dry</td>\n",
       "      <td>1062.467808</td>\n",
       "      <td>O2</td>\n",
       "      <td>39.51</td>\n",
       "      <td>0.217</td>\n",
       "      <td>128</td>\n",
       "      <td>705.471</td>\n",
       "      <td>NOLSM313</td>\n",
       "      <td>1</td>\n",
       "      <td>3</td>\n",
       "      <td>17-02-2019 PM 9:04:30</td>\n",
       "      <td>True</td>\n",
       "    </tr>\n",
       "    <tr>\n",
       "      <th>3</th>\n",
       "      <td>1</td>\n",
       "      <td>Oxidation</td>\n",
       "      <td>dry</td>\n",
       "      <td>1114.704773</td>\n",
       "      <td>O2</td>\n",
       "      <td>32.88</td>\n",
       "      <td>0.201</td>\n",
       "      <td>90</td>\n",
       "      <td>710.772</td>\n",
       "      <td>NOLSM414</td>\n",
       "      <td>1</td>\n",
       "      <td>4</td>\n",
       "      <td>17-02-2019 PM 9:04:30</td>\n",
       "      <td>True</td>\n",
       "    </tr>\n",
       "    <tr>\n",
       "      <th>4</th>\n",
       "      <td>1</td>\n",
       "      <td>Oxidation</td>\n",
       "      <td>dry</td>\n",
       "      <td>989.411946</td>\n",
       "      <td>O2</td>\n",
       "      <td>38.11</td>\n",
       "      <td>0.204</td>\n",
       "      <td>98</td>\n",
       "      <td>716.975</td>\n",
       "      <td>NOLSM515</td>\n",
       "      <td>1</td>\n",
       "      <td>5</td>\n",
       "      <td>17-02-2019 PM 9:04:30</td>\n",
       "      <td>True</td>\n",
       "    </tr>\n",
       "  </tbody>\n",
       "</table>\n",
       "</div>"
      ],
      "text/plain": [
       "   Ox_Chamber    process type    Temp_OXid Vapor    ppm  Pressure  Oxid_time  \\\n",
       "0           1  Oxidation  dry  1138.979159    O2  32.80     0.200         62   \n",
       "1           1  Oxidation  dry  1218.184551    O2  31.86     0.194        137   \n",
       "2           1  Oxidation  dry  1062.467808    O2  39.51     0.217        128   \n",
       "3           1  Oxidation  dry  1114.704773    O2  32.88     0.201         90   \n",
       "4           1  Oxidation  dry   989.411946    O2  38.11     0.204         98   \n",
       "\n",
       "   thickness    No_Die  Lot_Num  Wafer_Num               Datetime  \\\n",
       "0    699.443  NOLSM111        1          1  17-02-2019 PM 9:04:30   \n",
       "1    696.792  NOLSM212        1          2  17-02-2019 PM 9:04:30   \n",
       "2    705.471  NOLSM313        1          3  17-02-2019 PM 9:04:30   \n",
       "3    710.772  NOLSM414        1          4  17-02-2019 PM 9:04:30   \n",
       "4    716.975  NOLSM515        1          5  17-02-2019 PM 9:04:30   \n",
       "\n",
       "   Reinforcement  \n",
       "0          False  \n",
       "1          False  \n",
       "2           True  \n",
       "3           True  \n",
       "4           True  "
      ]
     },
     "execution_count": 316,
     "metadata": {},
     "output_type": "execute_result"
    }
   ],
   "source": [
    "df_oxid.head()"
   ]
  },
  {
   "cell_type": "code",
   "execution_count": 322,
   "id": "167bd97d",
   "metadata": {},
   "outputs": [
    {
     "data": {
      "text/plain": [
       "<AxesSubplot:xlabel='Reinforcement', ylabel='Oxid_time'>"
      ]
     },
     "execution_count": 322,
     "metadata": {},
     "output_type": "execute_result"
    },
    {
     "data": {
      "image/png": "[encoded data removed]",
      "text/plain": [
       "<Figure size 432x288 with 1 Axes>"
      ]
     },
     "metadata": {
      "image/png": {
       "height": 263,
       "width": 387
      },
      "needs_background": "light"
     },
     "output_type": "display_data"
    }
   ],
   "source": [
    "sns.boxplot(data = df_oxid, x = 'Reinforcement', y = 'Oxid_time')"
   ]
  },
  {
   "cell_type": "code",
   "execution_count": 333,
   "id": "713d2676",
   "metadata": {},
   "outputs": [],
   "source": [
    "df_temp = df_oxid"
   ]
  },
  {
   "cell_type": "code",
   "execution_count": 433,
   "id": "0db12dfa",
   "metadata": {},
   "outputs": [],
   "source": [
    "df_true = df1[df2['Reinforcement'] == True]\n",
    "df_false = df1[df2['Reinforcement'] == False]"
   ]
  },
  {
   "cell_type": "code",
   "execution_count": 432,
   "id": "54a4b178",
   "metadata": {},
   "outputs": [
    {
     "data": {
      "text/plain": [
       "<AxesSubplot:xlabel='Oxid_time', ylabel='Count'>"
      ]
     },
     "execution_count": 432,
     "metadata": {},
     "output_type": "execute_result"
    },
    {
     "data": {
      "image/png": "[encoded data removed]",
      "text/plain": [
       "<Figure size 432x288 with 1 Axes>"
      ]
     },
     "metadata": {
      "image/png": {
       "height": 263,
       "width": 389
      },
      "needs_background": "light"
     },
     "output_type": "display_data"
    }
   ],
   "source": [
    "sns.histplot(data = df2, x = 'Oxid_time')"
   ]
  },
  {
   "cell_type": "code",
   "execution_count": 434,
   "id": "3b8d8df9",
   "metadata": {},
   "outputs": [
    {
     "name": "stdout",
     "output_type": "stream",
     "text": [
      "ShapiroResult(statistic=0.8884432911872864, pvalue=1.1030756390982229e-21)\n",
      "ShapiroResult(statistic=0.9405617117881775, pvalue=0.008209164254367352)\n"
     ]
    }
   ],
   "source": [
    "# 정규성 검정\n",
    "x = st.shapiro(df_true['Oxid_time'])\n",
    "print(x)\n",
    "y = st.shapiro(df_false['Oxid_time'])\n",
    "print(y)"
   ]
  },
  {
   "cell_type": "markdown",
   "id": "7b69fb8e",
   "metadata": {},
   "source": [
    "정규성 만족 X"
   ]
  },
  {
   "cell_type": "code",
   "execution_count": 435,
   "id": "0068a5a6",
   "metadata": {},
   "outputs": [
    {
     "name": "stdout",
     "output_type": "stream",
     "text": [
      "RanksumsResult(statistic=1.1044632823206646, pvalue=0.2693922227721355)\n"
     ]
    }
   ],
   "source": [
    "# 비모수적 검정 Wilcoxon ranksum test\n",
    "x = st.ranksums(df_true['Oxid_time'],df_false['Oxid_time'])\n",
    "print(x)"
   ]
  },
  {
   "cell_type": "markdown",
   "id": "153051a5",
   "metadata": {},
   "source": [
    "x와 y의 데이터가 중앙값이 같은 연속 분포에서 추출된 표본이다"
   ]
  },
  {
   "cell_type": "code",
   "execution_count": 436,
   "id": "f0401937",
   "metadata": {},
   "outputs": [
    {
     "name": "stdout",
     "output_type": "stream",
     "text": [
      "등분산검정결과 p-value는 0.0004563\n"
     ]
    }
   ],
   "source": [
    "# 등분산 검정\n",
    "stat, p = st.bartlett(df_true['Oxid_time'],df_false['Oxid_time'])\n",
    "print('등분산검정결과 p-value는 %.7f' % p)"
   ]
  },
  {
   "cell_type": "markdown",
   "id": "3f255256",
   "metadata": {},
   "source": [
    "등분산성 만족 X"
   ]
  },
  {
   "cell_type": "code",
   "execution_count": 437,
   "id": "2d896e01",
   "metadata": {
    "scrolled": true
   },
   "outputs": [
    {
     "name": "stdout",
     "output_type": "stream",
     "text": [
      "2-Sample t-test \n",
      "t검정통계량: 1.407 \n",
      "p-value: 0.16 \n"
     ]
    }
   ],
   "source": [
    "# 2-Sample t-test\n",
    "t_result = st.ttest_ind(df_true['Oxid_time'], df_false['Oxid_time'], equal_var = True)\n",
    "t, p = t_result.statistic.round(3), t_result.pvalue.round(3)\n",
    "\n",
    "print( \"2-Sample t-test \")\n",
    "print( \"t검정통계량: {} \" .format(t))\n",
    "print( \"p-value: {} \" .format(p))"
   ]
  },
  {
   "cell_type": "markdown",
   "id": "461d9472",
   "metadata": {},
   "source": [
    "p-value = 0.16 > 0.05 귀무가설 채택\n",
    "보강 여부에 따른 Oxidation Time 의 차이가 없다."
   ]
  },
  {
   "cell_type": "code",
   "execution_count": 438,
   "id": "aa1d7bdb",
   "metadata": {},
   "outputs": [
    {
     "data": {
      "text/plain": [
       "<AxesSubplot:xlabel='UV_type', ylabel='count'>"
      ]
     },
     "execution_count": 438,
     "metadata": {},
     "output_type": "execute_result"
    },
    {
     "data": {
      "image/png": "[encoded data removed]",
      "text/plain": [
       "<Figure size 432x288 with 1 Axes>"
      ]
     },
     "metadata": {
      "image/png": {
       "height": 263,
       "width": 387
      },
      "needs_background": "light"
     },
     "output_type": "display_data"
    }
   ],
   "source": [
    "sns.countplot(data = df2, x = \"UV_type\",hue = \"Range_check\")"
   ]
  },
  {
   "cell_type": "code",
   "execution_count": 439,
   "id": "1a7cdca8",
   "metadata": {},
   "outputs": [],
   "source": [
    "df_uv = pd.crosstab(df2['UV_type'],df2['Range_check'])"
   ]
  },
  {
   "cell_type": "code",
   "execution_count": 440,
   "id": "5d3114a0",
   "metadata": {},
   "outputs": [
    {
     "data": {
      "text/html": [
       "<div>\n",
       "<style scoped>\n",
       "    .dataframe tbody tr th:only-of-type {\n",
       "        vertical-align: middle;\n",
       "    }\n",
       "\n",
       "    .dataframe tbody tr th {\n",
       "        vertical-align: top;\n",
       "    }\n",
       "\n",
       "    .dataframe thead th {\n",
       "        text-align: right;\n",
       "    }\n",
       "</style>\n",
       "<table border=\"1\" class=\"dataframe\">\n",
       "  <thead>\n",
       "    <tr style=\"text-align: right;\">\n",
       "      <th>Range_check</th>\n",
       "      <th>False</th>\n",
       "      <th>True</th>\n",
       "    </tr>\n",
       "    <tr>\n",
       "      <th>UV_type</th>\n",
       "      <th></th>\n",
       "      <th></th>\n",
       "    </tr>\n",
       "  </thead>\n",
       "  <tbody>\n",
       "    <tr>\n",
       "      <th>G</th>\n",
       "      <td>34</td>\n",
       "      <td>231</td>\n",
       "    </tr>\n",
       "    <tr>\n",
       "      <th>H</th>\n",
       "      <td>84</td>\n",
       "      <td>162</td>\n",
       "    </tr>\n",
       "    <tr>\n",
       "      <th>I</th>\n",
       "      <td>39</td>\n",
       "      <td>182</td>\n",
       "    </tr>\n",
       "  </tbody>\n",
       "</table>\n",
       "</div>"
      ],
      "text/plain": [
       "Range_check  False  True\n",
       "UV_type                 \n",
       "G               34   231\n",
       "H               84   162\n",
       "I               39   182"
      ]
     },
     "execution_count": 440,
     "metadata": {},
     "output_type": "execute_result"
    }
   ],
   "source": [
    "df_uv"
   ]
  },
  {
   "cell_type": "code",
   "execution_count": 441,
   "id": "5a259762",
   "metadata": {},
   "outputs": [
    {
     "data": {
      "text/plain": [
       "(37.120667894033666,\n",
       " 8.696597784548035e-09,\n",
       " 2,\n",
       " array([[ 56.83743169, 208.16256831],\n",
       "        [ 52.76229508, 193.23770492],\n",
       "        [ 47.40027322, 173.59972678]]))"
      ]
     },
     "execution_count": 441,
     "metadata": {},
     "output_type": "execute_result"
    }
   ],
   "source": [
    "st.chi2_contingency(df_uv)"
   ]
  },
  {
   "cell_type": "markdown",
   "id": "e94b6bc6",
   "metadata": {},
   "source": [
    "p-value = 2.4386538822204055e-07 < 0.05 귀무가설 기각.\n",
    "UV Type에 따른 Out of Range의 유의미한 차이가 있다."
   ]
  },
  {
   "cell_type": "code",
   "execution_count": 442,
   "id": "b405167d",
   "metadata": {},
   "outputs": [
    {
     "data": {
      "text/plain": [
       "<seaborn.axisgrid.JointGrid at 0x217335e8d00>"
      ]
     },
     "execution_count": 442,
     "metadata": {},
     "output_type": "execute_result"
    },
    {
     "data": {
      "image/png": "[encoded data removed]",
      "text/plain": [
       "<Figure size 432x432 with 3 Axes>"
      ]
     },
     "metadata": {
      "image/png": {
       "height": 427,
       "width": 429
      },
      "needs_background": "light"
     },
     "output_type": "display_data"
    }
   ],
   "source": [
    "sns.jointplot(x = df2['Etching_rate'], y = df2['Target'])"
   ]
  },
  {
   "cell_type": "code",
   "execution_count": 488,
   "id": "9e613b73",
   "metadata": {},
   "outputs": [],
   "source": [
    "Chamber_Route_count = df2[['Chamber_Route']].groupby(df2['Chamber_Route']).count()"
   ]
  },
  {
   "cell_type": "code",
   "execution_count": 489,
   "id": "ea48128d",
   "metadata": {},
   "outputs": [],
   "source": [
    "Chamber_Route_count.columns = ['count']"
   ]
  },
  {
   "cell_type": "code",
   "execution_count": 492,
   "id": "db3f6577",
   "metadata": {},
   "outputs": [],
   "source": [
    "Chamber_Route_count = Chamber_Route_count.reset_index()"
   ]
  },
  {
   "cell_type": "code",
   "execution_count": 494,
   "id": "2b19cf51",
   "metadata": {},
   "outputs": [
    {
     "data": {
      "text/html": [
       "<div>\n",
       "<style scoped>\n",
       "    .dataframe tbody tr th:only-of-type {\n",
       "        vertical-align: middle;\n",
       "    }\n",
       "\n",
       "    .dataframe tbody tr th {\n",
       "        vertical-align: top;\n",
       "    }\n",
       "\n",
       "    .dataframe thead th {\n",
       "        text-align: right;\n",
       "    }\n",
       "</style>\n",
       "<table border=\"1\" class=\"dataframe\">\n",
       "  <thead>\n",
       "    <tr style=\"text-align: right;\">\n",
       "      <th></th>\n",
       "      <th>Chamber_Route</th>\n",
       "      <th>count</th>\n",
       "    </tr>\n",
       "  </thead>\n",
       "  <tbody>\n",
       "    <tr>\n",
       "      <th>0</th>\n",
       "      <td>route_11111</td>\n",
       "      <td>13</td>\n",
       "    </tr>\n",
       "    <tr>\n",
       "      <th>1</th>\n",
       "      <td>route_11133</td>\n",
       "      <td>12</td>\n",
       "    </tr>\n",
       "    <tr>\n",
       "      <th>2</th>\n",
       "      <td>route_11222</td>\n",
       "      <td>24</td>\n",
       "    </tr>\n",
       "    <tr>\n",
       "      <th>3</th>\n",
       "      <td>route_11311</td>\n",
       "      <td>16</td>\n",
       "    </tr>\n",
       "    <tr>\n",
       "      <th>4</th>\n",
       "      <td>route_11333</td>\n",
       "      <td>12</td>\n",
       "    </tr>\n",
       "  </tbody>\n",
       "</table>\n",
       "</div>"
      ],
      "text/plain": [
       "  Chamber_Route  count\n",
       "0   route_11111     13\n",
       "1   route_11133     12\n",
       "2   route_11222     24\n",
       "3   route_11311     16\n",
       "4   route_11333     12"
      ]
     },
     "execution_count": 494,
     "metadata": {},
     "output_type": "execute_result"
    }
   ],
   "source": [
    "Chamber_Route_count.head()"
   ]
  },
  {
   "cell_type": "code",
   "execution_count": 495,
   "id": "9589fa01",
   "metadata": {
    "scrolled": true
   },
   "outputs": [
    {
     "data": {
      "image/png": "[encoded data removed]",
      "text/plain": [
       "<Figure size 720x360 with 1 Axes>"
      ]
     },
     "metadata": {
      "image/png": {
       "height": 354,
       "width": 622
      },
      "needs_background": "light"
     },
     "output_type": "display_data"
    }
   ],
   "source": [
    "plt.figure(figsize = (10,5))\n",
    "sns.countplot(data = df2 , x = 'Chamber_Route')\n",
    "plt.xticks(rotation = 45)\n",
    "plt.ylabel('경로별 들어온 Wafer 갯수')\n",
    "plt.show()"
   ]
  },
  {
   "cell_type": "code",
   "execution_count": 509,
   "id": "20e78dc2",
   "metadata": {},
   "outputs": [],
   "source": [
    "Chamber_Route_error = pd.pivot_table(data = df2,index = 'Chamber_Route',values = 'Target' , aggfunc = 'sum')"
   ]
  },
  {
   "cell_type": "code",
   "execution_count": 518,
   "id": "f5cc6864",
   "metadata": {},
   "outputs": [],
   "source": [
    "Chamber_Route_error = Chamber_Route_error.reset_index()"
   ]
  },
  {
   "cell_type": "code",
   "execution_count": 519,
   "id": "83dbf420",
   "metadata": {},
   "outputs": [
    {
     "data": {
      "text/html": [
       "<div>\n",
       "<style scoped>\n",
       "    .dataframe tbody tr th:only-of-type {\n",
       "        vertical-align: middle;\n",
       "    }\n",
       "\n",
       "    .dataframe tbody tr th {\n",
       "        vertical-align: top;\n",
       "    }\n",
       "\n",
       "    .dataframe thead th {\n",
       "        text-align: right;\n",
       "    }\n",
       "</style>\n",
       "<table border=\"1\" class=\"dataframe\">\n",
       "  <thead>\n",
       "    <tr style=\"text-align: right;\">\n",
       "      <th></th>\n",
       "      <th>Chamber_Route</th>\n",
       "      <th>Target</th>\n",
       "    </tr>\n",
       "  </thead>\n",
       "  <tbody>\n",
       "    <tr>\n",
       "      <th>27</th>\n",
       "      <td>route_23222</td>\n",
       "      <td>3850</td>\n",
       "    </tr>\n",
       "    <tr>\n",
       "      <th>37</th>\n",
       "      <td>route_32222</td>\n",
       "      <td>3511</td>\n",
       "    </tr>\n",
       "    <tr>\n",
       "      <th>17</th>\n",
       "      <td>route_21222</td>\n",
       "      <td>3358</td>\n",
       "    </tr>\n",
       "    <tr>\n",
       "      <th>22</th>\n",
       "      <td>route_22222</td>\n",
       "      <td>3351</td>\n",
       "    </tr>\n",
       "    <tr>\n",
       "      <th>12</th>\n",
       "      <td>route_13222</td>\n",
       "      <td>2976</td>\n",
       "    </tr>\n",
       "    <tr>\n",
       "      <th>7</th>\n",
       "      <td>route_12222</td>\n",
       "      <td>2835</td>\n",
       "    </tr>\n",
       "    <tr>\n",
       "      <th>32</th>\n",
       "      <td>route_31222</td>\n",
       "      <td>2267</td>\n",
       "    </tr>\n",
       "    <tr>\n",
       "      <th>2</th>\n",
       "      <td>route_11222</td>\n",
       "      <td>2211</td>\n",
       "    </tr>\n",
       "    <tr>\n",
       "      <th>9</th>\n",
       "      <td>route_12333</td>\n",
       "      <td>2055</td>\n",
       "    </tr>\n",
       "    <tr>\n",
       "      <th>30</th>\n",
       "      <td>route_31111</td>\n",
       "      <td>2007</td>\n",
       "    </tr>\n",
       "  </tbody>\n",
       "</table>\n",
       "</div>"
      ],
      "text/plain": [
       "   Chamber_Route  Target\n",
       "27   route_23222    3850\n",
       "37   route_32222    3511\n",
       "17   route_21222    3358\n",
       "22   route_22222    3351\n",
       "12   route_13222    2976\n",
       "7    route_12222    2835\n",
       "32   route_31222    2267\n",
       "2    route_11222    2211\n",
       "9    route_12333    2055\n",
       "30   route_31111    2007"
      ]
     },
     "execution_count": 519,
     "metadata": {},
     "output_type": "execute_result"
    }
   ],
   "source": [
    "Chamber_Route_error.sort_values(by = 'Target',ascending = False).head(10)"
   ]
  },
  {
   "cell_type": "code",
   "execution_count": 553,
   "id": "cd92a301",
   "metadata": {},
   "outputs": [
    {
     "data": {
      "image/png": "[encoded data removed]",
      "text/plain": [
       "<Figure size 720x360 with 1 Axes>"
      ]
     },
     "metadata": {
      "image/png": {
       "height": 355,
       "width": 633
      },
      "needs_background": "light"
     },
     "output_type": "display_data"
    }
   ],
   "source": [
    "plt.figure(figsize = (10,5))\n",
    "sns.barplot(data =  Chamber_Route_error, x = 'Chamber_Route', y = 'Target')\n",
    "plt.xticks(rotation = 45)\n",
    "plt.ylabel('경로별 불량 Wafer Chip 갯수')\n",
    "plt.show()"
   ]
  },
  {
   "cell_type": "code",
   "execution_count": 544,
   "id": "3811b3a0",
   "metadata": {},
   "outputs": [],
   "source": [
    "Chamber_Route_Table = pd.merge(Chamber_Route_count,Chamber_Route_error)"
   ]
  },
  {
   "cell_type": "code",
   "execution_count": 547,
   "id": "1e8e5096",
   "metadata": {},
   "outputs": [
    {
     "data": {
      "text/html": [
       "<div>\n",
       "<style scoped>\n",
       "    .dataframe tbody tr th:only-of-type {\n",
       "        vertical-align: middle;\n",
       "    }\n",
       "\n",
       "    .dataframe tbody tr th {\n",
       "        vertical-align: top;\n",
       "    }\n",
       "\n",
       "    .dataframe thead th {\n",
       "        text-align: right;\n",
       "    }\n",
       "</style>\n",
       "<table border=\"1\" class=\"dataframe\">\n",
       "  <thead>\n",
       "    <tr style=\"text-align: right;\">\n",
       "      <th></th>\n",
       "      <th>Chamber_Route</th>\n",
       "      <th>count</th>\n",
       "      <th>Target</th>\n",
       "    </tr>\n",
       "  </thead>\n",
       "  <tbody>\n",
       "    <tr>\n",
       "      <th>0</th>\n",
       "      <td>route_11111</td>\n",
       "      <td>13</td>\n",
       "      <td>1248</td>\n",
       "    </tr>\n",
       "    <tr>\n",
       "      <th>1</th>\n",
       "      <td>route_11133</td>\n",
       "      <td>12</td>\n",
       "      <td>1279</td>\n",
       "    </tr>\n",
       "    <tr>\n",
       "      <th>2</th>\n",
       "      <td>route_11222</td>\n",
       "      <td>24</td>\n",
       "      <td>2211</td>\n",
       "    </tr>\n",
       "    <tr>\n",
       "      <th>3</th>\n",
       "      <td>route_11311</td>\n",
       "      <td>16</td>\n",
       "      <td>1742</td>\n",
       "    </tr>\n",
       "    <tr>\n",
       "      <th>4</th>\n",
       "      <td>route_11333</td>\n",
       "      <td>12</td>\n",
       "      <td>1061</td>\n",
       "    </tr>\n",
       "  </tbody>\n",
       "</table>\n",
       "</div>"
      ],
      "text/plain": [
       "  Chamber_Route  count  Target\n",
       "0   route_11111     13    1248\n",
       "1   route_11133     12    1279\n",
       "2   route_11222     24    2211\n",
       "3   route_11311     16    1742\n",
       "4   route_11333     12    1061"
      ]
     },
     "execution_count": 547,
     "metadata": {},
     "output_type": "execute_result"
    }
   ],
   "source": [
    "Chamber_Route_Table.head()"
   ]
  },
  {
   "cell_type": "code",
   "execution_count": 548,
   "id": "efe64360",
   "metadata": {
    "scrolled": true
   },
   "outputs": [],
   "source": [
    "Chamber_Route_Table['Error_Rate'] = (Chamber_Route_Table['Target']/ Chamber_Route_Table['count']).round(3) / 200"
   ]
  },
  {
   "cell_type": "code",
   "execution_count": 550,
   "id": "a0cf0d2e",
   "metadata": {},
   "outputs": [
    {
     "data": {
      "text/html": [
       "<div>\n",
       "<style scoped>\n",
       "    .dataframe tbody tr th:only-of-type {\n",
       "        vertical-align: middle;\n",
       "    }\n",
       "\n",
       "    .dataframe tbody tr th {\n",
       "        vertical-align: top;\n",
       "    }\n",
       "\n",
       "    .dataframe thead th {\n",
       "        text-align: right;\n",
       "    }\n",
       "</style>\n",
       "<table border=\"1\" class=\"dataframe\">\n",
       "  <thead>\n",
       "    <tr style=\"text-align: right;\">\n",
       "      <th></th>\n",
       "      <th>Chamber_Route</th>\n",
       "      <th>count</th>\n",
       "      <th>Target</th>\n",
       "      <th>Error_Rate</th>\n",
       "    </tr>\n",
       "  </thead>\n",
       "  <tbody>\n",
       "    <tr>\n",
       "      <th>39</th>\n",
       "      <td>route_32333</td>\n",
       "      <td>8</td>\n",
       "      <td>1561</td>\n",
       "      <td>0.975625</td>\n",
       "    </tr>\n",
       "    <tr>\n",
       "      <th>26</th>\n",
       "      <td>route_23133</td>\n",
       "      <td>11</td>\n",
       "      <td>1792</td>\n",
       "      <td>0.814545</td>\n",
       "    </tr>\n",
       "    <tr>\n",
       "      <th>11</th>\n",
       "      <td>route_13133</td>\n",
       "      <td>9</td>\n",
       "      <td>1452</td>\n",
       "      <td>0.806665</td>\n",
       "    </tr>\n",
       "    <tr>\n",
       "      <th>21</th>\n",
       "      <td>route_22133</td>\n",
       "      <td>12</td>\n",
       "      <td>1895</td>\n",
       "      <td>0.789585</td>\n",
       "    </tr>\n",
       "    <tr>\n",
       "      <th>7</th>\n",
       "      <td>route_12222</td>\n",
       "      <td>20</td>\n",
       "      <td>2835</td>\n",
       "      <td>0.708750</td>\n",
       "    </tr>\n",
       "    <tr>\n",
       "      <th>19</th>\n",
       "      <td>route_21333</td>\n",
       "      <td>14</td>\n",
       "      <td>1931</td>\n",
       "      <td>0.689645</td>\n",
       "    </tr>\n",
       "    <tr>\n",
       "      <th>9</th>\n",
       "      <td>route_12333</td>\n",
       "      <td>15</td>\n",
       "      <td>2055</td>\n",
       "      <td>0.685000</td>\n",
       "    </tr>\n",
       "    <tr>\n",
       "      <th>15</th>\n",
       "      <td>route_21111</td>\n",
       "      <td>12</td>\n",
       "      <td>1634</td>\n",
       "      <td>0.680835</td>\n",
       "    </tr>\n",
       "    <tr>\n",
       "      <th>17</th>\n",
       "      <td>route_21222</td>\n",
       "      <td>26</td>\n",
       "      <td>3358</td>\n",
       "      <td>0.645770</td>\n",
       "    </tr>\n",
       "    <tr>\n",
       "      <th>33</th>\n",
       "      <td>route_31311</td>\n",
       "      <td>12</td>\n",
       "      <td>1548</td>\n",
       "      <td>0.645000</td>\n",
       "    </tr>\n",
       "  </tbody>\n",
       "</table>\n",
       "</div>"
      ],
      "text/plain": [
       "   Chamber_Route  count  Target  Error_Rate\n",
       "39   route_32333      8    1561    0.975625\n",
       "26   route_23133     11    1792    0.814545\n",
       "11   route_13133      9    1452    0.806665\n",
       "21   route_22133     12    1895    0.789585\n",
       "7    route_12222     20    2835    0.708750\n",
       "19   route_21333     14    1931    0.689645\n",
       "9    route_12333     15    2055    0.685000\n",
       "15   route_21111     12    1634    0.680835\n",
       "17   route_21222     26    3358    0.645770\n",
       "33   route_31311     12    1548    0.645000"
      ]
     },
     "execution_count": 550,
     "metadata": {},
     "output_type": "execute_result"
    }
   ],
   "source": [
    "Chamber_Route_Table.sort_values(by = 'Error_Rate',ascending = False).head(10)"
   ]
  },
  {
   "cell_type": "code",
   "execution_count": 552,
   "id": "e375fc00",
   "metadata": {},
   "outputs": [
    {
     "data": {
      "image/png": "[encoded data removed]",
      "text/plain": [
       "<Figure size 720x360 with 1 Axes>"
      ]
     },
     "metadata": {
      "image/png": {
       "height": 354,
       "width": 624
      },
      "needs_background": "light"
     },
     "output_type": "display_data"
    }
   ],
   "source": [
    "plt.figure(figsize = (10,5))\n",
    "sns.barplot(data =  Chamber_Route_Table, x = 'Chamber_Route', y = 'Error_Rate')\n",
    "plt.xticks(rotation = 45)\n",
    "plt.ylabel('경로별 불량 Wafer 비율')\n",
    "plt.show()"
   ]
  },
  {
   "cell_type": "code",
   "execution_count": 556,
   "id": "eb74e1aa",
   "metadata": {},
   "outputs": [],
   "source": [
    "Chamber_Route_Table['과부화여부'] = Chamber_Route_Table['Error_Rate'].map(lambda x: '정상' if x <= 0.6 else '과부화')"
   ]
  },
  {
   "cell_type": "code",
   "execution_count": 559,
   "id": "e8f23e46",
   "metadata": {},
   "outputs": [
    {
     "data": {
      "text/plain": [
       "정상     31\n",
       "과부화    14\n",
       "Name: 과부화여부, dtype: int64"
      ]
     },
     "execution_count": 559,
     "metadata": {},
     "output_type": "execute_result"
    }
   ],
   "source": [
    "Chamber_Route_Table['과부화여부'].value_counts()"
   ]
  },
  {
   "cell_type": "code",
   "execution_count": 560,
   "id": "9176da7b",
   "metadata": {
    "scrolled": true
   },
   "outputs": [
    {
     "data": {
      "text/html": [
       "<div>\n",
       "<style scoped>\n",
       "    .dataframe tbody tr th:only-of-type {\n",
       "        vertical-align: middle;\n",
       "    }\n",
       "\n",
       "    .dataframe tbody tr th {\n",
       "        vertical-align: top;\n",
       "    }\n",
       "\n",
       "    .dataframe thead th {\n",
       "        text-align: right;\n",
       "    }\n",
       "</style>\n",
       "<table border=\"1\" class=\"dataframe\">\n",
       "  <thead>\n",
       "    <tr style=\"text-align: right;\">\n",
       "      <th></th>\n",
       "      <th>Chamber_Route</th>\n",
       "      <th>count</th>\n",
       "      <th>Target</th>\n",
       "      <th>Error_Rate</th>\n",
       "      <th>과부화여부</th>\n",
       "    </tr>\n",
       "  </thead>\n",
       "  <tbody>\n",
       "    <tr>\n",
       "      <th>0</th>\n",
       "      <td>route_11111</td>\n",
       "      <td>13</td>\n",
       "      <td>1248</td>\n",
       "      <td>0.480000</td>\n",
       "      <td>정상</td>\n",
       "    </tr>\n",
       "    <tr>\n",
       "      <th>1</th>\n",
       "      <td>route_11133</td>\n",
       "      <td>12</td>\n",
       "      <td>1279</td>\n",
       "      <td>0.532915</td>\n",
       "      <td>정상</td>\n",
       "    </tr>\n",
       "    <tr>\n",
       "      <th>2</th>\n",
       "      <td>route_11222</td>\n",
       "      <td>24</td>\n",
       "      <td>2211</td>\n",
       "      <td>0.460625</td>\n",
       "      <td>정상</td>\n",
       "    </tr>\n",
       "  </tbody>\n",
       "</table>\n",
       "</div>"
      ],
      "text/plain": [
       "  Chamber_Route  count  Target  Error_Rate 과부화여부\n",
       "0   route_11111     13    1248    0.480000    정상\n",
       "1   route_11133     12    1279    0.532915    정상\n",
       "2   route_11222     24    2211    0.460625    정상"
      ]
     },
     "execution_count": 560,
     "metadata": {},
     "output_type": "execute_result"
    }
   ],
   "source": [
    "Chamber_Route_Table.head(3)"
   ]
  },
  {
   "cell_type": "code",
   "execution_count": 572,
   "id": "7939926f",
   "metadata": {},
   "outputs": [
    {
     "name": "stdout",
     "output_type": "stream",
     "text": [
      "(732, 63)\n"
     ]
    },
    {
     "data": {
      "text/html": [
       "<div>\n",
       "<style scoped>\n",
       "    .dataframe tbody tr th:only-of-type {\n",
       "        vertical-align: middle;\n",
       "    }\n",
       "\n",
       "    .dataframe tbody tr th {\n",
       "        vertical-align: top;\n",
       "    }\n",
       "\n",
       "    .dataframe thead th {\n",
       "        text-align: right;\n",
       "    }\n",
       "</style>\n",
       "<table border=\"1\" class=\"dataframe\">\n",
       "  <thead>\n",
       "    <tr style=\"text-align: right;\">\n",
       "      <th></th>\n",
       "      <th>Target_x</th>\n",
       "      <th>No_Die</th>\n",
       "      <th>Error_message</th>\n",
       "      <th>Chamber_Num</th>\n",
       "      <th>process4</th>\n",
       "      <th>Flux60s</th>\n",
       "      <th>Flux90s</th>\n",
       "      <th>Flux160s</th>\n",
       "      <th>Flux480s</th>\n",
       "      <th>Flux840s</th>\n",
       "      <th>input_Energy</th>\n",
       "      <th>Temp_implantation</th>\n",
       "      <th>Furance_Temp</th>\n",
       "      <th>RTA_Temp</th>\n",
       "      <th>Ox_Chamber</th>\n",
       "      <th>process</th>\n",
       "      <th>type</th>\n",
       "      <th>Temp_OXid</th>\n",
       "      <th>Vapor</th>\n",
       "      <th>ppm</th>\n",
       "      <th>Pressure</th>\n",
       "      <th>Oxid_time</th>\n",
       "      <th>thickness</th>\n",
       "      <th>Reinforcement</th>\n",
       "      <th>Unnamed: 0_x</th>\n",
       "      <th>photo_soft_Chamber</th>\n",
       "      <th>process 2</th>\n",
       "      <th>resist_target</th>\n",
       "      <th>N2_HMDS</th>\n",
       "      <th>pressure_HMDS</th>\n",
       "      <th>temp_HMDS</th>\n",
       "      <th>temp_HMDS_bake</th>\n",
       "      <th>time_HMDS_bake</th>\n",
       "      <th>spin1</th>\n",
       "      <th>spin2</th>\n",
       "      <th>spin3</th>\n",
       "      <th>photoresist_bake</th>\n",
       "      <th>temp_softbake</th>\n",
       "      <th>time_softbake</th>\n",
       "      <th>lithography_Chamber</th>\n",
       "      <th>Line_CD</th>\n",
       "      <th>UV_type</th>\n",
       "      <th>Wavelength</th>\n",
       "      <th>Resolution</th>\n",
       "      <th>Energy_Exposure</th>\n",
       "      <th>Range_check</th>\n",
       "      <th>Unnamed: 0_y</th>\n",
       "      <th>Etching_Chamber</th>\n",
       "      <th>Process 3</th>\n",
       "      <th>Temp_Etching</th>\n",
       "      <th>Source_Power</th>\n",
       "      <th>Selectivity</th>\n",
       "      <th>Thin Film 4</th>\n",
       "      <th>Thin Film 3</th>\n",
       "      <th>Thin Film 2</th>\n",
       "      <th>Thin Film 1</th>\n",
       "      <th>Etching_rate</th>\n",
       "      <th>Chamber_Route</th>\n",
       "      <th>Error_Rate_x</th>\n",
       "      <th>count</th>\n",
       "      <th>Target_y</th>\n",
       "      <th>Error_Rate_y</th>\n",
       "      <th>과부화여부</th>\n",
       "    </tr>\n",
       "  </thead>\n",
       "  <tbody>\n",
       "    <tr>\n",
       "      <th>0</th>\n",
       "      <td>96</td>\n",
       "      <td>NOLSM111</td>\n",
       "      <td>0</td>\n",
       "      <td>3.0</td>\n",
       "      <td>Implantation</td>\n",
       "      <td>9.997373e+15</td>\n",
       "      <td>1.346079e+17</td>\n",
       "      <td>3.468281e+17</td>\n",
       "      <td>3.002593e+17</td>\n",
       "      <td>6.000007e+17</td>\n",
       "      <td>31574.410</td>\n",
       "      <td>102.847</td>\n",
       "      <td>885.0</td>\n",
       "      <td>154.0</td>\n",
       "      <td>1.0</td>\n",
       "      <td>Oxidation</td>\n",
       "      <td>dry</td>\n",
       "      <td>1138.979159</td>\n",
       "      <td>O2</td>\n",
       "      <td>32.80</td>\n",
       "      <td>0.200</td>\n",
       "      <td>62.0</td>\n",
       "      <td>699.443</td>\n",
       "      <td>False</td>\n",
       "      <td>0</td>\n",
       "      <td>1</td>\n",
       "      <td>Photo</td>\n",
       "      <td>1.211940</td>\n",
       "      <td>13.891</td>\n",
       "      <td>15.025</td>\n",
       "      <td>20.000</td>\n",
       "      <td>198.792</td>\n",
       "      <td>90.001</td>\n",
       "      <td>504.589</td>\n",
       "      <td>4082.622</td>\n",
       "      <td>5184.620</td>\n",
       "      <td>5.044</td>\n",
       "      <td>90.894</td>\n",
       "      <td>30.009</td>\n",
       "      <td>1</td>\n",
       "      <td>30.959</td>\n",
       "      <td>H</td>\n",
       "      <td>405</td>\n",
       "      <td>516.657</td>\n",
       "      <td>109.769</td>\n",
       "      <td>True</td>\n",
       "      <td>0.0</td>\n",
       "      <td>3.0</td>\n",
       "      <td>Etching</td>\n",
       "      <td>70.878</td>\n",
       "      <td>50.851</td>\n",
       "      <td>1.047</td>\n",
       "      <td>251.0</td>\n",
       "      <td>267.06</td>\n",
       "      <td>303.82</td>\n",
       "      <td>361.38</td>\n",
       "      <td>3.679333</td>\n",
       "      <td>route_11133</td>\n",
       "      <td>0.480000</td>\n",
       "      <td>12</td>\n",
       "      <td>1279</td>\n",
       "      <td>0.532915</td>\n",
       "      <td>정상</td>\n",
       "    </tr>\n",
       "    <tr>\n",
       "      <th>1</th>\n",
       "      <td>102</td>\n",
       "      <td>NOLSM212</td>\n",
       "      <td>0</td>\n",
       "      <td>2.0</td>\n",
       "      <td>Implantation</td>\n",
       "      <td>9.705928e+15</td>\n",
       "      <td>1.389326e+17</td>\n",
       "      <td>3.838008e+17</td>\n",
       "      <td>3.017903e+17</td>\n",
       "      <td>6.000012e+17</td>\n",
       "      <td>31580.213</td>\n",
       "      <td>104.323</td>\n",
       "      <td>919.0</td>\n",
       "      <td>154.0</td>\n",
       "      <td>1.0</td>\n",
       "      <td>Oxidation</td>\n",
       "      <td>dry</td>\n",
       "      <td>1218.184551</td>\n",
       "      <td>O2</td>\n",
       "      <td>31.86</td>\n",
       "      <td>0.194</td>\n",
       "      <td>137.0</td>\n",
       "      <td>696.792</td>\n",
       "      <td>False</td>\n",
       "      <td>1</td>\n",
       "      <td>1</td>\n",
       "      <td>Photo</td>\n",
       "      <td>0.887720</td>\n",
       "      <td>14.722</td>\n",
       "      <td>15.059</td>\n",
       "      <td>19.995</td>\n",
       "      <td>198.747</td>\n",
       "      <td>89.998</td>\n",
       "      <td>492.196</td>\n",
       "      <td>3960.739</td>\n",
       "      <td>5065.197</td>\n",
       "      <td>5.058</td>\n",
       "      <td>92.334</td>\n",
       "      <td>29.997</td>\n",
       "      <td>2</td>\n",
       "      <td>29.653</td>\n",
       "      <td>H</td>\n",
       "      <td>405</td>\n",
       "      <td>501.894</td>\n",
       "      <td>107.102</td>\n",
       "      <td>True</td>\n",
       "      <td>1.0</td>\n",
       "      <td>2.0</td>\n",
       "      <td>Etching</td>\n",
       "      <td>69.561</td>\n",
       "      <td>52.283</td>\n",
       "      <td>1.051</td>\n",
       "      <td>317.0</td>\n",
       "      <td>332.74</td>\n",
       "      <td>369.31</td>\n",
       "      <td>426.11</td>\n",
       "      <td>3.637000</td>\n",
       "      <td>route_11222</td>\n",
       "      <td>0.532915</td>\n",
       "      <td>24</td>\n",
       "      <td>2211</td>\n",
       "      <td>0.460625</td>\n",
       "      <td>정상</td>\n",
       "    </tr>\n",
       "    <tr>\n",
       "      <th>2</th>\n",
       "      <td>95</td>\n",
       "      <td>NOLSM313</td>\n",
       "      <td>0</td>\n",
       "      <td>1.0</td>\n",
       "      <td>Implantation</td>\n",
       "      <td>1.761358e+16</td>\n",
       "      <td>8.782248e+16</td>\n",
       "      <td>6.014497e+17</td>\n",
       "      <td>2.994231e+17</td>\n",
       "      <td>6.000002e+17</td>\n",
       "      <td>32162.414</td>\n",
       "      <td>100.605</td>\n",
       "      <td>916.0</td>\n",
       "      <td>155.0</td>\n",
       "      <td>1.0</td>\n",
       "      <td>Oxidation</td>\n",
       "      <td>dry</td>\n",
       "      <td>1062.467808</td>\n",
       "      <td>O2</td>\n",
       "      <td>39.51</td>\n",
       "      <td>0.217</td>\n",
       "      <td>128.0</td>\n",
       "      <td>705.471</td>\n",
       "      <td>True</td>\n",
       "      <td>2</td>\n",
       "      <td>1</td>\n",
       "      <td>Photo</td>\n",
       "      <td>1.113156</td>\n",
       "      <td>19.205</td>\n",
       "      <td>14.964</td>\n",
       "      <td>19.997</td>\n",
       "      <td>202.139</td>\n",
       "      <td>90.000</td>\n",
       "      <td>499.886</td>\n",
       "      <td>3981.691</td>\n",
       "      <td>4873.417</td>\n",
       "      <td>5.151</td>\n",
       "      <td>91.868</td>\n",
       "      <td>30.005</td>\n",
       "      <td>3</td>\n",
       "      <td>28.063</td>\n",
       "      <td>I</td>\n",
       "      <td>365</td>\n",
       "      <td>506.750</td>\n",
       "      <td>110.471</td>\n",
       "      <td>True</td>\n",
       "      <td>2.0</td>\n",
       "      <td>1.0</td>\n",
       "      <td>Etching</td>\n",
       "      <td>70.968</td>\n",
       "      <td>51.610</td>\n",
       "      <td>1.017</td>\n",
       "      <td>411.0</td>\n",
       "      <td>424.21</td>\n",
       "      <td>460.65</td>\n",
       "      <td>517.80</td>\n",
       "      <td>3.560000</td>\n",
       "      <td>route_11311</td>\n",
       "      <td>0.460625</td>\n",
       "      <td>16</td>\n",
       "      <td>1742</td>\n",
       "      <td>0.544375</td>\n",
       "      <td>정상</td>\n",
       "    </tr>\n",
       "    <tr>\n",
       "      <th>3</th>\n",
       "      <td>117</td>\n",
       "      <td>NOLSM414</td>\n",
       "      <td>0</td>\n",
       "      <td>1.0</td>\n",
       "      <td>Implantation</td>\n",
       "      <td>1.148303e+16</td>\n",
       "      <td>9.776566e+16</td>\n",
       "      <td>6.646884e+16</td>\n",
       "      <td>2.991354e+17</td>\n",
       "      <td>6.000003e+17</td>\n",
       "      <td>32874.925</td>\n",
       "      <td>101.739</td>\n",
       "      <td>911.0</td>\n",
       "      <td>156.0</td>\n",
       "      <td>1.0</td>\n",
       "      <td>Oxidation</td>\n",
       "      <td>dry</td>\n",
       "      <td>1114.704773</td>\n",
       "      <td>O2</td>\n",
       "      <td>32.88</td>\n",
       "      <td>0.201</td>\n",
       "      <td>90.0</td>\n",
       "      <td>710.772</td>\n",
       "      <td>True</td>\n",
       "      <td>3</td>\n",
       "      <td>2</td>\n",
       "      <td>Photo</td>\n",
       "      <td>0.882195</td>\n",
       "      <td>16.368</td>\n",
       "      <td>14.944</td>\n",
       "      <td>19.998</td>\n",
       "      <td>199.649</td>\n",
       "      <td>90.001</td>\n",
       "      <td>505.249</td>\n",
       "      <td>3922.191</td>\n",
       "      <td>5131.972</td>\n",
       "      <td>5.069</td>\n",
       "      <td>91.881</td>\n",
       "      <td>29.997</td>\n",
       "      <td>1</td>\n",
       "      <td>31.556</td>\n",
       "      <td>I</td>\n",
       "      <td>365</td>\n",
       "      <td>537.603</td>\n",
       "      <td>107.072</td>\n",
       "      <td>True</td>\n",
       "      <td>3.0</td>\n",
       "      <td>1.0</td>\n",
       "      <td>Etching</td>\n",
       "      <td>70.146</td>\n",
       "      <td>51.286</td>\n",
       "      <td>1.027</td>\n",
       "      <td>256.0</td>\n",
       "      <td>272.28</td>\n",
       "      <td>308.56</td>\n",
       "      <td>365.93</td>\n",
       "      <td>3.664333</td>\n",
       "      <td>route_12111</td>\n",
       "      <td>0.544375</td>\n",
       "      <td>18</td>\n",
       "      <td>1677</td>\n",
       "      <td>0.465835</td>\n",
       "      <td>정상</td>\n",
       "    </tr>\n",
       "    <tr>\n",
       "      <th>4</th>\n",
       "      <td>143</td>\n",
       "      <td>NOLSM515</td>\n",
       "      <td>0</td>\n",
       "      <td>2.0</td>\n",
       "      <td>Implantation</td>\n",
       "      <td>9.769204e+15</td>\n",
       "      <td>1.222219e+17</td>\n",
       "      <td>2.496090e+17</td>\n",
       "      <td>3.005576e+17</td>\n",
       "      <td>6.000013e+17</td>\n",
       "      <td>30985.928</td>\n",
       "      <td>106.422</td>\n",
       "      <td>872.0</td>\n",
       "      <td>155.0</td>\n",
       "      <td>1.0</td>\n",
       "      <td>Oxidation</td>\n",
       "      <td>dry</td>\n",
       "      <td>989.411946</td>\n",
       "      <td>O2</td>\n",
       "      <td>38.11</td>\n",
       "      <td>0.204</td>\n",
       "      <td>98.0</td>\n",
       "      <td>716.975</td>\n",
       "      <td>True</td>\n",
       "      <td>4</td>\n",
       "      <td>2</td>\n",
       "      <td>Photo</td>\n",
       "      <td>0.834001</td>\n",
       "      <td>13.926</td>\n",
       "      <td>14.933</td>\n",
       "      <td>20.002</td>\n",
       "      <td>204.544</td>\n",
       "      <td>90.001</td>\n",
       "      <td>501.089</td>\n",
       "      <td>4124.099</td>\n",
       "      <td>5108.355</td>\n",
       "      <td>5.055</td>\n",
       "      <td>91.212</td>\n",
       "      <td>30.001</td>\n",
       "      <td>2</td>\n",
       "      <td>31.969</td>\n",
       "      <td>I</td>\n",
       "      <td>365</td>\n",
       "      <td>560.574</td>\n",
       "      <td>108.073</td>\n",
       "      <td>True</td>\n",
       "      <td>4.0</td>\n",
       "      <td>2.0</td>\n",
       "      <td>Etching</td>\n",
       "      <td>71.174</td>\n",
       "      <td>51.996</td>\n",
       "      <td>1.050</td>\n",
       "      <td>419.0</td>\n",
       "      <td>434.98</td>\n",
       "      <td>471.65</td>\n",
       "      <td>528.85</td>\n",
       "      <td>3.661667</td>\n",
       "      <td>route_12222</td>\n",
       "      <td>0.442085</td>\n",
       "      <td>20</td>\n",
       "      <td>2835</td>\n",
       "      <td>0.708750</td>\n",
       "      <td>과부화</td>\n",
       "    </tr>\n",
       "  </tbody>\n",
       "</table>\n",
       "</div>"
      ],
      "text/plain": [
       "   Target_x    No_Die Error_message  Chamber_Num      process4       Flux60s  \\\n",
       "0        96  NOLSM111             0          3.0  Implantation  9.997373e+15   \n",
       "1       102  NOLSM212             0          2.0  Implantation  9.705928e+15   \n",
       "2        95  NOLSM313             0          1.0  Implantation  1.761358e+16   \n",
       "3       117  NOLSM414             0          1.0  Implantation  1.148303e+16   \n",
       "4       143  NOLSM515             0          2.0  Implantation  9.769204e+15   \n",
       "\n",
       "        Flux90s      Flux160s      Flux480s      Flux840s  input_Energy  \\\n",
       "0  1.346079e+17  3.468281e+17  3.002593e+17  6.000007e+17     31574.410   \n",
       "1  1.389326e+17  3.838008e+17  3.017903e+17  6.000012e+17     31580.213   \n",
       "2  8.782248e+16  6.014497e+17  2.994231e+17  6.000002e+17     32162.414   \n",
       "3  9.776566e+16  6.646884e+16  2.991354e+17  6.000003e+17     32874.925   \n",
       "4  1.222219e+17  2.496090e+17  3.005576e+17  6.000013e+17     30985.928   \n",
       "\n",
       "   Temp_implantation  Furance_Temp  RTA_Temp  Ox_Chamber    process type  \\\n",
       "0            102.847         885.0     154.0         1.0  Oxidation  dry   \n",
       "1            104.323         919.0     154.0         1.0  Oxidation  dry   \n",
       "2            100.605         916.0     155.0         1.0  Oxidation  dry   \n",
       "3            101.739         911.0     156.0         1.0  Oxidation  dry   \n",
       "4            106.422         872.0     155.0         1.0  Oxidation  dry   \n",
       "\n",
       "     Temp_OXid Vapor    ppm  Pressure  Oxid_time  thickness Reinforcement  \\\n",
       "0  1138.979159    O2  32.80     0.200       62.0    699.443         False   \n",
       "1  1218.184551    O2  31.86     0.194      137.0    696.792         False   \n",
       "2  1062.467808    O2  39.51     0.217      128.0    705.471          True   \n",
       "3  1114.704773    O2  32.88     0.201       90.0    710.772          True   \n",
       "4   989.411946    O2  38.11     0.204       98.0    716.975          True   \n",
       "\n",
       "   Unnamed: 0_x  photo_soft_Chamber process 2  resist_target  N2_HMDS  \\\n",
       "0             0                   1     Photo       1.211940   13.891   \n",
       "1             1                   1     Photo       0.887720   14.722   \n",
       "2             2                   1     Photo       1.113156   19.205   \n",
       "3             3                   2     Photo       0.882195   16.368   \n",
       "4             4                   2     Photo       0.834001   13.926   \n",
       "\n",
       "   pressure_HMDS  temp_HMDS  temp_HMDS_bake  time_HMDS_bake    spin1  \\\n",
       "0         15.025     20.000         198.792          90.001  504.589   \n",
       "1         15.059     19.995         198.747          89.998  492.196   \n",
       "2         14.964     19.997         202.139          90.000  499.886   \n",
       "3         14.944     19.998         199.649          90.001  505.249   \n",
       "4         14.933     20.002         204.544          90.001  501.089   \n",
       "\n",
       "      spin2     spin3  photoresist_bake  temp_softbake  time_softbake  \\\n",
       "0  4082.622  5184.620             5.044         90.894         30.009   \n",
       "1  3960.739  5065.197             5.058         92.334         29.997   \n",
       "2  3981.691  4873.417             5.151         91.868         30.005   \n",
       "3  3922.191  5131.972             5.069         91.881         29.997   \n",
       "4  4124.099  5108.355             5.055         91.212         30.001   \n",
       "\n",
       "   lithography_Chamber  Line_CD UV_type  Wavelength  Resolution  \\\n",
       "0                    1   30.959       H         405     516.657   \n",
       "1                    2   29.653       H         405     501.894   \n",
       "2                    3   28.063       I         365     506.750   \n",
       "3                    1   31.556       I         365     537.603   \n",
       "4                    2   31.969       I         365     560.574   \n",
       "\n",
       "   Energy_Exposure  Range_check  Unnamed: 0_y  Etching_Chamber Process 3  \\\n",
       "0          109.769         True           0.0              3.0   Etching   \n",
       "1          107.102         True           1.0              2.0   Etching   \n",
       "2          110.471         True           2.0              1.0   Etching   \n",
       "3          107.072         True           3.0              1.0   Etching   \n",
       "4          108.073         True           4.0              2.0   Etching   \n",
       "\n",
       "   Temp_Etching  Source_Power  Selectivity  Thin Film 4  Thin Film 3  \\\n",
       "0        70.878        50.851        1.047        251.0       267.06   \n",
       "1        69.561        52.283        1.051        317.0       332.74   \n",
       "2        70.968        51.610        1.017        411.0       424.21   \n",
       "3        70.146        51.286        1.027        256.0       272.28   \n",
       "4        71.174        51.996        1.050        419.0       434.98   \n",
       "\n",
       "   Thin Film 2  Thin Film 1  Etching_rate Chamber_Route  Error_Rate_x  count  \\\n",
       "0       303.82       361.38      3.679333   route_11133      0.480000     12   \n",
       "1       369.31       426.11      3.637000   route_11222      0.532915     24   \n",
       "2       460.65       517.80      3.560000   route_11311      0.460625     16   \n",
       "3       308.56       365.93      3.664333   route_12111      0.544375     18   \n",
       "4       471.65       528.85      3.661667   route_12222      0.442085     20   \n",
       "\n",
       "   Target_y  Error_Rate_y 과부화여부  \n",
       "0      1279      0.532915    정상  \n",
       "1      2211      0.460625    정상  \n",
       "2      1742      0.544375    정상  \n",
       "3      1677      0.465835    정상  \n",
       "4      2835      0.708750   과부화  "
      ]
     },
     "execution_count": 572,
     "metadata": {},
     "output_type": "execute_result"
    }
   ],
   "source": [
    "df3 = pd.merge(df2,Chamber_Route_Table, on = 'Chamber_Route', how = 'left')\n",
    "print(df3.shape)\n",
    "df3.head()"
   ]
  },
  {
   "cell_type": "code",
   "execution_count": 573,
   "id": "7a8ff9a9",
   "metadata": {},
   "outputs": [
    {
     "data": {
      "text/plain": [
       "<AxesSubplot:xlabel='과부화여부', ylabel='count'>"
      ]
     },
     "execution_count": 573,
     "metadata": {},
     "output_type": "execute_result"
    },
    {
     "data": {
      "image/png": "[encoded data removed]",
      "text/plain": [
       "<Figure size 432x288 with 1 Axes>"
      ]
     },
     "metadata": {
      "image/png": {
       "height": 263,
       "width": 387
      },
      "needs_background": "light"
     },
     "output_type": "display_data"
    }
   ],
   "source": [
    "sns.countplot(data = df3, x = '과부화여부')"
   ]
  },
  {
   "cell_type": "code",
   "execution_count": 574,
   "id": "144cc8a4",
   "metadata": {},
   "outputs": [
    {
     "data": {
      "text/plain": [
       "<AxesSubplot:xlabel='thickness', ylabel='Count'>"
      ]
     },
     "execution_count": 574,
     "metadata": {},
     "output_type": "execute_result"
    },
    {
     "data": {
      "image/png": "[encoded data removed]",
      "text/plain": [
       "<Figure size 432x288 with 1 Axes>"
      ]
     },
     "metadata": {
      "image/png": {
       "height": 263,
       "width": 381
      },
      "needs_background": "light"
     },
     "output_type": "display_data"
    }
   ],
   "source": [
    "sns.histplot(data = df3, x = 'thickness',hue = '과부화여부', kde = True)"
   ]
  },
  {
   "cell_type": "code",
   "execution_count": 575,
   "id": "75467765",
   "metadata": {},
   "outputs": [
    {
     "data": {
      "text/plain": [
       "<AxesSubplot:xlabel='resist_target', ylabel='Count'>"
      ]
     },
     "execution_count": 575,
     "metadata": {},
     "output_type": "execute_result"
    },
    {
     "data": {
      "image/png": "[encoded data removed]",
      "text/plain": [
       "<Figure size 432x288 with 1 Axes>"
      ]
     },
     "metadata": {
      "image/png": {
       "height": 263,
       "width": 381
      },
      "needs_background": "light"
     },
     "output_type": "display_data"
    }
   ],
   "source": [
    "sns.histplot(data = df3, x = 'resist_target',hue = '과부화여부', kde = True)"
   ]
  },
  {
   "cell_type": "code",
   "execution_count": 576,
   "id": "c0ea3bc0",
   "metadata": {},
   "outputs": [
    {
     "data": {
      "text/plain": [
       "<AxesSubplot:xlabel='Etching_rate', ylabel='Count'>"
      ]
     },
     "execution_count": 576,
     "metadata": {},
     "output_type": "execute_result"
    },
    {
     "data": {
      "image/png": "[encoded data removed]",
      "text/plain": [
       "<Figure size 432x288 with 1 Axes>"
      ]
     },
     "metadata": {
      "image/png": {
       "height": 263,
       "width": 390
      },
      "needs_background": "light"
     },
     "output_type": "display_data"
    }
   ],
   "source": [
    "sns.histplot(data = df3, x = 'Etching_rate',hue = '과부화여부', kde = True)"
   ]
  },
  {
   "cell_type": "code",
   "execution_count": 582,
   "id": "1742540e",
   "metadata": {},
   "outputs": [],
   "source": [
    "df_all_numeric = df3[['ppm', 'Pressure', 'Oxid_time', 'thickness', 'resist_target', \n",
    "                      'N2_HMDS', 'pressure_HMDS', 'temp_HMDS', 'temp_HMDS_bake', 'time_HMDS_bake', \n",
    "                      'spin1', 'spin2', 'spin3', 'photoresist_bake', 'temp_softbake', 'time_softbake', \n",
    "                      'Line_CD', 'Resolution', 'Energy_Exposure', 'Temp_Etching', 'Source_Power', \n",
    "                     'Selectivity', 'Etching_rate', 'Flux60s', 'Flux90s', 'Flux160s', 'Flux480s', 'Flux840s',\n",
    "                     'input_Energy', 'Temp_implantation', 'Furance_Temp', 'RTA_Temp','Target_x', 'Error_Rate_x',\n",
    "                      '과부화여부']]"
   ]
  },
  {
   "cell_type": "code",
   "execution_count": null,
   "id": "751546a5",
   "metadata": {},
   "outputs": [],
   "source": [
    "sns.pairplot(df_all_numeric)"
   ]
  },
  {
   "cell_type": "code",
   "execution_count": null,
   "id": "a382287a",
   "metadata": {},
   "outputs": [],
   "source": []
  },
  {
   "cell_type": "code",
   "execution_count": null,
   "id": "ea76a6af",
   "metadata": {},
   "outputs": [],
   "source": []
  },
  {
   "cell_type": "code",
   "execution_count": null,
   "id": "cdb1c04c",
   "metadata": {},
   "outputs": [],
   "source": []
  },
  {
   "cell_type": "code",
   "execution_count": null,
   "id": "173a5fe4",
   "metadata": {},
   "outputs": [],
   "source": []
  },
  {
   "cell_type": "code",
   "execution_count": null,
   "id": "07e6ff43",
   "metadata": {},
   "outputs": [],
   "source": []
  }
 ],
 "metadata": {
  "kernelspec": {
   "display_name": "Python 3 (ipykernel)",
   "language": "python",
   "name": "python3"
  },
  "language_info": {
   "codemirror_mode": {
    "name": "ipython",
    "version": 3
   },
   "file_extension": ".py",
   "mimetype": "text/x-python",
   "name": "python",
   "nbconvert_exporter": "python",
   "pygments_lexer": "ipython3",
   "version": "3.9.7"
  }
 },
 "nbformat": 4,
 "nbformat_minor": 5
}
