{
 "cells": [
  {
   "cell_type": "code",
   "execution_count": 73,
   "id": "18417ddf",
   "metadata": {},
   "outputs": [],
   "source": [
    "import pandas as pd\n",
    "import numpy as np"
   ]
  },
  {
   "cell_type": "code",
   "execution_count": 74,
   "id": "a6ba37c4",
   "metadata": {},
   "outputs": [],
   "source": [
    "table1 = pd.read_csv('C:/Users/black/Downloads/솔트룩스/day3 data/store_market_data.csv')"
   ]
  },
  {
   "cell_type": "code",
   "execution_count": 17,
   "id": "4633428e",
   "metadata": {},
   "outputs": [
    {
     "data": {
      "text/html": [
       "<div>\n",
       "<style scoped>\n",
       "    .dataframe tbody tr th:only-of-type {\n",
       "        vertical-align: middle;\n",
       "    }\n",
       "\n",
       "    .dataframe tbody tr th {\n",
       "        vertical-align: top;\n",
       "    }\n",
       "\n",
       "    .dataframe thead th {\n",
       "        text-align: right;\n",
       "    }\n",
       "</style>\n",
       "<table border=\"1\" class=\"dataframe\">\n",
       "  <thead>\n",
       "    <tr style=\"text-align: right;\">\n",
       "      <th></th>\n",
       "      <th>구매금액</th>\n",
       "    </tr>\n",
       "    <tr>\n",
       "      <th>회원번호</th>\n",
       "      <th></th>\n",
       "    </tr>\n",
       "  </thead>\n",
       "  <tbody>\n",
       "    <tr>\n",
       "      <th>1670400000</th>\n",
       "      <td>38171716</td>\n",
       "    </tr>\n",
       "    <tr>\n",
       "      <th>436681536</th>\n",
       "      <td>22549159</td>\n",
       "    </tr>\n",
       "    <tr>\n",
       "      <th>381879424</th>\n",
       "      <td>17294603</td>\n",
       "    </tr>\n",
       "    <tr>\n",
       "      <th>635659584</th>\n",
       "      <td>16175518</td>\n",
       "    </tr>\n",
       "    <tr>\n",
       "      <th>444617792</th>\n",
       "      <td>15037518</td>\n",
       "    </tr>\n",
       "  </tbody>\n",
       "</table>\n",
       "</div>"
      ],
      "text/plain": [
       "                구매금액\n",
       "회원번호                \n",
       "1670400000  38171716\n",
       "436681536   22549159\n",
       "381879424   17294603\n",
       "635659584   16175518\n",
       "444617792   15037518"
      ]
     },
     "execution_count": 17,
     "metadata": {},
     "output_type": "execute_result"
    }
   ],
   "source": [
    "pd.pivot_table(data = table1, index = '회원번호',values = '구매금액',aggfunc = 'sum').sort_values(by='구매금액', ascending=False).head(5)"
   ]
  },
  {
   "cell_type": "code",
   "execution_count": 75,
   "id": "74810819",
   "metadata": {},
   "outputs": [
    {
     "data": {
      "text/html": [
       "<div>\n",
       "<style scoped>\n",
       "    .dataframe tbody tr th:only-of-type {\n",
       "        vertical-align: middle;\n",
       "    }\n",
       "\n",
       "    .dataframe tbody tr th {\n",
       "        vertical-align: top;\n",
       "    }\n",
       "\n",
       "    .dataframe thead th {\n",
       "        text-align: right;\n",
       "    }\n",
       "</style>\n",
       "<table border=\"1\" class=\"dataframe\">\n",
       "  <thead>\n",
       "    <tr style=\"text-align: right;\">\n",
       "      <th></th>\n",
       "      <th></th>\n",
       "      <th>구매금액</th>\n",
       "    </tr>\n",
       "    <tr>\n",
       "      <th>요일</th>\n",
       "      <th>물품대분류</th>\n",
       "      <th></th>\n",
       "    </tr>\n",
       "  </thead>\n",
       "  <tbody>\n",
       "    <tr>\n",
       "      <th>월</th>\n",
       "      <th>축산물</th>\n",
       "      <td>345343132</td>\n",
       "    </tr>\n",
       "    <tr>\n",
       "      <th>금</th>\n",
       "      <th>축산물</th>\n",
       "      <td>335868647</td>\n",
       "    </tr>\n",
       "    <tr>\n",
       "      <th>화</th>\n",
       "      <th>축산물</th>\n",
       "      <td>319417282</td>\n",
       "    </tr>\n",
       "    <tr>\n",
       "      <th>수</th>\n",
       "      <th>축산물</th>\n",
       "      <td>301478654</td>\n",
       "    </tr>\n",
       "    <tr>\n",
       "      <th>목</th>\n",
       "      <th>축산물</th>\n",
       "      <td>299340046</td>\n",
       "    </tr>\n",
       "  </tbody>\n",
       "</table>\n",
       "</div>"
      ],
      "text/plain": [
       "               구매금액\n",
       "요일 물품대분류           \n",
       "월  축산물    345343132\n",
       "금  축산물    335868647\n",
       "화  축산물    319417282\n",
       "수  축산물    301478654\n",
       "목  축산물    299340046"
      ]
     },
     "execution_count": 75,
     "metadata": {},
     "output_type": "execute_result"
    }
   ],
   "source": [
    "df = pd.pivot_table(data = table1, index = ['요일','물품대분류'],values = '구매금액',aggfunc = 'sum').sort_values(by='구매금액', ascending=False).head()\n",
    "df"
   ]
  },
  {
   "cell_type": "code",
   "execution_count": 80,
   "id": "aced5713",
   "metadata": {},
   "outputs": [
    {
     "data": {
      "text/html": [
       "<div>\n",
       "<style scoped>\n",
       "    .dataframe tbody tr th:only-of-type {\n",
       "        vertical-align: middle;\n",
       "    }\n",
       "\n",
       "    .dataframe tbody tr th {\n",
       "        vertical-align: top;\n",
       "    }\n",
       "\n",
       "    .dataframe thead th {\n",
       "        text-align: right;\n",
       "    }\n",
       "</style>\n",
       "<table border=\"1\" class=\"dataframe\">\n",
       "  <thead>\n",
       "    <tr style=\"text-align: right;\">\n",
       "      <th></th>\n",
       "      <th></th>\n",
       "      <th>구매금액</th>\n",
       "    </tr>\n",
       "    <tr>\n",
       "      <th>요일</th>\n",
       "      <th>물품대분류</th>\n",
       "      <th></th>\n",
       "    </tr>\n",
       "  </thead>\n",
       "  <tbody>\n",
       "    <tr>\n",
       "      <th>월</th>\n",
       "      <th>축산물</th>\n",
       "      <td>345343132</td>\n",
       "    </tr>\n",
       "  </tbody>\n",
       "</table>\n",
       "</div>"
      ],
      "text/plain": [
       "               구매금액\n",
       "요일 물품대분류           \n",
       "월  축산물    345343132"
      ]
     },
     "execution_count": 80,
     "metadata": {},
     "output_type": "execute_result"
    }
   ],
   "source": [
    "df.loc[['월']]"
   ]
  },
  {
   "cell_type": "code",
   "execution_count": 68,
   "id": "f1672cf8",
   "metadata": {},
   "outputs": [
    {
     "data": {
      "text/html": [
       "<div>\n",
       "<style scoped>\n",
       "    .dataframe tbody tr th:only-of-type {\n",
       "        vertical-align: middle;\n",
       "    }\n",
       "\n",
       "    .dataframe tbody tr th {\n",
       "        vertical-align: top;\n",
       "    }\n",
       "\n",
       "    .dataframe thead th {\n",
       "        text-align: right;\n",
       "    }\n",
       "</style>\n",
       "<table border=\"1\" class=\"dataframe\">\n",
       "  <thead>\n",
       "    <tr style=\"text-align: right;\">\n",
       "      <th></th>\n",
       "      <th>구매금액</th>\n",
       "    </tr>\n",
       "    <tr>\n",
       "      <th>연령대</th>\n",
       "      <th></th>\n",
       "    </tr>\n",
       "  </thead>\n",
       "  <tbody>\n",
       "    <tr>\n",
       "      <th>50대</th>\n",
       "      <td>11583.128810</td>\n",
       "    </tr>\n",
       "    <tr>\n",
       "      <th>70대이상</th>\n",
       "      <td>11527.875457</td>\n",
       "    </tr>\n",
       "    <tr>\n",
       "      <th>60대</th>\n",
       "      <td>11343.971437</td>\n",
       "    </tr>\n",
       "    <tr>\n",
       "      <th>40대</th>\n",
       "      <td>10630.787030</td>\n",
       "    </tr>\n",
       "    <tr>\n",
       "      <th>30대이하</th>\n",
       "      <td>9851.578963</td>\n",
       "    </tr>\n",
       "  </tbody>\n",
       "</table>\n",
       "</div>"
      ],
      "text/plain": [
       "               구매금액\n",
       "연령대                \n",
       "50대    11583.128810\n",
       "70대이상  11527.875457\n",
       "60대    11343.971437\n",
       "40대    10630.787030\n",
       "30대이하   9851.578963"
      ]
     },
     "execution_count": 68,
     "metadata": {},
     "output_type": "execute_result"
    }
   ],
   "source": [
    "pd.pivot_table(data = table1, index = '연령대',values = '구매금액').sort_values(by='구매금액', ascending=False).head()"
   ]
  },
  {
   "cell_type": "code",
   "execution_count": 71,
   "id": "d523fcb1",
   "metadata": {
    "scrolled": true
   },
   "outputs": [
    {
     "data": {
      "text/html": [
       "<div>\n",
       "<style scoped>\n",
       "    .dataframe tbody tr th:only-of-type {\n",
       "        vertical-align: middle;\n",
       "    }\n",
       "\n",
       "    .dataframe tbody tr th {\n",
       "        vertical-align: top;\n",
       "    }\n",
       "\n",
       "    .dataframe thead th {\n",
       "        text-align: right;\n",
       "    }\n",
       "</style>\n",
       "<table border=\"1\" class=\"dataframe\">\n",
       "  <thead>\n",
       "    <tr style=\"text-align: right;\">\n",
       "      <th></th>\n",
       "      <th>구매금액</th>\n",
       "    </tr>\n",
       "    <tr>\n",
       "      <th>공급일자</th>\n",
       "      <th></th>\n",
       "    </tr>\n",
       "  </thead>\n",
       "  <tbody>\n",
       "    <tr>\n",
       "      <th>2018-04-15</th>\n",
       "      <td>21877349</td>\n",
       "    </tr>\n",
       "    <tr>\n",
       "      <th>2018-04-29</th>\n",
       "      <td>21638861</td>\n",
       "    </tr>\n",
       "    <tr>\n",
       "      <th>2018-04-01</th>\n",
       "      <td>21490639</td>\n",
       "    </tr>\n",
       "    <tr>\n",
       "      <th>2018-06-17</th>\n",
       "      <td>21340313</td>\n",
       "    </tr>\n",
       "    <tr>\n",
       "      <th>2018-03-18</th>\n",
       "      <td>20817585</td>\n",
       "    </tr>\n",
       "  </tbody>\n",
       "</table>\n",
       "</div>"
      ],
      "text/plain": [
       "                구매금액\n",
       "공급일자                \n",
       "2018-04-15  21877349\n",
       "2018-04-29  21638861\n",
       "2018-04-01  21490639\n",
       "2018-06-17  21340313\n",
       "2018-03-18  20817585"
      ]
     },
     "execution_count": 71,
     "metadata": {},
     "output_type": "execute_result"
    }
   ],
   "source": [
    "pd.pivot_table(data = table1, index = '공급일자',values = '구매금액',aggfunc = 'sum').sort_values(by='구매금액', ascending=False).tail()"
   ]
  },
  {
   "cell_type": "code",
   "execution_count": 72,
   "id": "538826c1",
   "metadata": {},
   "outputs": [
    {
     "data": {
      "text/html": [
       "<div>\n",
       "<style scoped>\n",
       "    .dataframe tbody tr th:only-of-type {\n",
       "        vertical-align: middle;\n",
       "    }\n",
       "\n",
       "    .dataframe tbody tr th {\n",
       "        vertical-align: top;\n",
       "    }\n",
       "\n",
       "    .dataframe thead th {\n",
       "        text-align: right;\n",
       "    }\n",
       "</style>\n",
       "<table border=\"1\" class=\"dataframe\">\n",
       "  <thead>\n",
       "    <tr style=\"text-align: right;\">\n",
       "      <th></th>\n",
       "      <th>구매금액</th>\n",
       "    </tr>\n",
       "    <tr>\n",
       "      <th>공급주차</th>\n",
       "      <th></th>\n",
       "    </tr>\n",
       "  </thead>\n",
       "  <tbody>\n",
       "    <tr>\n",
       "      <th>6</th>\n",
       "      <td>382359856</td>\n",
       "    </tr>\n",
       "    <tr>\n",
       "      <th>7</th>\n",
       "      <td>367806188</td>\n",
       "    </tr>\n",
       "    <tr>\n",
       "      <th>4</th>\n",
       "      <td>319554190</td>\n",
       "    </tr>\n",
       "    <tr>\n",
       "      <th>5</th>\n",
       "      <td>312613161</td>\n",
       "    </tr>\n",
       "    <tr>\n",
       "      <th>9</th>\n",
       "      <td>302163801</td>\n",
       "    </tr>\n",
       "  </tbody>\n",
       "</table>\n",
       "</div>"
      ],
      "text/plain": [
       "           구매금액\n",
       "공급주차           \n",
       "6     382359856\n",
       "7     367806188\n",
       "4     319554190\n",
       "5     312613161\n",
       "9     302163801"
      ]
     },
     "execution_count": 72,
     "metadata": {},
     "output_type": "execute_result"
    }
   ],
   "source": [
    "pd.pivot_table(data = table1, index = '공급주차',values = '구매금액',aggfunc = 'sum').sort_values(by='구매금액', ascending=False).head()"
   ]
  }
 ],
 "metadata": {
  "kernelspec": {
   "display_name": "Python 3",
   "language": "python",
   "name": "python3"
  },
  "language_info": {
   "codemirror_mode": {
    "name": "ipython",
    "version": 3
   },
   "file_extension": ".py",
   "mimetype": "text/x-python",
   "name": "python",
   "nbconvert_exporter": "python",
   "pygments_lexer": "ipython3",
   "version": "3.8.8"
  }
 },
 "nbformat": 4,
 "nbformat_minor": 5
}
